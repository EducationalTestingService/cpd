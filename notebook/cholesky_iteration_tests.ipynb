{
 "cells": [
  {
   "cell_type": "markdown",
   "id": "6ebd6ecd-ff99-43ed-b9f5-f1a22b209196",
   "metadata": {},
   "source": [
    "# EBLP Block Covariance Matrix $G$ Estimation - Attempts to Iteratively Estimate its Cholesky Factor  "
   ]
  },
  {
   "cell_type": "code",
   "execution_count": 3,
   "id": "7dfc171c-520f-45fd-bfeb-fa11e397a760",
   "metadata": {},
   "outputs": [],
   "source": [
    "#import cvxpy as cp\n",
    "import collections\n",
    "import itertools\n",
    "import matplotlib.pyplot as plt\n",
    "import numpy as np\n",
    "import pandas as pd\n",
    "import os\n",
    "import scipy.optimize\n",
    "import scipy.sparse\n",
    "from numpy.linalg import norm\n",
    "\n",
    "import eblp\n",
    "import eblp.cov_estimate as cov\n",
    "\n",
    "np.set_printoptions(linewidth=150, precision=2, suppress=False)\n",
    "\n",
    "%load_ext autoreload\n",
    "%autoreload 2"
   ]
  },
  {
   "cell_type": "markdown",
   "id": "d9d02a1d-ec8e-4b97-b91b-31a72321703e",
   "metadata": {},
   "source": [
    "## Load Example Data"
   ]
  },
  {
   "cell_type": "code",
   "execution_count": 4,
   "id": "ac2126fc-7926-4760-b92a-8f8118cb6cee",
   "metadata": {},
   "outputs": [],
   "source": [
    "#DATA_DIR = \"../data/RealDataExample\"\n",
    "DATA_DIR = \"../data/Oren_example\"\n",
    "a_file_name = os.path.join(DATA_DIR, \"A.txt\")\n",
    "c_file_name = os.path.join(DATA_DIR, \"C.txt\")\n",
    "w_file_name = os.path.join(DATA_DIR, \"Weights_BxB.txt\")\n",
    "pi_file_name = os.path.join(DATA_DIR, \"Pi_s.txt\")\n",
    "a, c, w, r, p = eblp.data.load_data(a_file_name, c_file_name, w_file_name, pi_file_name)"
   ]
  },
  {
   "cell_type": "markdown",
   "id": "26e2bf5d-2202-4aa9-85bb-2cc5f8f30945",
   "metadata": {},
   "source": [
    "## Check Existing Solution Quality\n",
    "Baseline residual from Katherine's R-code: $\\|f(G^*)\\|/\\|C\\| \\approx 0.04$."
   ]
  },
  {
   "cell_type": "code",
   "execution_count": 6,
   "id": "73da956b-6d0c-41fd-99f4-1063ca499f70",
   "metadata": {},
   "outputs": [
    {
     "name": "stdout",
     "output_type": "stream",
     "text": [
      "G = A G* A'\n",
      "lam(G^*) [-1.7e+01 -6.8e+00  8.4e-02  8.2e+00  1.8e+01  4.0e+01  6.3e+01  6.8e+01  1.1e+02  1.6e+02  1.9e+02]\n",
      "lam [-1.9e+01 -1.3e+01  4.2e-15  1.3e-01  1.7e+01  2.4e+01  4.6e+01  6.3e+01  7.3e+01  1.2e+02  1.7e+02  2.0e+02]\n",
      "res 0.0408\n",
      "\n",
      "G = edited(A G* A')\n",
      "lam [1.8e-15 3.2e-14 9.6e-14 1.3e-01 1.7e+01 2.4e+01 4.6e+01 6.3e+01 7.3e+01 1.2e+02 1.7e+02 2.0e+02]\n",
      "res 0.0847\n",
      "\n",
      "G = A edited(G*) A'\n",
      "lam [-5.9e-14  1.7e-14  1.0e-13  1.5e-01  1.7e+01  2.8e+01  4.9e+01  6.3e+01  7.5e+01  1.2e+02  1.7e+02  2.0e+02]\n",
      "res 0.1118\n",
      "\n"
     ]
    },
    {
     "data": {
      "image/png": "[encoded data removed]",
      "text/plain": [
       "<Figure size 432x288 with 1 Axes>"
      ]
     },
     "metadata": {
      "needs_background": "light"
     },
     "output_type": "display_data"
    }
   ],
   "source": [
    "gs = np.loadtxt(os.path.join(DATA_DIR, \"Gstar.txt\"))\n",
    "g = a @ gs @ a.T\n",
    "lam = np.sort(np.linalg.eig(g)[0])\n",
    "lam_g = np.sort(np.linalg.eig(gs)[0])\n",
    "print(\"G = A G* A'\")\n",
    "print(\"lam(G^*) {}\".format(np.array2string(lam_g, precision=1)))\n",
    "print(\"lam {}\".format(np.array2string(lam, precision=1)))\n",
    "print(\"res {:.4f}\".format(norm(cov.f(gs, p) - c) / norm(c)))\n",
    "print(\"\")\n",
    "\n",
    "g_edited = np.loadtxt(os.path.join(DATA_DIR, \"G.txt\"))\n",
    "lam_edited = np.sort(np.linalg.eig(g_edited)[0])\n",
    "print(\"G = edited(A G* A')\")\n",
    "print(\"lam {}\".format(np.array2string(lam_edited, precision=1)))\n",
    "print(\"res {:.4f}\".format(norm(cov.f(g_edited, r) - c) / norm(c)))\n",
    "print(\"\")\n",
    "\n",
    "gs_edited = np.loadtxt(os.path.join(DATA_DIR, \"Gstar_edited.txt\"))\n",
    "g2_edited = a @ gs_edited @ a.T\n",
    "lam2_edited = np.sort(np.linalg.eig(g2_edited)[0])\n",
    "print(\"G = A edited(G*) A'\")\n",
    "print(\"lam {}\".format(np.array2string(lam2_edited, precision=1)))\n",
    "print(\"res {:.4f}\".format(norm(cov.f(g2_edited, r) - c) / norm(c)))\n",
    "print(\"\")\n",
    "\n",
    "plt.plot(lam, 'o', label=\"$A G^* A^T$\")\n",
    "plt.plot(lam_edited, 'o', label=\"$edited(A G^* A^T$)\")\n",
    "plt.plot(lam2_edited, 'o', label=\"$A edited(G^*) A^T$\")\n",
    "plt.xlabel(\"$i$\")\n",
    "plt.ylabel(\"$\\lambda_i$\")\n",
    "plt.legend();\n",
    "\n",
    "#gs = np.loadtxt(os.path.join(data_dir, \"Gstar.txt\"))\n",
    "#lam = np.sort(np.linalg.eig(gs)[0])"
   ]
  },
  {
   "cell_type": "markdown",
   "id": "dd292c7a-7658-4bff-bfde-79db6bf9b1bf",
   "metadata": {},
   "source": [
    "## Reproducing Current Solution Procedure"
   ]
  },
  {
   "cell_type": "markdown",
   "id": "1c81eba9-f420-4557-9701-db93d72bc84b",
   "metadata": {},
   "source": [
    "### Recoding $G^*$ to a vector\n",
    "Each $f$-term is of the form $P G^* P^T$. More generally, when we write $G^* = LL^T$ and freeze one of the terms in the Cholesky product, we will obtain terms of the form $P L L_{prev}^T P^T = P L (P L_{prev})^T = P L Q^T$ where $P \\not = Q$. So we first focus on recoding the function \n",
    "\n",
    "$$h(G) := P G Q^T$$ \n",
    "\n",
    "into the form $H g$, where $g$ consists of the lower-dimensional part of $G$ (including the diagonal). Here\n",
    "* $P: m \\times n$.\n",
    "* $G: n \\times n$.\n",
    "* $Q: m \\times n$.\n",
    "* $F: \\frac{m (m+1)}{2} \\times \\frac{n (n+1)}{2}$.\n",
    "* $g$: vector of size $\\frac{n (n+1)}{2}$.\n",
    "\n",
    "In the original equations, $m = B, n = B - 1$, and $Q = P$ in all terms appearing in $f$.\n",
    "\n",
    "$$ (h(G))_{ij} = (P LG Q^T)_{ij} = \\sum_{l,k=0}^{n-1} P_{ik} Q_{jk} G_{kl} = \\sum_{r=0}^{n(n-1)/2} P_{ik} Q_{jk} g_{r(k,l)}$$"
   ]
  },
  {
   "cell_type": "code",
   "execution_count": 7,
   "id": "1d6ecade-b87c-41bb-8a9c-dd213160c9a1",
   "metadata": {},
   "outputs": [],
   "source": [
    "# Set up the flattened system to solve for G^*.\n",
    "H = cov.matrix_function_to_matrix_sum(p, p)\n",
    "c_vector = eblp.linalg.unravel_lower(c)"
   ]
  },
  {
   "cell_type": "code",
   "execution_count": 8,
   "id": "c60f9ffb-aa31-44c6-abe2-c452bc54f000",
   "metadata": {},
   "outputs": [
    {
     "name": "stdout",
     "output_type": "stream",
     "text": [
      "Difference between f(G) and h(G) = 2.52e-14\n",
      "CPU times: user 1.25 ms, sys: 98 µs, total: 1.35 ms\n",
      "Wall time: 701 µs\n",
      "Difference between G^* loaded from file and LS solution = 1.66e-14\n",
      "LS problem size (78, 66)\n",
      "LS residual Flattened 0.04079483888841204 Original 0.04079483888841188\n",
      "LS residual of G*_edited Flattened 0.11178333880319918 Original 0.11178333880319881\n"
     ]
    }
   ],
   "source": [
    "# Full sanity check of flattened (matrix * vector) vs. original matrix function.\n",
    "D = cov.norm_weight_matrix(p[0].shape[0])\n",
    "H = cov.matrix_function_to_matrix_sum(p, p)\n",
    "c_vector = eblp.linalg.unravel_lower(c)\n",
    "\n",
    "# Variable G, lower triangular part, flattened.\n",
    "g = cov.unravel_solution_matrix(gs)\n",
    "\n",
    "# Matrix function, lower triangular part, flattened.\n",
    "f_unraveled = eblp.linalg.unravel_lower(cov.f(gs, p))\n",
    "n = len(c_vector)\n",
    "print(\"Difference between f(G) and h(G) = {:.2e}\".format(\n",
    "    norm(f_unraveled.flatten() - (H @ g).flatten()) / n))\n",
    "\n",
    "%time g_vector = np.linalg.lstsq(H, c_vector, rcond=None)[0]\n",
    "print(\"Difference between G^* loaded from file and LS solution = {:.2e}\".format(\n",
    "    norm(np.array(g_vector).flatten() - np.array(g).flatten()) / n))\n",
    "\n",
    "print(\"LS problem size\", H.shape)\n",
    "print(\"LS residual\",\n",
    "      \"Flattened\", norm(D @ (H @ g_vector - c_vector)) / norm(D @ (c_vector)), \n",
    "      \"Original\", norm((cov.f(gs, p) - c)/norm(c)))\n",
    "\n",
    "gs_edited_vector = cov.unravel_solution_matrix(gs_edited)\n",
    "\n",
    "print(\"LS residual of G*_edited\", \n",
    "      \"Flattened\", norm(D @ (H @ gs_edited_vector - c_vector)) / norm(D @ (c_vector)), \n",
    "      \"Original\", norm((cov.f(gs_edited, p) - c)/norm(c)))"
   ]
  },
  {
   "cell_type": "code",
   "execution_count": 9,
   "id": "fae91e03-759e-4008-8ea4-b479a3385301",
   "metadata": {},
   "outputs": [
    {
     "name": "stdout",
     "output_type": "stream",
     "text": [
      "0.04079483888841205 0.11178345241600336\n",
      "4.791283929485247e-08\n"
     ]
    }
   ],
   "source": [
    "# A small change in the solution G^* causes a large change in function value f.\n",
    "g_vector = np.linalg.lstsq(H, c_vector, rcond=None)[0]\n",
    "gs = cov.ravel_solution_matrix(g_vector)\n",
    "gs = gs + gs.T - np.diag(np.diag(gs))\n",
    "lam, q = np.linalg.eig(gs)\n",
    "gs_truncated = q @ np.diag(np.clip(lam, 1e-5, None)) @ q.T\n",
    "print(norm((cov.f(gs, p) - c)/norm(c)), norm((cov.f(gs_truncated, p) - c)/norm(c)))\n",
    "print(norm(gs_truncated - gs_edited) / norm(gs_edited))"
   ]
  },
  {
   "cell_type": "code",
   "execution_count": 10,
   "id": "a60f23c5-dcdb-43b2-b5ce-12463de46091",
   "metadata": {},
   "outputs": [
    {
     "data": {
      "text/plain": [
       "(array([[-0.004, -0.001, -0.002, -0.004, -0.003, -0.002, -0.009, -0.001, -0.003, -0.006, -0.004, -0.003],\n",
       "        [-0.001,  0.003,  0.006,  0.003,  0.003,  0.005, -0.002,  0.006,  0.005,  0.001,  0.003,  0.005],\n",
       "        [-0.002,  0.006,  0.002,  0.002,  0.002,  0.004, -0.004,  0.005,  0.004, -0.   ,  0.002,  0.004],\n",
       "        [-0.004,  0.003,  0.002, -0.   ,  0.   ,  0.002, -0.006,  0.003,  0.001, -0.003, -0.001,  0.001],\n",
       "        [-0.003,  0.003,  0.002,  0.   ,  0.   ,  0.002, -0.005,  0.003,  0.001, -0.002, -0.   ,  0.002],\n",
       "        [-0.002,  0.005,  0.004,  0.002,  0.002,  0.002, -0.003,  0.004,  0.003, -0.   ,  0.002,  0.003],\n",
       "        [-0.009, -0.002, -0.004, -0.006, -0.005, -0.003, -0.005, -0.002, -0.004, -0.008, -0.006, -0.004],\n",
       "        [-0.001,  0.006,  0.005,  0.003,  0.003,  0.004, -0.002,  0.002,  0.004,  0.   ,  0.002,  0.004],\n",
       "        [-0.003,  0.005,  0.004,  0.001,  0.001,  0.003, -0.004,  0.004,  0.001, -0.001,  0.001,  0.003],\n",
       "        [-0.006,  0.001, -0.   , -0.003, -0.002, -0.   , -0.008,  0.   , -0.001, -0.003, -0.003, -0.001],\n",
       "        [-0.004,  0.003,  0.002, -0.001, -0.   ,  0.002, -0.006,  0.002,  0.001, -0.003, -0.   ,  0.001],\n",
       "        [-0.003,  0.005,  0.004,  0.001,  0.002,  0.003, -0.004,  0.004,  0.003, -0.001,  0.001,  0.001]]),\n",
       " array([[-0.004, -0.001, -0.002, -0.004, -0.003, -0.002, -0.009, -0.001, -0.003, -0.006, -0.004, -0.003],\n",
       "        [-0.001,  0.003,  0.006,  0.003,  0.003,  0.005, -0.002,  0.006,  0.005,  0.001,  0.003,  0.005],\n",
       "        [-0.002,  0.006,  0.002,  0.002,  0.002,  0.004, -0.004,  0.005,  0.004, -0.   ,  0.002,  0.004],\n",
       "        [-0.004,  0.003,  0.002, -0.   ,  0.   ,  0.002, -0.006,  0.003,  0.001, -0.003, -0.001,  0.001],\n",
       "        [-0.003,  0.003,  0.002,  0.   ,  0.   ,  0.002, -0.005,  0.003,  0.001, -0.002, -0.   ,  0.002],\n",
       "        [-0.002,  0.005,  0.004,  0.002,  0.002,  0.002, -0.003,  0.004,  0.003, -0.   ,  0.002,  0.003],\n",
       "        [-0.009, -0.002, -0.004, -0.006, -0.005, -0.003, -0.005, -0.002, -0.004, -0.008, -0.006, -0.004],\n",
       "        [-0.001,  0.006,  0.005,  0.003,  0.003,  0.004, -0.002,  0.002,  0.004,  0.   ,  0.002,  0.004],\n",
       "        [-0.003,  0.005,  0.004,  0.001,  0.001,  0.003, -0.004,  0.004,  0.001, -0.001,  0.001,  0.003],\n",
       "        [-0.006,  0.001, -0.   , -0.003, -0.002, -0.   , -0.008,  0.   , -0.001, -0.003, -0.003, -0.001],\n",
       "        [-0.004,  0.003,  0.002, -0.001, -0.   ,  0.002, -0.006,  0.002,  0.001, -0.003, -0.   ,  0.001],\n",
       "        [-0.003,  0.005,  0.004,  0.001,  0.002,  0.003, -0.004,  0.004,  0.003, -0.001,  0.001,  0.001]]))"
      ]
     },
     "execution_count": 10,
     "metadata": {},
     "output_type": "execute_result"
    }
   ],
   "source": [
    "(cov.f(gs, p) - c)/norm(c), (cov.f(gs, p) - c)/norm(c)"
   ]
  },
  {
   "cell_type": "markdown",
   "id": "20a65078-dafa-4eff-9416-74ec7f4e79e7",
   "metadata": {},
   "source": [
    "<!-- ## School Fixed Effect Constraints\n",
    "The original problem for $G$ (instead of $G^*$) is a zero-sum constrained least squares:\n",
    "\n",
    "$$ \\min_g \\|f(G) - C \\|^2_2 $$\n",
    "$$ 1^T G = 0 $$\n",
    "\n",
    "Recoding into a flattened form, this beecomes\n",
    "\n",
    "$$ \\min_g \\| F g - c \\|^2_2 $$\n",
    "$$ R g = 0 $$ -->"
   ]
  },
  {
   "cell_type": "code",
   "execution_count": 11,
   "id": "2fd658da-ddf4-4b59-9827-e5b5e0a05f84",
   "metadata": {},
   "outputs": [],
   "source": [
    "# g_edited.sum(axis=0)"
   ]
  },
  {
   "cell_type": "markdown",
   "id": "4b1c7cfb-4287-48d9-9deb-5df43fbb1836",
   "metadata": {},
   "source": [
    "## Fixed-point Iteration\n",
    "\n",
    "The Bunch-Kaufman factorization of a PSD matrix is (https://en.wikipedia.org/wiki/Symmetric_matrix#Decomposition)\n",
    "\n",
    "$$ f(G^*) = \\sum_P P G^* P^T = C $$\n",
    "\n",
    "$$ A = \\Pi^T L D L^T \\Pi $$\n",
    "\n",
    "where $L$ is a unit triangular matrix and $D$ s a direct sum of symmetric $1 \\times 1 and$ $2\\times 2$ blocks."
   ]
  },
  {
   "cell_type": "code",
   "execution_count": 15,
   "id": "44295afe-3c06-4d6e-a8a4-68eca49b285f",
   "metadata": {},
   "outputs": [],
   "source": [
    "# Set up the LS problem min||H*g - c||_2.\n",
    "D = cov.norm_weight_matrix(p[0].shape[0])\n",
    "H = cov.matrix_function_to_matrix_sum(p, p)\n",
    "c_vector = eblp.linalg.unravel_lower(c)\n",
    "residual = lambda g_vector: norm(D @ (H @ g_vector - c_vector)) / norm(D @ (c_vector))\n",
    "\n",
    "# Initial guess: edited G^*.\n",
    "gs_init = gs_edited"
   ]
  },
  {
   "cell_type": "markdown",
   "id": "c08b49b3-5424-4c17-944d-fb5ac7da9460",
   "metadata": {},
   "source": [
    "### Variant 1: Iterate on $L$, freeze $D L^T$ term"
   ]
  },
  {
   "cell_type": "code",
   "execution_count": 16,
   "id": "ee5eda13-b637-47a2-9ca2-55da79214eaf",
   "metadata": {},
   "outputs": [
    {
     "name": "stdout",
     "output_type": "stream",
     "text": [
      "[ 5.663e+01  2.441e+01  6.158e+01  1.674e+01  9.253e+01  4.704e+01  2.986e+01  1.168e+01  2.057e-01 -1.629e-13\n",
      "  3.927e-13] [ 0  1  2  3  4  5  6  8  7  9 10] 1.3933473921472232e-16 True\n",
      "[[ 1.     0.     0.     0.     0.     0.     0.     0.     0.     0.     0.   ]\n",
      " [-0.554  1.     0.     0.     0.     0.     0.     0.     0.     0.     0.   ]\n",
      " [ 0.334  0.144  1.     0.     0.     0.     0.     0.     0.     0.     0.   ]\n",
      " [-0.021  0.509 -0.001  1.     0.     0.     0.     0.     0.     0.     0.   ]\n",
      " [ 0.226 -0.564  0.153 -0.18   1.     0.     0.     0.     0.     0.     0.   ]\n",
      " [-0.495 -0.221  0.004  0.705 -0.151  1.     0.     0.     0.     0.     0.   ]\n",
      " [ 0.05   0.095 -0.86  -0.577 -0.371 -0.192  1.     0.     0.     0.     0.   ]\n",
      " [-0.379 -0.24   0.277 -1.022 -0.181  0.385 -0.451  1.     0.     0.     0.   ]\n",
      " [-0.19   0.479 -0.513  0.193 -0.123 -0.213 -0.116 -0.508  1.     0.     0.   ]\n",
      " [ 0.393 -0.976 -0.032  0.621 -0.328 -0.666  0.036  0.303 -0.583  1.     0.   ]\n",
      " [-0.269  0.594  0.042 -0.515  0.449 -0.203 -0.059  0.492 -0.119  0.999  1.   ]]\n",
      "Iter LS Residual  L-residual   G-residual  \n",
      "0                 1.118e-01    1.118e-01   \n",
      "1    8.726e-02    1.070e+00    1.070e+00   \n",
      "2    9.275e-02    1.993e-01    1.993e-01   \n",
      "3    1.016e-01    1.329e+01    1.329e+01   \n",
      "4    9.853e-02    3.220e-01    3.220e-01   \n",
      "5    1.361e-01    6.095e+01    6.095e+01   \n",
      "6    1.316e-01    1.896e+00    1.896e+00   \n",
      "7    1.123e-01    1.022e+04    1.022e+04   \n",
      "8    1.320e-01    3.013e+00    3.013e+00   \n"
     ]
    }
   ],
   "source": [
    "gs = gs_init\n",
    "l, d, perm = scipy.linalg.ldl(gs)\n",
    "P = eblp.linalg.row_permutation_matrix(perm)\n",
    "l = l[perm]\n",
    "print(np.diag(d), perm, norm(gs - P.T @ l @ d @ l.T @ P) / norm(gs), np.allclose(l, np.tril(l)))\n",
    "print(l)\n",
    "l_vector = cov.unravel_solution_matrix(l)\n",
    "i = 0\n",
    "\n",
    "H_frozen = cov.matrix_function_to_matrix_sum(p @ P.T, p @ (P.T @ l @ d.T), lower=True)\n",
    "rg = residual(cov.unravel_solution_matrix(gs))\n",
    "rl = norm(D @ (H_frozen @ l_vector - c_vector)) / norm(D @ (c_vector))\n",
    "print(\"{:<4s} {:<12s} {:<12s} {:<12s}\".format(\"Iter\", \"LS Residual\", \"L-residual\", \"G-residual\"))\n",
    "print(\"{:<4d} {:<12s} {:<12.3e} {:<12.3e}\".format(i, \"\", rl, rg))\n",
    "\n",
    "num_iterations = 8\n",
    "for i in range(1, num_iterations + 1):\n",
    "    l_vector = np.linalg.lstsq(H_frozen, c_vector, rcond=None)[0]\n",
    "    r_ls = norm(D @ (H_frozen @ l_vector - c_vector)) / norm(D @ (c_vector))\n",
    "\n",
    "    l = cov.ravel_solution_matrix(l_vector)\n",
    "    gs = P.T @ l @ d @ l.T @ P\n",
    "    rg = residual(cov.unravel_solution_matrix(gs))\n",
    "    H_frozen = cov.matrix_function_to_matrix_sum(p @ P.T, p @ (P.T @ l @ d.T), lower=True)\n",
    "    rl = norm(D @ (H_frozen @ l_vector - c_vector)) / norm(D @ (c_vector))\n",
    "    print(\"{:<4d} {:<12.3e} {:<12.3e} {:<12.3e}\".format(i, r_ls, rl, rg))\n",
    "    #print(l)"
   ]
  },
  {
   "cell_type": "markdown",
   "id": "7b959865-371b-4675-ba56-92fb38064ec1",
   "metadata": {},
   "source": [
    "### Variant 2: Lump $D$ into $L$"
   ]
  },
  {
   "cell_type": "code",
   "execution_count": 17,
   "id": "e0de94fd-9ab5-48d2-8575-63ee24b8a048",
   "metadata": {},
   "outputs": [
    {
     "name": "stdout",
     "output_type": "stream",
     "text": [
      "[ 5.663e+01  2.441e+01  6.158e+01  1.674e+01  9.253e+01  4.704e+01  2.986e+01  1.168e+01  2.057e-01 -1.629e-13\n",
      "  3.927e-13] [ 0  1  2  3  4  5  6  8  7  9 10] 1.102403672970152e-15 True\n",
      "[[ 7.526e+00  0.000e+00  0.000e+00  0.000e+00  0.000e+00  0.000e+00  0.000e+00  0.000e+00  0.000e+00  0.000e+00\n",
      "   0.000e+00]\n",
      " [-4.167e+00  4.941e+00  0.000e+00  0.000e+00  0.000e+00  0.000e+00  0.000e+00  0.000e+00  0.000e+00  0.000e+00\n",
      "   0.000e+00]\n",
      " [ 2.512e+00  7.129e-01  7.847e+00  0.000e+00  0.000e+00  0.000e+00  0.000e+00  0.000e+00  0.000e+00  0.000e+00\n",
      "   0.000e+00]\n",
      " [-1.559e-01  2.514e+00 -8.833e-03  4.092e+00  0.000e+00  0.000e+00  0.000e+00  0.000e+00  0.000e+00  0.000e+00\n",
      "   0.000e+00]\n",
      " [ 1.702e+00 -2.785e+00  1.203e+00 -7.385e-01  9.619e+00  0.000e+00  0.000e+00  0.000e+00  0.000e+00  0.000e+00\n",
      "   0.000e+00]\n",
      " [-3.724e+00 -1.093e+00  3.061e-02  2.883e+00 -1.455e+00  6.858e+00  0.000e+00  0.000e+00  0.000e+00  0.000e+00\n",
      "   0.000e+00]\n",
      " [ 3.750e-01  4.685e-01 -6.752e+00 -2.359e+00 -3.567e+00 -1.314e+00  5.465e+00  0.000e+00  0.000e+00  0.000e+00\n",
      "   0.000e+00]\n",
      " [-2.851e+00 -1.187e+00  2.171e+00 -4.184e+00 -1.737e+00  2.643e+00 -2.465e+00  3.417e+00  0.000e+00  0.000e+00\n",
      "   0.000e+00]\n",
      " [-1.432e+00  2.368e+00 -4.023e+00  7.902e-01 -1.187e+00 -1.458e+00 -6.338e-01 -1.736e+00  4.535e-01  0.000e+00\n",
      "   0.000e+00]\n",
      " [ 2.957e+00 -4.823e+00 -2.493e-01  2.540e+00 -3.156e+00 -4.570e+00  1.979e-01  1.036e+00 -2.644e-01  0.000e+00\n",
      "   0.000e+00]\n",
      " [-2.024e+00  2.936e+00  3.312e-01 -2.106e+00  4.323e+00 -1.389e+00 -3.209e-01  1.680e+00 -5.379e-02  0.000e+00\n",
      "   6.266e-07]]\n",
      "Iter LS Residual  L-residual   G-residual  \n",
      "0                 1.118e-01    1.118e-01   \n",
      "1    7.927e-02    1.594e+12    6.164e+01   \n",
      "2    4.817e-02    4.638e+05    7.212e+01   \n",
      "3    6.947e-02    3.064e+13    1.542e+03   \n",
      "4    5.700e-02    1.250e+06    2.306e+03   \n",
      "5    1.035e-01    2.001e+14    1.800e+04   \n"
     ]
    }
   ],
   "source": [
    "gs = gs_init\n",
    "l, d, perm = scipy.linalg.ldl(gs)\n",
    "P = eblp.linalg.row_permutation_matrix(perm)\n",
    "l = l[perm] @ np.diag(np.clip(np.diag(d), 0, None) ** 0.5)\n",
    "print(np.diag(d), perm, norm(gs - P.T @ l @ l.T @ P) / norm(gs), np.allclose(l, np.tril(l)))\n",
    "print(l)\n",
    "l_vector = cov.unravel_solution_matrix(l)\n",
    "i = 0\n",
    "\n",
    "H_frozen = cov.matrix_function_to_matrix_sum(p @ P.T, p @ (P.T @ l), lower=True)\n",
    "rg = residual(cov.unravel_solution_matrix(gs))\n",
    "rl = norm(D @ (H_frozen @ l_vector - c_vector)) / norm(D @ (c_vector))\n",
    "print(\"{:<4s} {:<12s} {:<12s} {:<12s}\".format(\"Iter\", \"LS Residual\", \"L-residual\", \"G-residual\"))\n",
    "print(\"{:<4d} {:<12s} {:<12.3e} {:<12.3e}\".format(i, \"\", rl, rg))\n",
    "\n",
    "num_iterations = 5\n",
    "for i in range(1, num_iterations + 1):\n",
    "    l_vector = np.linalg.lstsq(H_frozen, c_vector, rcond=None)[0]\n",
    "    r_ls = norm(D @ (H_frozen @ l_vector - c_vector)) / norm(D @ (c_vector))\n",
    "\n",
    "    l = cov.ravel_solution_matrix(l_vector)\n",
    "    gs = P.T @ l @ d @ l.T @ P\n",
    "    rg = residual(cov.unravel_solution_matrix(gs))\n",
    "    H_frozen = cov.matrix_function_to_matrix_sum(p @ P.T, p @ (P.T @ l), lower=True)\n",
    "    rl = norm(D @ (H_frozen @ l_vector - c_vector)) / norm(D @ (c_vector))\n",
    "    print(\"{:<4d} {:<12.3e} {:<12.3e} {:<12.3e}\".format(i, r_ls, rl, rg))\n",
    "    #print(l)"
   ]
  },
  {
   "cell_type": "markdown",
   "id": "889e8b07-a26a-4de5-9fda-c28e4cb6479e",
   "metadata": {},
   "source": [
    "### Variant 3: Fully Non-Linear in $L$\n",
    "Using scipy's black-box minimizer to minimize $\\|h(L L^T) - c\\|_2^2$ (slow). \n",
    "* Slightly worse than editing $G$, better than editing $G^*$.\n",
    "* Has $2$ zero eigenvalues as opposed to $3$ when editing $G^*$ or $G$."
   ]
  },
  {
   "cell_type": "code",
   "execution_count": 18,
   "id": "c956a0b4-9d20-4e5c-9ea9-cb9d4b9f2e9a",
   "metadata": {},
   "outputs": [
    {
     "name": "stdout",
     "output_type": "stream",
     "text": [
      "0                 1.118e-01    1.118e-01   \n",
      "Warning: Maximum number of function evaluations has been exceeded.\n",
      "Minimizer residual 0.08718102385029575\n"
     ]
    }
   ],
   "source": [
    "gs = gs_init\n",
    "rg = residual(cov.unravel_solution_matrix(gs))\n",
    "\n",
    "l, d, perm = scipy.linalg.ldl(gs)\n",
    "P = eblp.linalg.row_permutation_matrix(perm)\n",
    "l = l[perm]\n",
    "l_vector = cov.unravel_solution_matrix(l)\n",
    "i = 0\n",
    "\n",
    "\n",
    "def f(l_vector):\n",
    "    l = cov.ravel_solution_matrix(l_vector)\n",
    "    return residual(cov.unravel_solution_matrix(P.T @ l @ d @ l.T @ P)) ** 2\n",
    "print(\"{:<4d} {:<12s} {:<12.3e} {:<12.3e}\".format(i, \"\", rg, f(l_vector) ** 0.5))\n",
    "\n",
    "result = scipy.optimize.fmin(f, l_vector, full_output=True)\n",
    "print(\"Minimizer residual\", f(result[0]) ** 0.5)"
   ]
  },
  {
   "cell_type": "code",
   "execution_count": 19,
   "id": "820c09f3-21ed-4588-9ad9-58e888bced40",
   "metadata": {},
   "outputs": [
    {
     "name": "stdout",
     "output_type": "stream",
     "text": [
      "Our G^*'\n",
      "lam [-9.8e-15  7.3e-13  7.2e-02  1.1e+01  1.7e+01  3.8e+01  6.4e+01  6.8e+01  1.1e+02  1.6e+02  1.9e+02]\n",
      "res 0.0872\n",
      "\n",
      "edited(G^*)\n",
      "lam [-5.9e-14  1.7e-14  1.0e-13  1.5e-01  1.7e+01  2.8e+01  4.9e+01  6.3e+01  7.5e+01  1.2e+02  1.7e+02  2.0e+02]\n",
      "res 0.1118\n",
      "\n"
     ]
    },
    {
     "data": {
      "image/png": "[encoded data removed]",
      "text/plain": [
       "<Figure size 432x288 with 1 Axes>"
      ]
     },
     "metadata": {
      "needs_background": "light"
     },
     "output_type": "display_data"
    }
   ],
   "source": [
    "l = cov.ravel_solution_matrix(result[0])\n",
    "gs = P.T @ l @ d @ l.T @ P\n",
    "lam = np.sort(np.linalg.eig(gs)[0])\n",
    "print(\"Our G^*'\")\n",
    "print(\"lam {}\".format(np.array2string(lam, precision=1)))\n",
    "print(\"res {:.4f}\".format(norm(cov.f(gs, p) - c) / norm(c)))\n",
    "print(\"\")\n",
    "\n",
    "gs_edited = np.loadtxt(os.path.join(DATA_DIR, \"Gstar_edited.txt\"))\n",
    "lam_edited = np.sort(np.linalg.eig(g2_edited)[0])\n",
    "print(\"edited(G^*)\")\n",
    "print(\"lam {}\".format(np.array2string(lam_edited, precision=1)))\n",
    "print(\"res {:.4f}\".format(norm(cov.f(gs_edited, p) - c) / norm(c)))\n",
    "print(\"\")\n",
    "\n",
    "plt.plot(lam, 'o', label=\"Our $G^*$\")\n",
    "plt.plot(lam_edited, 'o', label=\"$edited(G^*)$\")\n",
    "plt.xlabel(\"$i$\")\n",
    "plt.ylabel(\"$\\lambda_i$\")\n",
    "plt.legend();\n",
    "\n",
    "#gs = np.loadtxt(os.path.join(data_dir, \"Gstar.txt\"))\n",
    "#lam = np.sort(np.linalg.eig(gs)[0])"
   ]
  },
  {
   "cell_type": "markdown",
   "id": "a253caa8-c3cc-47b8-9a1b-0a51d17523d2",
   "metadata": {},
   "source": [
    "### Variant 4: Positive Definite $G^*$\n",
    "Avoiding zero eigenvalues may reduce bias in diagonal elements according to JR."
   ]
  },
  {
   "cell_type": "code",
   "execution_count": 385,
   "id": "22467a6c-8ef0-47cb-a3ab-3d5fbf77bf3e",
   "metadata": {},
   "outputs": [
    {
     "name": "stdout",
     "output_type": "stream",
     "text": [
      "0                 1.118e-01    1.118e-01   \n",
      "Warning: Maximum number of function evaluations has been exceeded.\n",
      "CPU times: user 3.75 s, sys: 117 ms, total: 3.87 s\n",
      "Wall time: 1.9 s\n",
      "Minimizer residual 0.0871422895047293\n"
     ]
    }
   ],
   "source": [
    "# Add eps*identity to make initial guess PD.\n",
    "gs = gs_edited.copy()\n",
    "np.fill_diagonal(gs, np.diag(gs) + 0.0001)\n",
    "\n",
    "rg = residual(cov.unravel_solution_matrix(gs))\n",
    "l = scipy.linalg.cholesky(gs, lower=True)\n",
    "l_vector = cov.unravel_solution_matrix(l)\n",
    "i = 0\n",
    "\n",
    "a = D @ H\n",
    "b = D @ c_vector\n",
    "\n",
    "def f(l_vector):\n",
    "    l = cov.ravel_solution_matrix(l_vector)\n",
    "    g_vector = cov.unravel_solution_matrix(l @ l.T)\n",
    "#    return residual(cov.unravel_solution_matrix(l @ l.T)) ** 2\n",
    "    return norm(a @ g_vector - b) ** 2\n",
    "\n",
    "print(\"{:<4d} {:<12s} {:<12.3e} {:<12.3e}\".format(i, \"\", rg, f(l_vector) ** 0.5 / norm(b)))\n",
    "\n",
    "%time result = scipy.optimize.fmin(f, l_vector, full_output=True)\n",
    "l = cov.ravel_solution_matrix(result[0])\n",
    "g_vector = cov.unravel_solution_matrix(l @ l.T)\n",
    "print(\"Minimizer residual\", residual(cov.unravel_solution_matrix(l @ l.T)))"
   ]
  },
  {
   "cell_type": "code",
   "execution_count": 367,
   "id": "21a3f598-1aa7-4cdb-a2c3-c5a6f2bd1f7f",
   "metadata": {},
   "outputs": [],
   "source": [
    "# def f_ls(l_vector):\n",
    "#     l = cov.ravel_solution_matrix(l_vector)\n",
    "#     g_vector = cov.unravel_solution_matrix(l @ l.T)\n",
    "#     return (a @ g_vector - b).flatten()\n",
    "\n",
    "# %time result = scipy.optimize.least_squares(f_ls, l_vector, method=\"lm\")\n",
    "\n",
    "# l = cov.ravel_solution_matrix(result.x)\n",
    "# g_vector = cov.unravel_solution_matrix(l @ l.T)\n",
    "# print(\"Minimizer residual\", residual(cov.unravel_solution_matrix(l @ l.T)))"
   ]
  },
  {
   "cell_type": "code",
   "execution_count": 368,
   "id": "278cc73d-fde5-40c8-9fdf-a89bcf6f2b65",
   "metadata": {},
   "outputs": [
    {
     "name": "stdout",
     "output_type": "stream",
     "text": [
      "Our G^*'\n",
      "lam [1.5e-04 3.1e-04 2.6e-01 1.1e+01 1.8e+01 3.9e+01 6.4e+01 6.8e+01 1.1e+02 1.6e+02 1.9e+02]\n",
      "res 0.0871\n",
      "\n",
      "edited(G^*)\n",
      "lam [-5.9e-14  1.7e-14  1.0e-13  1.5e-01  1.7e+01  2.8e+01  4.9e+01  6.3e+01  7.5e+01  1.2e+02  1.7e+02  2.0e+02]\n",
      "res 0.1118\n",
      "\n"
     ]
    },
    {
     "data": {
      "image/png": "[encoded data removed]",
      "text/plain": [
       "<Figure size 432x288 with 1 Axes>"
      ]
     },
     "metadata": {
      "needs_background": "light"
     },
     "output_type": "display_data"
    }
   ],
   "source": [
    "# l = cov.ravel_solution_matrix(result[0])\n",
    "gs = l @ l.T\n",
    "lam = np.sort(np.linalg.eig(gs)[0])\n",
    "print(\"Our G^*'\")\n",
    "print(\"lam {}\".format(np.array2string(lam, precision=1)))\n",
    "print(\"res {:.4f}\".format(norm(cov.f(gs, p) - c) / norm(c)))\n",
    "print(\"\")\n",
    "\n",
    "gs_edited = np.loadtxt(os.path.join(DATA_DIR, \"Gstar_edited.txt\"))\n",
    "lam_edited = np.sort(np.linalg.eig(g2_edited)[0])\n",
    "print(\"edited(G^*)\")\n",
    "print(\"lam {}\".format(np.array2string(lam_edited, precision=1)))\n",
    "print(\"res {:.4f}\".format(norm(cov.f(gs_edited, p) - c) / norm(c)))\n",
    "print(\"\")\n",
    "\n",
    "plt.plot(lam, 'o', label=\"Our $G^*$\")\n",
    "plt.plot(lam_edited, 'o', label=\"$edited(G^*)$\")\n",
    "plt.xlabel(\"$i$\")\n",
    "plt.ylabel(\"$\\lambda_i$\")\n",
    "plt.legend();\n",
    "\n",
    "#gs = np.loadtxt(os.path.join(data_dir, \"Gstar.txt\"))\n",
    "#lam = np.sort(np.linalg.eig(gs)[0])"
   ]
  },
  {
   "cell_type": "code",
   "execution_count": 369,
   "id": "23923b1d-2b7b-495d-af79-9bfd7597ccdb",
   "metadata": {},
   "outputs": [
    {
     "data": {
      "text/plain": [
       "array([[ 7.401e+00,  0.000e+00,  0.000e+00,  0.000e+00,  0.000e+00,  0.000e+00,  0.000e+00,  0.000e+00,  0.000e+00,\n",
       "         0.000e+00,  0.000e+00],\n",
       "       [-4.438e+00,  4.644e+00,  0.000e+00,  0.000e+00,  0.000e+00,  0.000e+00,  0.000e+00,  0.000e+00,  0.000e+00,\n",
       "         0.000e+00,  0.000e+00],\n",
       "       [ 2.503e+00,  8.849e-01,  7.866e+00,  0.000e+00,  0.000e+00,  0.000e+00,  0.000e+00,  0.000e+00,  0.000e+00,\n",
       "         0.000e+00,  0.000e+00],\n",
       "       [-1.200e-01,  2.526e+00, -5.857e-03,  4.412e+00,  0.000e+00,  0.000e+00,  0.000e+00,  0.000e+00,  0.000e+00,\n",
       "         0.000e+00,  0.000e+00],\n",
       "       [ 1.713e+00, -2.902e+00,  1.280e+00, -6.203e-01,  9.565e+00,  0.000e+00,  0.000e+00,  0.000e+00,  0.000e+00,\n",
       "         0.000e+00,  0.000e+00],\n",
       "       [-3.811e+00, -1.580e+00,  1.933e-02,  2.838e+00, -1.689e+00,  6.731e+00,  0.000e+00,  0.000e+00,  0.000e+00,\n",
       "         0.000e+00,  0.000e+00],\n",
       "       [ 5.684e-01,  8.383e-01, -6.884e+00, -2.305e+00, -3.439e+00, -1.235e+00,  5.190e+00,  0.000e+00,  0.000e+00,\n",
       "         0.000e+00,  0.000e+00],\n",
       "       [-1.482e+00,  2.414e+00, -4.028e+00,  4.103e-01, -1.133e+00, -1.202e+00, -1.063e+00,  2.388e+00,  0.000e+00,\n",
       "         0.000e+00,  0.000e+00],\n",
       "       [-2.853e+00, -1.391e+00,  2.167e+00, -3.815e+00, -1.753e+00,  2.285e+00, -2.315e+00, -3.885e+00,  1.335e+00,\n",
       "         0.000e+00,  0.000e+00],\n",
       "       [ 3.036e+00, -4.847e+00, -2.229e-01,  1.978e+00, -3.325e+00, -4.753e+00,  1.287e-01,  5.970e-01, -3.613e-03,\n",
       "         3.676e-02,  0.000e+00],\n",
       "       [-2.100e+00,  2.742e+00,  3.054e-01, -1.604e+00,  4.386e+00, -1.467e+00, -1.696e-01, -2.222e+00,  3.867e-01,\n",
       "        -4.861e-03,  2.523e-02]])"
      ]
     },
     "execution_count": 369,
     "metadata": {},
     "output_type": "execute_result"
    }
   ],
   "source": [
    "l"
   ]
  },
  {
   "cell_type": "code",
   "execution_count": 371,
   "id": "2519a26b-7dbf-473d-a945-4a7a2f320a9c",
   "metadata": {},
   "outputs": [],
   "source": [
    "# g = a @ gs @ a.T\n",
    "# lam = np.sort(np.linalg.eig(g)[0])\n",
    "# print(lam)"
   ]
  },
  {
   "cell_type": "code",
   "execution_count": 372,
   "id": "ffcfdcf1-f2b5-4288-bb06-2eba88d37c82",
   "metadata": {},
   "outputs": [
    {
     "data": {
      "text/plain": [
       "(0.00015279872616982604, -5.872580431013797e-14)"
      ]
     },
     "execution_count": 372,
     "metadata": {},
     "output_type": "execute_result"
    }
   ],
   "source": [
    "lam[0], lam_edited[0]"
   ]
  },
  {
   "cell_type": "markdown",
   "id": "15b6c3c3-2361-4076-9a89-6d946d9d8d5b",
   "metadata": {},
   "source": [
    "## Variant 4A: Cholesky/PD, Iterate on $L$"
   ]
  },
  {
   "cell_type": "code",
   "execution_count": 373,
   "id": "39cfe528-0745-4601-92b5-559c2f3239c4",
   "metadata": {},
   "outputs": [],
   "source": [
    "# %%time\n",
    "\n",
    "# # Add eps*identity to make initial guess PD.\n",
    "# gs = gs_edited\n",
    "# np.fill_diagonal(gs, np.diag(gs) + 1e-2)\n",
    "\n",
    "# rg = residual(cov.unravel_solution_matrix(gs))\n",
    "# l = scipy.linalg.cholesky(gs, lower=True)\n",
    "# l_vector = cov.unravel_solution_matrix(l)\n",
    "# i = 0\n",
    "\n",
    "# H_frozen = cov.matrix_function_to_matrix_sum(p, p @ l, lower=True)\n",
    "# rg = residual(cov.unravel_solution_matrix(gs))\n",
    "# rl = norm(D @ (H_frozen @ l_vector - c_vector)) / norm(D @ (c_vector))\n",
    "# print(\"{:<4s} {:<12s} {:<12s} {:<12s}\".format(\"Iter\", \"LS Residual\", \"L-residual\", \"G-residual\"))\n",
    "# print(\"{:<4d} {:<12s} {:<12.3e} {:<12.3e}\".format(i, \"\", rl, rg))\n",
    "\n",
    "# num_iterations = 8\n",
    "# for i in range(1, num_iterations + 1):\n",
    "#     l_vector = np.linalg.lstsq(H_frozen, c_vector, rcond=None)[0]\n",
    "#     r_ls = norm(D @ (H_frozen @ l_vector - c_vector)) / norm(D @ (c_vector))\n",
    "\n",
    "#     l = cov.ravel_solution_matrix(l_vector)\n",
    "#     gs = l @ l.T\n",
    "#     rg = residual(cov.unravel_solution_matrix(gs))\n",
    "#     H_frozen = cov.matrix_function_to_matrix_sum(p, p @ l, lower=True)\n",
    "#     rl = norm(D @ (H_frozen @ l_vector - c_vector)) / norm(D @ (c_vector))\n",
    "#     print(\"{:<4d} {:<12.3e} {:<12.3e} {:<12.3e}\".format(i, r_ls, rl, rg))\n",
    "#     #print(l)"
   ]
  },
  {
   "cell_type": "markdown",
   "id": "54480ac2-d922-4f53-a894-a027241829ed",
   "metadata": {},
   "source": [
    "Still unstable. Maybe it means $L^T$ cannot just be frozen."
   ]
  },
  {
   "cell_type": "markdown",
   "id": "2ab756e9-c801-44cc-93b3-3f3d6f261495",
   "metadata": {},
   "source": [
    "## Explicit Equation for the flattened $L$"
   ]
  },
  {
   "cell_type": "code",
   "execution_count": 396,
   "id": "c5b46943-5192-4ef2-959e-d5c768651b8b",
   "metadata": {},
   "outputs": [],
   "source": [
    "n = gs_edited.shape[0]\n",
    "lower_index = np.array(list(itertools.combinations(range(n), 2)))\n",
    "k = np.concatenate((np.arange(n), lower_index[:, 1]))\n",
    "l = np.concatenate((np.arange(n), lower_index[:, 0]))\n",
    "ind = -np.ones((n, n), dtype=int)\n",
    "ind[k, l] = np.arange(len(k))\n",
    "element_of_pair = dict(((r, s), j) for j in range(N) for r, s in zip(ind[k[j]], ind[l[j]]) if r >= 0 and s >= 0)\n",
    "\n",
    "M, N = a.shape\n",
    "data = np.concatenate(tuple(\n",
    "    np.concatenate((np.arange(M)[:, None], np.tile((r, s), (M, 1)),  a[:, j][:, None]), axis=1)\n",
    "    for (r, s), j in element_of_pair.items()\n",
    "), axis=0)\n",
    "data = data[data[:, 0].argsort()]\n",
    "endpoints = np.concatenate(([0], np.where(np.diff(data[:, 0]) != 0)[0] + 1, [data.shape[0]]))\n",
    "w_sparse = [scipy.sparse.csr_matrix(\n",
    "        (data[endpoints[i]:endpoints[i + 1], 3], \n",
    "        (data[endpoints[i]:endpoints[i + 1], 1], data[endpoints[i]:endpoints[i + 1], 2])),\n",
    "        shape=(N, N))\n",
    "            for i in range(M)]"
   ]
  },
  {
   "cell_type": "code",
   "execution_count": 397,
   "id": "1a286b4c-864d-4730-9951-f23b29e58620",
   "metadata": {},
   "outputs": [
    {
     "name": "stdout",
     "output_type": "stream",
     "text": [
      "[[ 0 -1 -1 -1 -1 -1 -1 -1 -1 -1 -1]\n",
      " [11  1 -1 -1 -1 -1 -1 -1 -1 -1 -1]\n",
      " [12 21  2 -1 -1 -1 -1 -1 -1 -1 -1]\n",
      " [13 22 30  3 -1 -1 -1 -1 -1 -1 -1]\n",
      " [14 23 31 38  4 -1 -1 -1 -1 -1 -1]\n",
      " [15 24 32 39 45  5 -1 -1 -1 -1 -1]\n",
      " [16 25 33 40 46 51  6 -1 -1 -1 -1]\n",
      " [17 26 34 41 47 52 56  7 -1 -1 -1]\n",
      " [18 27 35 42 48 53 57 60  8 -1 -1]\n",
      " [19 28 36 43 49 54 58 61 63  9 -1]\n",
      " [20 29 37 44 50 55 59 62 64 65 10]]\n",
      "[ 0  1  2  3  4  5  6  7  8  9 10  1  2  3  4  5  6  7  8  9 10  2  3  4  5  6  7  8  9 10  3  4  5  6  7  8  9 10  4\n",
      "  5  6  7  8  9 10  5  6  7  8  9 10  6  7  8  9 10  7  8  9 10  8  9 10  9 10 10] [ 0  1  2  3  4  5  6  7  8  9 10  0  0  0  0  0  0  0  0  0  0  1  1  1  1  1  1  1  1  1  2  2  2  2  2  2  2  2  3\n",
      "  3  3  3  3  3  3  4  4  4  4  4  4  5  5  5  5  5  6  6  6  6  7  7  7  8  8  9]\n",
      "286\n",
      "0.0 0.0\n",
      "339768 22308 22308\n"
     ]
    }
   ],
   "source": [
    "print(ind)\n",
    "print(k, l)\n",
    "\n",
    "M, N = a.shape\n",
    "# Sanity check.\n",
    "# Each (r, s) = l[r] * l[s] combination appears in exactly one g[j] entry where l = flattened L and\n",
    "# g = flattened G. Not all (r, s) pairs are present.\n",
    "# for j in range(N):\n",
    "#     print(j, (k[j], l[j]), [(r, s) for r,  s in zip(ind[k[j]], ind[l[j]]) if r >= 0 and s >= 0])\n",
    "pair_counter = collections.Counter((r, s) for j in range(N) for r, s in zip(ind[k[j]], ind[l[j]]) if r >= 0 and s >= 0)\n",
    "print(len(pair_counter))\n",
    "assert all(v == 1 for v in pair_counter.values())\n",
    "\n",
    "w2 = np.zeros((M, N, N))\n",
    "for j in range(N):\n",
    "    for (r, s) in ((r, s) for r,  s in zip(ind[k[j]], ind[l[j]]) if r >= 0 and s >= 0):\n",
    "        for i, hij in enumerate(a[:, j]):\n",
    "            # if r == 0 and s == 0:\n",
    "            #     print(i, \"j\", j, (k[j], l[j]), ind[k[j]], ind[l[j]], r, s, hij)\n",
    "            w2[i, max(r, s), min(r, s)] += hij\n",
    "            \n",
    "w = np.zeros((M, N, N))\n",
    "for (r, s), j in element_of_pair.items():\n",
    "        w[:, r, s] = a[:, j]\n",
    "        \n",
    "print(norm(w - w2), max(norm(w_sparse[i].todense() - w[i]) for i in range(M)))\n",
    "print(M * N * N,  len(np.where(w != 0)[0]), sum(wi.nnz for wi in w_sparse))"
   ]
  },
  {
   "cell_type": "code",
   "execution_count": 413,
   "id": "1021467d-4ad4-4893-8cb2-794c7f345981",
   "metadata": {},
   "outputs": [
    {
     "data": {
      "text/plain": [
       "(0.11178600525526722, 0.11178600525526754)"
      ]
     },
     "execution_count": 413,
     "metadata": {},
     "output_type": "execute_result"
    }
   ],
   "source": [
    "def f(l_vector):\n",
    "    l = cov.ravel_solution_matrix(l_vector)\n",
    "    g_vector = cov.unravel_solution_matrix(l @ l.T)\n",
    "#    return residual(cov.unravel_solution_matrix(l @ l.T)) ** 2\n",
    "    return norm(a @ g_vector - b) ** 2\n",
    "\n",
    "\n",
    "def f2(x):\n",
    "    return sum((x.T @ ai @ x - bi) ** 2 for ai, bi in zip(w, b))\n",
    "\n",
    "def grad(x):\n",
    "    return 2 * sum((x.T @ ai @ x - bi) * (ai + ai.T) @ x for ai, bi in zip(w, b))\n",
    "\n",
    "l = result[0]\n",
    "f(l_vector) ** 0.5 / norm(b), f2(l_vector) ** 0.5 / norm(b)"
   ]
  },
  {
   "cell_type": "code",
   "execution_count": 473,
   "id": "338347da-0a00-4e86-a1ee-101104da1625",
   "metadata": {},
   "outputs": [],
   "source": [
    "gs = gs_init\n",
    "l, d, perm = scipy.linalg.ldl(gs)\n",
    "P = eblp.linalg.row_permutation_matrix(perm)\n",
    "l = l[perm]\n",
    "l_vector_init = cov.unravel_solution_matrix(l)"
   ]
  },
  {
   "cell_type": "code",
   "execution_count": 474,
   "id": "7f718bbb-e473-45a0-aca4-8499bf391679",
   "metadata": {},
   "outputs": [
    {
     "name": "stdout",
     "output_type": "stream",
     "text": [
      "CPU times: user 446 ms, sys: 17 ms, total: 463 ms\n",
      "Wall time: 463 ms\n",
      "0.08435174996637289 261\n"
     ]
    },
    {
     "data": {
      "text/plain": [
       "array([1.89e-09, 1.61e-08, 5.99e-01, 1.14e+01, 1.78e+01, 3.91e+01, 6.36e+01, 6.82e+01, 1.13e+02, 1.64e+02, 1.92e+02])"
      ]
     },
     "execution_count": 474,
     "metadata": {},
     "output_type": "execute_result"
    }
   ],
   "source": [
    "%time x = scipy.optimize.fmin_l_bfgs_b(f2, l_vector_init, grad)\n",
    "#print(x)\n",
    "print(x[1] ** 0.5 / norm(b), x[2]['funcalls'])\n",
    "\n",
    "l_vector = x[0]\n",
    "l = cov.ravel_solution_matrix(l_vector)\n",
    "g = l.T @ l\n",
    "np.sort(np.linalg.eig(g)[0])"
   ]
  },
  {
   "cell_type": "code",
   "execution_count": 476,
   "id": "7ee33435-e026-4a84-bcbd-9db9ee54d407",
   "metadata": {},
   "outputs": [
    {
     "name": "stdout",
     "output_type": "stream",
     "text": [
      "Optimization terminated successfully.\n",
      "         Current function value: 265077.353008\n",
      "         Iterations: 1604\n",
      "         Function evaluations: 2471\n",
      "CPU times: user 331 ms, sys: 5.4 ms, total: 337 ms\n",
      "Wall time: 335 ms\n",
      "(array([ 7.43e+00,  4.80e+00,  7.87e+00,  4.56e+00,  9.59e+00,  6.87e+00,  5.51e+00,  2.26e+00,  2.18e+00,  1.80e-04, -1.20e-04, -4.32e+00,  2.53e+00,\n",
      "       -1.38e-01,  1.70e+00, -3.81e+00,  3.83e-01, -1.45e+00, -2.88e+00,  2.98e+00, -2.09e+00,  7.58e-01,  2.38e+00, -2.90e+00, -1.41e+00,  3.94e-01,\n",
      "        2.48e+00, -1.40e+00, -4.86e+00,  2.67e+00, -1.03e-02,  1.21e+00,  6.68e-02, -6.73e+00, -4.05e+00,  2.20e+00, -2.44e-01,  3.24e-01, -7.10e-01,\n",
      "        2.57e+00, -1.83e+00,  3.24e-01, -3.61e+00,  1.81e+00, -1.30e+00, -1.61e+00, -3.55e+00, -1.15e+00, -1.77e+00, -3.31e+00,  4.34e+00, -1.69e+00,\n",
      "       -1.10e+00,  2.00e+00, -4.43e+00, -1.77e+00, -8.88e-01, -1.81e+00, -7.70e-01,  6.78e-02, -4.06e+00,  8.71e-01, -2.13e+00, -1.64e+00,  1.11e+00,\n",
      "       -1.63e-04]), 265077.35300839366, 1604, 2471, 0)\n",
      "0.08435174863034899\n"
     ]
    },
    {
     "data": {
      "text/plain": [
       "array([1.98e-09, 1.68e-08, 5.99e-01, 1.14e+01, 1.78e+01, 3.91e+01, 6.36e+01, 6.82e+01, 1.13e+02, 1.64e+02, 1.92e+02])"
      ]
     },
     "execution_count": 476,
     "metadata": {},
     "output_type": "execute_result"
    }
   ],
   "source": [
    "%time result = scipy.optimize.fmin(f, l_vector, full_output=True)\n",
    "print(result)\n",
    "print(f(result[0]) ** 0.5 / norm(b))\n",
    "\n",
    "l_vector = result[0]\n",
    "l = cov.ravel_solution_matrix(l_vector)\n",
    "g = l.T @ l\n",
    "np.sort(np.linalg.eig(g)[0])"
   ]
  },
  {
   "cell_type": "markdown",
   "id": "a9a44ad6-69e5-4432-89d9-16747ff472a5",
   "metadata": {},
   "source": [
    "## Regularization\n",
    "Maximize $G'$'s, i.e. $L$'s determinant, under constant norm.\n",
    "\n",
    "$$ \\min_l \\sum_i \\left(l^T A_i l - c_i\\right)^2 - \\alpha \\left(\n",
    "\\sum_{i=0}^{n-1} \\log(l_i^2) - \\log \\left(\\sum_{i=0}^{n-1} l_i ^2\\right) \\right) $$\n",
    "* Continuation in $\\alpha$, starting from large $\\alpha$ and decreasing it.\n",
    "* BFGS for a fixed $\\alpha$.\n",
    "* L-curve for picking $\\alpha$."
   ]
  },
  {
   "cell_type": "code",
   "execution_count": 919,
   "id": "28fa1f61-6a38-4bb0-892d-26f2d9532f97",
   "metadata": {},
   "outputs": [],
   "source": [
    "scale = 1 / norm(b) ** 2\n",
    "\n",
    "def f_term(x):\n",
    "    return scale * sum((x.T @ ai @ x - bi) ** 2 for ai, bi in zip(w, b))\n",
    "\n",
    "def reg_term(x):\n",
    "    return - sum(np.log(x[:n] ** 2)) + np.log(sum(x[:n] ** 2))\n",
    "\n",
    "def f_reg(x, alpha):\n",
    "    return f_term(x) + alpha * reg_term(x)\n",
    "\n",
    "def grad_reg(x, alpha):\n",
    "    g = scale * 2 * sum((x.T @ ai @ x - bi) * (ai + ai.T) @ x for ai, bi in zip(w, b))\n",
    "    g[:n] -= alpha * (2 / x[:n] - 2 * x[:n] / sum(x[:n] ** 2))\n",
    "    return g\n",
    "\n",
    "def roc_curve(alpha, l_vector_init, gtol: float = 1e-3):\n",
    "    #fun = lambda x: f_reg(x, alpha)\n",
    "    #grad = lambda x: grad_reg(x, alpha)\n",
    "    #x = scipy.optimize.fmin_l_bfgs_b(fun, l_vector_init, grad)\n",
    "    result = scipy.optimize.minimize(f_reg, l_vector_init, args=(alpha, ), method='BFGS', jac=grad_reg, options={'gtol': gtol, 'disp': False})\n",
    "    l_vector = result.x\n",
    "    l = cov.ravel_solution_matrix(l_vector)\n",
    "    lam = np.sort(np.linalg.eig(l.T @ l)[0])\n",
    "    return l_vector, (alpha, f_term(l_vector), lam[-1] / lam[0])"
   ]
  },
  {
   "cell_type": "code",
   "execution_count": 967,
   "id": "d56cddc8-d88b-4777-a808-108911db1f8c",
   "metadata": {},
   "outputs": [],
   "source": [
    "# alpha_values = np.logspace(1, 10, num=20, base=10)\n",
    "# %time roc = np.array([roc_curve(alpha, l_vector_init) for alpha in alpha_values])\n",
    "\n",
    "# print(roc)\n",
    "# plt.semilogy(roc[:, 1], roc[:, 2])\n",
    "# plt.xlim([0.079, 0.1])\n",
    "# plt.grid(True);\n",
    "\n",
    "# def f3_reg(x, alpha):\n",
    "#     return sum((x.T @ ai @ x - bi) ** 2 for ai, bi in zip(w, b)) \\\n",
    "#         + alpha * ((1 / n) * sum(x[:n] ** 2) - (1 / n ** 2) * np.sum(x[:n]) ** 2)\n",
    "\n",
    "# def grad3_reg(x, alpha):\n",
    "#     g = 2 * sum((x.T @ ai @ x - bi) * (ai + ai.T) @ x for ai, bi in zip(w, b))\n",
    "#     g[:n] += alpha * ((2 / n) * x[:n] - (2 / n ** 2) * np.sum(x[:n]))\n",
    "#     return g\n",
    "\n",
    "# def f3_reg(x, alpha):\n",
    "#     return (1 / n) * sum(x[:n] ** 2) - (1 / n ** 2) * np.sum(x[:n]) ** 2\n",
    "\n",
    "# def grad3_reg(x, alpha):\n",
    "#     g = np.zeros_like(x)\n",
    "#     g[:n] += (2 / n) * x[:n] - (2 / n ** 2) * np.sum(x[:n])\n",
    "#     return g\n",
    "\n",
    "# # Gradient check.\n",
    "# def grad_check(fun, grad, n):\n",
    "#     np.random.seed(0)\n",
    "#     x = np.random.random((n,))\n",
    "\n",
    "#     def unit_vector(n, i):\n",
    "#         e = np.zeros((n,))\n",
    "#         e[i] = 1\n",
    "#         return e\n",
    "\n",
    "#     delta = 1e-7\n",
    "#     grad_fd = np.array([(fun(x + delta * unit_vector(n, i)) - fun(x)) / delta for i in range(n)])\n",
    "#     return norm(grad_fd - grad(x)) / norm(grad(x))\n",
    "\n",
    "# alpha = 1e30\n",
    "# fun = lambda x: f3_reg(x, alpha)\n",
    "# grad = lambda x: grad3_reg(x, alpha)\n",
    "# print(grad_check(fun, grad, N))\n",
    "\n",
    "# kneedle = KneeLocator(curve[:, 1], curve[:, 2], S=1.0, curve=\"convex\", direction=\"decreasing\")\n",
    "# index = np.where(curve[:, 1] == kneedle.knee)[0][0]\n",
    "# print(kneedle.knee, index, curve[index])"
   ]
  },
  {
   "cell_type": "code",
   "execution_count": 968,
   "id": "d0052ba7-803d-4d40-ad19-34520456545f",
   "metadata": {},
   "outputs": [
    {
     "name": "stdout",
     "output_type": "stream",
     "text": [
      "CPU times: user 7.83 s, sys: 167 ms, total: 8 s\n",
      "Wall time: 690 ms\n"
     ]
    }
   ],
   "source": [
    "%%time\n",
    "n = gs_edited.shape[0]\n",
    "x = np.array([1] * n + [0] * (N - n))\n",
    "alpha = 100 * np.abs(f_term(x)) / np.abs(reg_term(x))\n",
    "roc = []\n",
    "for i in range(5):\n",
    "    result = roc_curve(alpha, x, gtol=1e-3)\n",
    "    roc.append(result)\n",
    "    alpha *= 0.01\n",
    "    x = result[0]\n",
    "    \n",
    "index = min(np.where(curve[:, 1] < 1.3 * min(curve[:, 1]))[0])\n",
    "alpha = curve[index, 0]\n",
    "x, info = roc_curve(alpha, roc[index][0], gtol=1e-4)"
   ]
  },
  {
   "cell_type": "code",
   "execution_count": 966,
   "id": "a4caed77-77e5-4d58-826d-4d7eeec90b3f",
   "metadata": {},
   "outputs": [
    {
     "name": "stdout",
     "output_type": "stream",
     "text": [
      "[13.97  1.21  0.13  0.1   0.1 ]\n",
      "[  12.56   20.88  122.91 3384.52 3384.52]\n",
      "(4.0829018641973366e-05, 0.007321850623050972, 6704.432775488962)\n"
     ]
    },
    {
     "data": {
      "image/png": "[encoded data removed]",
      "text/plain": [
       "<Figure size 432x288 with 1 Axes>"
      ]
     },
     "metadata": {
      "needs_background": "light"
     },
     "output_type": "display_data"
    }
   ],
   "source": [
    "curve = np.array([row[1] for row in roc])\n",
    "print(curve[:, 1] ** 0.5)\n",
    "print(curve[:, 2])\n",
    "plt.semilogy(curve[:, 1] ** 0.5, curve[:, 2], 'b-o')\n",
    "#plt.xlim([0.079, 0.1])\n",
    "plt.grid(True);\n",
    "plt.plot(curve[index, 1] ** 0.5, curve[index, 2], 'ro')\n",
    "print(info)"
   ]
  },
  {
   "cell_type": "code",
   "execution_count": null,
   "id": "ddfa5c55-11d4-48c2-b566-9b32a43bbb6f",
   "metadata": {},
   "outputs": [],
   "source": [
    "np.array2string(g, separator=\" \",)"
   ]
  }
 ],
 "metadata": {
  "kernelspec": {
   "display_name": "Python 3 (ipykernel)",
   "language": "python",
   "name": "python3"
  },
  "language_info": {
   "codemirror_mode": {
    "name": "ipython",
    "version": 3
   },
   "file_extension": ".py",
   "mimetype": "text/x-python",
   "name": "python",
   "nbconvert_exporter": "python",
   "pygments_lexer": "ipython3",
   "version": "3.9.7"
  }
 },
 "nbformat": 4,
 "nbformat_minor": 5
}
