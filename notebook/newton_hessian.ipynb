{
 "cells": [
  {
   "cell_type": "markdown",
   "id": "6ebd6ecd-ff99-43ed-b9f5-f1a22b209196",
   "metadata": {},
   "source": [
    "# Optimization of Newton Hessian System Solve"
   ]
  },
  {
   "cell_type": "code",
   "execution_count": 861,
   "id": "7dfc171c-520f-45fd-bfeb-fa11e397a760",
   "metadata": {},
   "outputs": [
    {
     "name": "stdout",
     "output_type": "stream",
     "text": [
      "The autoreload extension is already loaded. To reload it, use:\n",
      "  %reload_ext autoreload\n"
     ]
    }
   ],
   "source": [
    "import cProfile\n",
    "import itertools\n",
    "import matplotlib.pyplot as plt\n",
    "import numpy as np\n",
    "import os\n",
    "import pstats\n",
    "import scipy.sparse\n",
    "import scipy.linalg\n",
    "import time\n",
    "from numpy.linalg import norm\n",
    "from pstats import SortKey\n",
    "\n",
    "import eblp\n",
    "import eblp.eblp as cov\n",
    "import eblp.ccpd as ccpd\n",
    "\n",
    "np.set_printoptions(linewidth=150, precision=3, suppress=False)\n",
    "\n",
    "%load_ext autoreload\n",
    "%autoreload 2"
   ]
  },
  {
   "cell_type": "code",
   "execution_count": 862,
   "id": "05c30bdf-d57c-4df7-a635-67ade653291a",
   "metadata": {},
   "outputs": [],
   "source": [
    "n = 4\n",
    "\n",
    "k, l = eblp.linalg.lower_subscripts(n)\n",
    "ind = -np.ones((n, n), dtype=int)\n",
    "ind[k, l] = np.arange(len(k))"
   ]
  },
  {
   "cell_type": "code",
   "execution_count": 863,
   "id": "303da8cb-a433-475c-99e6-3457ff799da4",
   "metadata": {},
   "outputs": [
    {
     "data": {
      "text/plain": [
       "array([[ 1,  0,  0,  0],\n",
       "       [ 2,  5,  0,  0],\n",
       "       [ 3,  6,  8,  0],\n",
       "       [ 4,  7,  9, 10]])"
      ]
     },
     "execution_count": 863,
     "metadata": {},
     "output_type": "execute_result"
    }
   ],
   "source": [
    "ind + 1"
   ]
  },
  {
   "cell_type": "code",
   "execution_count": 864,
   "id": "d030ec3a-9b20-4f17-9fbd-f0aa1688ea62",
   "metadata": {},
   "outputs": [
    {
     "name": "stdout",
     "output_type": "stream",
     "text": [
      "1 & 0 & 0 & 0 \\\\\n",
      "2 & 5 & 0 & 0 \\\\\n",
      "3 & 6 & 8 & 0 \\\\\n",
      "4 & 7 & 9 & 10\n"
     ]
    }
   ],
   "source": [
    "print(\" \\\\\\\\\\n\".join([\" & \".join(map('{:d}'.format, line)) for line in ind+1]))"
   ]
  },
  {
   "cell_type": "code",
   "execution_count": 865,
   "id": "bd06a39d-fbb1-486c-9388-d457a5b2bca7",
   "metadata": {},
   "outputs": [
    {
     "data": {
      "text/plain": [
       "matrix([[ 100,    0,    0,    0,    0,    0,    0,    0,    0,    0],\n",
       "        [   2,    1,    0,    0,    0,    0,    0,    0,    0,    0],\n",
       "        [   3,    0,    1,    0,    0,    0,    0,    0,    0,    0],\n",
       "        [   4,    0,    0,    1,    0,    0,    0,    0,    0,    0],\n",
       "        [   0,  200,    0,    0,  500,    0,    0,    0,    0,    0],\n",
       "        [   0,    3,    2,    0,    6,    5,    0,    0,    0,    0],\n",
       "        [   0,    4,    0,    2,    7,    0,    5,    0,    0,    0],\n",
       "        [   0,    0,  300,    0,    0,  600,    0,  800,    0,    0],\n",
       "        [   0,    0,    4,    3,    0,    7,    6,    9,    8,    0],\n",
       "        [   0,    0,    0,  400,    0,    0,  700,    0,  900, 1000]])"
      ]
     },
     "execution_count": 865,
     "metadata": {},
     "output_type": "execute_result"
    }
   ],
   "source": [
    "h = eblp.ccpd.LltFunctional(4)\n",
    "j = h._dh.copy()\n",
    "j.data = np.concatenate((100 * np.arange(1, 1 + n * (n + 1) // 2), h._cross_term_index + 1))[h._perm]\n",
    "j.T.todense()"
   ]
  },
  {
   "cell_type": "code",
   "execution_count": 866,
   "id": "74841803-98b9-4305-be9f-8f91e4e1a825",
   "metadata": {},
   "outputs": [
    {
     "name": "stdout",
     "output_type": "stream",
     "text": [
      "2 x_{1} &  &  &  &  &  &  &  &  &  \\\\\n",
      "x_{2} & x_{1} &  &  &  &  &  &  &  &  \\\\\n",
      "x_{3} &  & x_{1} &  &  &  &  &  &  &  \\\\\n",
      "x_{4} &  &  & x_{1} &  &  &  &  &  &  \\\\\n",
      " & 2 x_{2} &  &  & 2 x_{5} &  &  &  &  &  \\\\\n",
      " & x_{3} & x_{2} &  & x_{6} & x_{5} &  &  &  &  \\\\\n",
      " & x_{4} &  & x_{2} & x_{7} &  & x_{5} &  &  &  \\\\\n",
      " &  & 2 x_{3} &  &  & 2 x_{6} &  & 2 x_{8} &  &  \\\\\n",
      " &  & x_{4} & x_{3} &  & x_{7} & x_{6} & x_{9} & x_{8} &  \\\\\n",
      " &  &  & 2 x_{4} &  &  & 2 x_{7} &  & 2 x_{9} & 2 x_{10}\n"
     ]
    }
   ],
   "source": [
    "print(\" \\\\\\\\\\n\".join([\" & \".join(map(lambda x: '2 x_{{{}}}'.format(x // 100) if x >= 100 else ('x_{{{}}}'.format(x) if x > 0 else ''), line)) for line in np.array(j.T.todense())]))"
   ]
  },
  {
   "cell_type": "code",
   "execution_count": 867,
   "id": "f318bbbc-a469-4fd1-bc2d-670fa1eaa428",
   "metadata": {},
   "outputs": [
    {
     "name": "stdout",
     "output_type": "stream",
     "text": [
      "[ 3.333e-01  5.000e-01  1.667e-01 -3.856e-13]\n"
     ]
    },
    {
     "data": {
      "text/plain": [
       "array([0., 0., 0., 0., 0., 0., 0., 0.])"
      ]
     },
     "execution_count": 867,
     "metadata": {},
     "output_type": "execute_result"
    }
   ],
   "source": [
    "N = np.arange(2, 10)\n",
    "L = np.array([eblp.ccpd.LltFunctional(n)._dh.nnz for n in N])\n",
    "print(np.polyfit(N, L, 3))\n",
    "N *(2*N + 1) *(N + 1) / 6 - L"
   ]
  },
  {
   "cell_type": "code",
   "execution_count": 868,
   "id": "caea2eaa-95a6-48bc-b6ca-b8cbfbf5dab9",
   "metadata": {},
   "outputs": [
    {
     "data": {
      "text/plain": [
       "(58, 30)"
      ]
     },
     "execution_count": 868,
     "metadata": {},
     "output_type": "execute_result"
    }
   ],
   "source": [
    "h = eblp.ccpd.LltFunctional(30)\n",
    "(h._dh.todense() != 0).sum(axis=0).max(), (h._dh.todense() != 0).sum(axis=1).max()"
   ]
  },
  {
   "cell_type": "code",
   "execution_count": 869,
   "id": "83bcfa21-9c25-4a84-9ab8-4748660788fc",
   "metadata": {},
   "outputs": [
    {
     "name": "stdout",
     "output_type": "stream",
     "text": [
      "9455 26565\n"
     ]
    }
   ],
   "source": [
    "\n",
    "print(h._dh.nnz, (h._dh.T.dot(h._dh)).nnz)"
   ]
  },
  {
   "cell_type": "code",
   "execution_count": 870,
   "id": "be3b048b-4dc3-4605-95e7-6dd0f1104314",
   "metadata": {},
   "outputs": [
    {
     "name": "stdout",
     "output_type": "stream",
     "text": [
      "[1.667e-01 3.333e-01 3.333e-01 1.667e-01 2.532e-12]\n",
      "5.40190669790301e-13\n"
     ]
    }
   ],
   "source": [
    "N = np.arange(2, 10)\n",
    "f = lambda a: (a.T @ a).nnz\n",
    "L = np.array([f(eblp.ccpd.LltFunctional(n)._dh.T) for n in N])\n",
    "print(np.polyfit(N, L, 4))\n",
    "#N *(2*N + 1) *(N + 1) / 6 - L\n",
    "p = np.polyfit(N, L, 4)\n",
    "Lfit = np.polyval(p, N)\n",
    "print(norm(L - Lfit))"
   ]
  },
  {
   "cell_type": "code",
   "execution_count": 871,
   "id": "eb341987-ef3c-4f40-a35f-bf20b79239b6",
   "metadata": {},
   "outputs": [
    {
     "data": {
      "text/plain": [
       "array([   7,   26,   70,  155,  301,  532,  876, 1365])"
      ]
     },
     "execution_count": 871,
     "metadata": {},
     "output_type": "execute_result"
    }
   ],
   "source": [
    "L"
   ]
  },
  {
   "cell_type": "code",
   "execution_count": 872,
   "id": "64fe36a8-48c8-4715-bb1c-fd0cf2a0317f",
   "metadata": {},
   "outputs": [
    {
     "data": {
      "text/plain": [
       "array([-2.363e-13,  7.461e-14,  1.279e-13,  8.527e-14,  0.000e+00,  0.000e+00,  0.000e+00, -4.547e-13])"
      ]
     },
     "execution_count": 872,
     "metadata": {},
     "output_type": "execute_result"
    }
   ],
   "source": [
    "L - Lfit"
   ]
  },
  {
   "cell_type": "code",
   "execution_count": 873,
   "id": "bff80e4c-1830-4986-9068-a54d7bd188e1",
   "metadata": {},
   "outputs": [
    {
     "data": {
      "text/plain": [
       "<216225x465 sparse matrix of type '<class 'numpy.float64'>'\n",
       "\twith 9455 stored elements in Compressed Sparse Row format>"
      ]
     },
     "execution_count": 873,
     "metadata": {},
     "output_type": "execute_result"
    }
   ],
   "source": [
    "h._hessian"
   ]
  },
  {
   "cell_type": "code",
   "execution_count": 912,
   "id": "87bcaf72-b314-42cc-a7b2-3257850fe39b",
   "metadata": {},
   "outputs": [
    {
     "name": "stdout",
     "output_type": "stream",
     "text": [
      "1\n",
      "2 &  &  &  &  &  &  &  &  &  \\\\\n",
      " &  &  &  &  &  &  &  &  &  \\\\\n",
      " &  &  &  &  &  &  &  &  &  \\\\\n",
      " &  &  &  &  &  &  &  &  &  \\\\\n",
      " &  &  &  &  &  &  &  &  &  \\\\\n",
      " &  &  &  &  &  &  &  &  &  \\\\\n",
      " &  &  &  &  &  &  &  &  &  \\\\\n",
      " &  &  &  &  &  &  &  &  &  \\\\\n",
      " &  &  &  &  &  &  &  &  &  \\\\\n",
      " &  &  &  &  &  &  &  &  & \n",
      "6\n",
      " &  &  &  &  &  &  &  &  &  \\\\\n",
      " &  & 1 &  &  &  &  &  &  &  \\\\\n",
      " & 1 &  &  &  &  &  &  &  &  \\\\\n",
      " &  &  &  &  &  &  &  &  &  \\\\\n",
      " &  &  &  &  & 1 &  &  &  &  \\\\\n",
      " &  &  &  & 1 &  &  &  &  &  \\\\\n",
      " &  &  &  &  &  &  &  &  &  \\\\\n",
      " &  &  &  &  &  &  &  &  &  \\\\\n",
      " &  &  &  &  &  &  &  &  &  \\\\\n",
      " &  &  &  &  &  &  &  &  & \n",
      "9\n",
      " &  &  &  &  &  &  &  &  &  \\\\\n",
      " &  &  &  &  &  &  &  &  &  \\\\\n",
      " &  &  & 1 &  &  &  &  &  &  \\\\\n",
      " &  & 1 &  &  &  &  &  &  &  \\\\\n",
      " &  &  &  &  &  &  &  &  &  \\\\\n",
      " &  &  &  &  &  & 1 &  &  &  \\\\\n",
      " &  &  &  &  & 1 &  &  &  &  \\\\\n",
      " &  &  &  &  &  &  &  & 1 &  \\\\\n",
      " &  &  &  &  &  &  & 1 &  &  \\\\\n",
      " &  &  &  &  &  &  &  &  & \n",
      "10\n",
      " &  &  &  &  &  &  &  &  &  \\\\\n",
      " &  &  &  &  &  &  &  &  &  \\\\\n",
      " &  &  &  &  &  &  &  &  &  \\\\\n",
      " &  &  & 2 &  &  &  &  &  &  \\\\\n",
      " &  &  &  &  &  &  &  &  &  \\\\\n",
      " &  &  &  &  &  &  &  &  &  \\\\\n",
      " &  &  &  &  &  & 2 &  &  &  \\\\\n",
      " &  &  &  &  &  &  &  &  &  \\\\\n",
      " &  &  &  &  &  &  &  & 2 &  \\\\\n",
      " &  &  &  &  &  &  &  &  & 2\n",
      "[1 2 2 2 2 4 4 3 6 4] 30\n"
     ]
    }
   ],
   "source": [
    "n = 4\n",
    "N = n*(n+1)//2\n",
    "h = eblp.ccpd.LltFunctional(n)\n",
    "\n",
    "x = np.ones(N,)\n",
    "H = [None] * N\n",
    "for r in range(N):\n",
    "    H[r] = np.array(h.hessian(x)[r * N:(r + 1)*N].todense())\n",
    "    if r in (0, 5, N-2, N-1):\n",
    "        print(r + 1)\n",
    "        #print(H[r])\n",
    "        print(\" \\\\\\\\\\n\".join([\" & \".join(map(lambda x: str(int(x)) if x != 0 else '', line)) for line in H[r]]))\n",
    "nnz = np.array([(H[r] != 0).sum() for r in range(N)])\n",
    "print(nnz, sum(nnz))"
   ]
  },
  {
   "cell_type": "markdown",
   "id": "9a93840a-60a4-4e8c-81c6-98ffb523c2c0",
   "metadata": {},
   "source": [
    "## Hessian Terms / PCG"
   ]
  },
  {
   "cell_type": "code",
   "execution_count": 878,
   "id": "e6442d71-6632-4142-94f4-02c6a28b74a4",
   "metadata": {},
   "outputs": [],
   "source": [
    "def create_random_spd(n, noise: float = 1e-2):\n",
    "    # Generate an SPD matrix and its Cholesky factor. Explicitly calculate Frobenius error.\n",
    "    np.random.seed(0)\n",
    "    g = eblp.linalg.random_spsd(n, 2) + 0.001 * np.eye(n)\n",
    "    g /= norm(g)\n",
    "    b = g + noise * np.eye(n)\n",
    "    l = scipy.linalg.cholesky(b, lower=True)\n",
    "    l_vector = eblp.linalg.unravel_lower(l)\n",
    "    return g, l_vector"
   ]
  },
  {
   "cell_type": "code",
   "execution_count": 885,
   "id": "c321386f-fd11-44c8-92bf-8b5c637d54d3",
   "metadata": {},
   "outputs": [],
   "source": [
    "n = 10\n",
    "g, l_vector = create_random_spd(n, noise=1e-1)\n",
    "a = scipy.sparse.csr_matrix(eblp.ccpd.frobenius_error_to_matrix(n))\n",
    "f = eblp.ccpd.MomentCholeskyFunctionalExplicit(a, g)\n",
    "\n",
    "result = scipy.optimize.minimize(f.fun, l_vector, method=\"Newton-CG\", jac=f.grad,\n",
    "                                 hess=f.hessian, options={\"xtol\": 1e-3, \"disp\": False, \"maxiter\": 20})\n",
    "\n",
    "result2 = scipy.optimize.minimize(f.fun, l_vector, method=\"BFGS\", jac=f.grad,\n",
    "                                options={\"gtol\": 1e-3, \"disp\": False, \"maxiter\": 20})"
   ]
  },
  {
   "cell_type": "code",
   "execution_count": 881,
   "id": "4e4af5d0-7683-46ae-8cfd-40bf5d2c9033",
   "metadata": {},
   "outputs": [
    {
     "data": {
      "text/plain": [
       "     fun: 7.736260358307411e-07\n",
       "     jac: array([ 3.439e-06,  1.235e-06, -6.155e-06,  8.990e-07, -4.350e-06, -4.092e-06,  2.283e-06, -9.903e-06,  2.237e-05, -3.052e-05, -2.821e-06,\n",
       "       -7.409e-06,  4.898e-06, -1.180e-05, -3.681e-05,  1.549e-08,  1.871e-05,  1.776e-05,  1.149e-05, -2.196e-06, -2.298e-06, -6.567e-06,\n",
       "       -5.790e-06,  1.617e-06, -3.407e-05,  6.511e-05, -9.337e-05, -6.848e-07,  1.986e-06, -8.592e-06, -3.323e-06, -1.859e-06,  1.894e-05,\n",
       "       -1.347e-05, -1.798e-05, -8.606e-05,  5.167e-06,  2.696e-04, -3.096e-04,  6.263e-04,  2.899e-05, -2.148e-06,  7.568e-05, -1.150e-04,\n",
       "        1.862e-04,  2.709e-07,  1.997e-05, -3.030e-05,  5.432e-05,  8.318e-05, -8.062e-05,  1.825e-04,  1.772e-04, -3.235e-04,  7.682e-05])\n",
       " message: 'Optimization terminated successfully.'\n",
       "    nfev: 16\n",
       "    nhev: 15\n",
       "     nit: 15\n",
       "    njev: 16\n",
       "  status: 0\n",
       " success: True\n",
       "       x: array([ 0.488, -0.18 , -0.112, -0.008, -0.242,  0.033, -0.04 ,  0.034,  0.083, -0.001,  0.341, -0.141, -0.082, -0.053, -0.209, -0.02 ,  0.379,\n",
       "        0.182, -0.085,  0.535, -0.166, -0.183, -0.112, -0.031, -0.008,  0.122, -0.026,  0.449,  0.253, -0.047, -0.02 , -0.013,  0.213,  0.105,\n",
       "        0.133, -0.231,  0.022,  0.088, -0.107,  0.382,  0.552,  0.018,  0.244, -0.022,  0.101,  0.619, -0.13 , -0.061,  0.062,  0.146,  0.098,\n",
       "        0.099,  0.197, -0.147,  0.06 ])"
      ]
     },
     "execution_count": 881,
     "metadata": {},
     "output_type": "execute_result"
    }
   ],
   "source": [
    "result"
   ]
  },
  {
   "cell_type": "code",
   "execution_count": 886,
   "id": "013482b7-1930-47fb-849e-97c9053a2319",
   "metadata": {},
   "outputs": [
    {
     "data": {
      "text/plain": [
       "      fun: 5.003521426061576e-05\n",
       " hess_inv: array([[  0.589,   0.189,   0.066, ...,  -0.049,  -0.316,   0.578],\n",
       "       [  0.189,   0.946,  -0.041, ...,   0.169,  -0.13 ,   0.562],\n",
       "       [  0.066,  -0.041,   0.964, ...,   0.187,   0.51 ,  -0.69 ],\n",
       "       ...,\n",
       "       [ -0.049,   0.169,   0.187, ...,   4.892,   4.425,  -2.782],\n",
       "       [ -0.316,  -0.13 ,   0.51 , ...,   4.425,  12.763, -16.423],\n",
       "       [  0.578,   0.562,  -0.69 , ...,  -2.782, -16.423,  28.937]])\n",
       "      jac: array([-3.711e-04,  2.654e-04,  6.707e-04, -2.436e-04, -3.690e-04,  1.163e-04,  6.085e-05,  6.813e-05,  3.106e-04, -3.805e-04,  2.897e-04,\n",
       "        1.404e-03, -8.756e-04, -5.561e-04, -4.193e-04,  2.564e-04, -3.108e-05,  8.819e-04, -4.222e-04, -5.604e-04,  1.965e-04, -4.555e-05,\n",
       "        1.837e-04,  4.837e-04,  6.868e-05,  2.791e-04,  8.003e-05,  5.707e-05,  6.461e-04,  2.669e-05,  2.348e-04, -1.290e-04, -2.698e-04,\n",
       "        6.010e-04,  1.084e-04,  4.692e-04, -8.908e-05, -7.220e-04, -6.092e-04, -1.823e-03,  1.203e-04, -1.555e-04, -4.432e-04, -1.826e-04,\n",
       "        1.126e-04, -1.048e-03, -4.430e-04, -9.289e-04,  2.102e-05, -6.718e-04, -5.118e-04, -9.712e-04, -4.219e-04,  1.633e-04, -1.889e-04])\n",
       "  message: 'Maximum number of iterations has been exceeded.'\n",
       "     nfev: 22\n",
       "      nit: 20\n",
       "     njev: 22\n",
       "   status: 1\n",
       "  success: False\n",
       "        x: array([ 0.489, -0.179, -0.109, -0.01 , -0.239,  0.034, -0.04 ,  0.034,  0.084, -0.002,  0.341, -0.136, -0.087, -0.049, -0.21 , -0.017,  0.38 ,\n",
       "        0.186, -0.083,  0.537, -0.167, -0.177, -0.11 , -0.029, -0.011,  0.121, -0.025,  0.447,  0.255, -0.049, -0.018, -0.01 ,  0.219,  0.108,\n",
       "        0.152, -0.187,  0.023,  0.058, -0.12 ,  0.322,  0.569,  0.017,  0.221, -0.015,  0.051,  0.619, -0.13 , -0.064,  0.066,  0.187,  0.04 ,\n",
       "        0.223,  0.198, -0.167,  0.074])"
      ]
     },
     "execution_count": 886,
     "metadata": {},
     "output_type": "execute_result"
    }
   ],
   "source": [
    "result2"
   ]
  },
  {
   "cell_type": "code",
   "execution_count": null,
   "id": "14e20a97-cf54-4e7b-b437-a4500ea5af14",
   "metadata": {},
   "outputs": [],
   "source": []
  }
 ],
 "metadata": {
  "kernelspec": {
   "display_name": "Python 3 (ipykernel)",
   "language": "python",
   "name": "python3"
  },
  "language_info": {
   "codemirror_mode": {
    "name": "ipython",
    "version": 3
   },
   "file_extension": ".py",
   "mimetype": "text/x-python",
   "name": "python",
   "nbconvert_exporter": "python",
   "pygments_lexer": "ipython3",
   "version": "3.9.7"
  }
 },
 "nbformat": 4,
 "nbformat_minor": 5
}
