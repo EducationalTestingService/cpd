{
 "cells": [
  {
   "cell_type": "markdown",
   "id": "6ebd6ecd-ff99-43ed-b9f5-f1a22b209196",
   "metadata": {
    "tags": []
   },
   "source": [
    "# EBLP Covariance Matrix Estimation - California School Data\n",
    "We compare our block covariance matrix $G$ estimation method against the baseline that uses near PD for increaingly larger school sizes. This amounts to scaling the random effect covariance matrices $R_s$ by $1/\\sqrt{n}$, if all schools are $n$ times larger, and comparing the $M_s$ EBLP estimates vs. the known correct limit, which is the average of student scores in the chool."
   ]
  },
  {
   "cell_type": "code",
   "execution_count": 26,
   "id": "7dfc171c-520f-45fd-bfeb-fa11e397a760",
   "metadata": {},
   "outputs": [
    {
     "name": "stdout",
     "output_type": "stream",
     "text": [
      "The autoreload extension is already loaded. To reload it, use:\n",
      "  %reload_ext autoreload\n"
     ]
    }
   ],
   "source": [
    "import collections\n",
    "import cProfile\n",
    "import matplotlib.pyplot as plt\n",
    "import numpy as np\n",
    "import os\n",
    "import pandas as pd\n",
    "from numpy.linalg import norm, eig, inv\n",
    "import scipy\n",
    "from scipy.linalg import eigh\n",
    "\n",
    "import cpd\n",
    "from cpd.moment_functional import f\n",
    "\n",
    "np.set_printoptions(linewidth=150, precision=3, suppress=False)\n",
    "\n",
    "%load_ext autoreload\n",
    "%autoreload 2"
   ]
  },
  {
   "cell_type": "markdown",
   "id": "d9d02a1d-ec8e-4b97-b91b-31a72321703e",
   "metadata": {},
   "source": [
    "## 1. Load Data"
   ]
  },
  {
   "cell_type": "code",
   "execution_count": 4,
   "id": "ac2126fc-7926-4760-b92a-8f8118cb6cee",
   "metadata": {},
   "outputs": [
    {
     "name": "stdout",
     "output_type": "stream",
     "text": [
      "P: len 869 shape (10, 9)\n"
     ]
    }
   ],
   "source": [
    "DATA_DIR = \"../data/eblp_ca\"\n",
    "a_file_name = os.path.join(DATA_DIR, \"A.txt\")\n",
    "c_file_name = os.path.join(DATA_DIR, \"C.txt\")\n",
    "w_file_name = os.path.join(DATA_DIR, \"Weights_BxB.txt\")\n",
    "pi_file_name = os.path.join(DATA_DIR, \"Pi_s.txt\")\n",
    "\n",
    "r_file_name = os.path.join(DATA_DIR, \"R_s.txt\")\n",
    "mu_file_name = os.path.join(DATA_DIR, \"mu_s.txt\")\n",
    "# Baseline G estimate.\n",
    "g_file_name = os.path.join(DATA_DIR, \"G.txt\")\n",
    "y_file_name = os.path.join(DATA_DIR, \"Ytilde_s.txt\")\n",
    "\n",
    "a, c, w, r, p = cpd.data.load_data(a_file_name, c_file_name, w_file_name, pi_file_name)\n",
    "print(\"P: len\", len(p), \"shape\", p.shape)"
   ]
  },
  {
   "cell_type": "markdown",
   "id": "f5818330-5201-40dc-ab01-72fc0ecea687",
   "metadata": {},
   "source": [
    "## 2. EBLP Covariance Matrix Estimation"
   ]
  },
  {
   "cell_type": "markdown",
   "id": "6022daa1-229c-43ed-a339-abbe55abd21d",
   "metadata": {},
   "source": [
    "### Comparison of LS solution with R-code\n",
    "Baseline residual from Katherine's R-code: $\\|f(G^*)\\|/\\|C\\| \\approx 0.04$."
   ]
  },
  {
   "cell_type": "code",
   "execution_count": 5,
   "id": "b80575d2-d711-4737-ae54-d785e4052850",
   "metadata": {},
   "outputs": [
    {
     "name": "stdout",
     "output_type": "stream",
     "text": [
      "lam(G^*) [-28.6   8.7  48.5  63.6  77.1 163.4 258.2 288.5 389.3]\n",
      "|baseline - LS solution|/|basline| 3.4245e-15 residual baseline 6.56198352e-02 LS 6.56198352e-02 6.56198352e-02\n"
     ]
    }
   ],
   "source": [
    "gs = np.loadtxt(os.path.join(DATA_DIR, \"Gstar.txt\"))\n",
    "\n",
    "# gs = np.loadtxt(os.path.join(DATA_DIR, \"Gstar_notWtd.txt\"))\n",
    "# w = np.ones_like(w)\n",
    "\n",
    "lam_g = np.sort(np.linalg.eig(gs)[0])\n",
    "print(\"lam(G^*) {}\".format(np.array2string(lam_g, precision=1)))\n",
    "g_vector =  cpd.linalg.unravel_lower(gs)\n",
    "\n",
    "# Convert to unraveled form.\n",
    "d = cpd.linalg.norm_weight_matrix(p.shape[0])\n",
    "w_vector = cpd.linalg.unravel_lower(w)\n",
    "w_matrix = np.diag(w_vector)\n",
    "\n",
    "h = w_matrix @ cpd.moment_functional.matrix_function_to_matrix_sum(p, p)\n",
    "c_vector = w_matrix @ cpd.linalg.unravel_lower(c)\n",
    "# Solve LS problem.\n",
    "g_ls_vector = np.linalg.lstsq(h, c_vector, rcond=None)[0]\n",
    "g_ls = cpd.linalg.ravel_lower(g_ls_vector, symmetric=True)\n",
    "\n",
    "n = len(c_vector)\n",
    "print(\"|baseline - LS solution|/|basline| {:.4e} residual baseline {:.8e} LS {:.8e} {:.8e}\".format(\n",
    "    norm(np.array(g_vector).flatten() - np.array(g_ls_vector).flatten()) / norm(np.array(g_vector).flatten()),\n",
    "    norm(w * (f(gs, p) - c)) / norm(w * c),\n",
    "    norm(w * (f(g_ls, p) - c)) / norm(w * c),\n",
    "    norm(d @ (h @ g_ls_vector - c_vector)) / norm(d @ c_vector)))\n",
    "\n",
    "# plt.plot(lam, 'o', label=\"$A G^* A^T$\")\n",
    "# plt.xlabel(\"$i$\")\n",
    "# plt.ylabel(\"$\\lambda_i$\")\n",
    "# plt.legend();"
   ]
  },
  {
   "cell_type": "markdown",
   "id": "6b2c29ea-defe-4085-9dba-91a7461eede0",
   "metadata": {},
   "source": [
    "### $G^*$ Estimation using Regularized Cholesky Optimization (RCO)\n",
    "In this section, we omit the $*$ superscript, as our unknown is $G^*$ all along.\n",
    "\n",
    "#### Recoding $G$ to a vector\n",
    "The functional to minimize is\n",
    "\n",
    "$$ \\min_G f(G) := \\| \\sum_i P_i ^T G P_T - C \\|\\ / \\|C\\|\\,, $$\n",
    "where $\\|\\cdot\\|$ is the Frobenius norm.\n",
    "\n",
    "Each term is of the form $P G P^T$. More generally, when we write $G = LL^T$ and freeze one of the terms in the Cholesky product, we will obtain terms of the form $P L L_{prev}^T P^T = P L (P L_{prev})^T = P L Q^T$ where $P \\not = Q$. So we first focus on recoding the function \n",
    "\n",
    "$$P G Q^T$$ \n",
    "\n",
    "into the form $H g$, where $g$ consists of the lower-dimensional part of $G$ (including the diagonal). Here\n",
    "* $P: m \\times n$.\n",
    "* $G: n \\times n$.\n",
    "* $Q: m \\times n$.\n",
    "* $F: \\frac{m (m+1)}{2} \\times \\frac{n (n+1)}{2}$.\n",
    "* $g$: vector of size $\\frac{n (n+1)}{2}$.\n",
    "\n",
    "In the original equations, $m = B, n = B - 1$, and $Q = P$ in all terms appearing in $f$.\n",
    "\n",
    "$$ (P LG Q^T)_{ij} = \\sum_{l,k=0}^{n-1} P_{ik} Q_{jk} G_{kl} = \\sum_{r=0}^{n(n-1)/2} P_{ik} Q_{jk} g_{r(k,l)}$$\n",
    "\n",
    "Thus the entire functional $h(G) = \\sum_i P_i ^T G P_T $ can be written as $H g$ for some matrix $H$.\n",
    "\n",
    "#### Explicit Equation for the flattened $L$\n",
    "Assuming $G$ The functional $h(G = L L^T)$\n",
    "\n",
    "$$ h(G) = \\sum_i \\left(l^T A_i l - c_i\\right)^2  $$\n",
    "\n",
    "#### Regularization\n",
    "Maximize $G'$'s, i.e. $L$'s determinant, under constant norm.\n",
    "\n",
    "$$ \\min_l \\sum_i \\left(l^T A_i l - c_i\\right)^2 - \\alpha \\left(\n",
    "\\sum_{i=0}^{n-1} \\log(l_i^2) - \\log \\left(\\sum_{i=0}^{n-1} l_i ^2\\right) \\right) $$\n",
    "* Continuation in $\\alpha$, starting from large $\\alpha$ and decreasing it.\n",
    "* BFGS for a fixed $\\alpha$.\n",
    "* L-curve for picking $\\alpha$."
   ]
  },
  {
   "cell_type": "markdown",
   "id": "a491f04b-fe9c-4611-9801-8e4bed4d1b2e",
   "metadata": {},
   "source": [
    "### ROC Comparison\n",
    "We test the robustness of three emethods:\n",
    "1. **Our method (RCO)** for minimizing the regularizd EBLP functional.\n",
    "2. **Near-PD RCO**: finding the closest CPD matrix to the LS solution using RCO.\n",
    "2. **Tanaka-Nakata (TN) method** for finding a closest CPD to the LS solution + picking optimal kappa on the curve.\n",
    "3. **Basline: Higham Near PD** with eigenvalue tolerance of $\\alpha$ as its regularization parameter (no continuation is possible in near PD, we start from scratch every time)."
   ]
  },
  {
   "cell_type": "code",
   "execution_count": 6,
   "id": "08c0f65b-a891-4f3c-8203-3f4685cbc5f8",
   "metadata": {},
   "outputs": [
    {
     "name": "stdout",
     "output_type": "stream",
     "text": [
      "rco\n",
      "higham\n",
      "tn\n"
     ]
    }
   ],
   "source": [
    "# Produce ROC curves for both methods.\n",
    "methods = (\"rco\", \"higham\", \"tn\")\n",
    "colors = (\"b\", \"g\", \"k\")\n",
    "\n",
    "result = {}\n",
    "for method in methods:\n",
    "    print(method)\n",
    "    optimizer = cpd.eblp.create_optimizer(method, p, w)\n",
    "    result[method] = optimizer.optimize(c, num_alpha=200, alpha_step=0.9, tol_curve=1e-4, tol=1e-4)"
   ]
  },
  {
   "cell_type": "code",
   "execution_count": 7,
   "id": "8e9a9dda-7186-4f65-bfbb-a808673518b4",
   "metadata": {},
   "outputs": [
    {
     "name": "stdout",
     "output_type": "stream",
     "text": [
      "rco         : alpha 5.20e-03 knee (8.24e-02, 1.31e+02) index 86 final error 8.243e-02 8.243e-02 k(G) 1.31e+02\n",
      "higham      : alpha 1.31e-05 knee (8.47e-02, 7.28e+04) index 63 final error 8.467e-02 8.467e-02 k(G) 7.28e+04\n",
      "tn          : alpha 5.93e+01 knee (9.29e-02, 5.93e+01) index 104 final error 9.287e-02 9.287e-02 k(G) 5.93e+01\n"
     ]
    },
    {
     "data": {
      "image/png": "[encoded data removed]",
      "text/plain": [
       "<Figure size 432x288 with 1 Axes>"
      ]
     },
     "metadata": {
      "needs_background": "light"
     },
     "output_type": "display_data"
    }
   ],
   "source": [
    "for i, method in enumerate(methods):\n",
    "    g, out = result[method]\n",
    "    info = out.info\n",
    "    curve = out.curve\n",
    "    index = out.index\n",
    "    err = norm(w * (f(g, p) - c)) / norm(w * c)\n",
    "    plt.semilogy(curve[:, 1], curve[:, 2], colors[i], label=method)\n",
    "    plt.plot(curve[index, 1], curve[index, 2], 'ro')\n",
    "    print(\"{:<11s} : alpha {:.2e} knee ({:.2e}, {:.2e}) index {:2d} final error {:.3e} {:.3e} k(G) {:.2e}\".format(\n",
    "        method, info[0], curve[index, 1], curve[index, 2], index, info[1], err, info[2]))\n",
    "plt.grid(True);\n",
    "plt.xlabel(\"Relative error $||h(G) - C||/||C||$\")\n",
    "plt.ylabel(\"$\\kappa(G)$\")\n",
    "plt.legend()\n",
    "curve = result[\"rco\"][1].curve\n",
    "plt.xlim([0.9 * min(curve[:, 1]), 1.5 * min(curve[:, 1])]);"
   ]
  },
  {
   "cell_type": "markdown",
   "id": "7f2e6f31-37f5-4e9d-a27a-73a021ddd1eb",
   "metadata": {},
   "source": [
    "CSPD producess both a more conditioned matrix (condition number is reduced by 1000x) and a smaller residual (by 3%). The ROC curve is smoother, allowing more freedom in choosing the regularization parameter $\\alpha$. Even in the limit $\\alpha \\rightarrow 0$, the condition number tends to a finite limit.\n",
    "\n",
    "Note that Near CPD's curve has a \"wiggle\" for small $\\alpha$. That's because we are optimizing the Frobenius norm, so $f(G(\\alpha))$ is not guaranteed to be monotonic in $\\alpha$."
   ]
  },
  {
   "cell_type": "code",
   "execution_count": 8,
   "id": "f3d80e01-51cd-4f30-8546-692cd84b4c7c",
   "metadata": {},
   "outputs": [
    {
     "name": "stdout",
     "output_type": "stream",
     "text": [
      "CPU times: user 223 ms, sys: 1.39 ms, total: 224 ms\n",
      "Wall time: 225 ms\n",
      "rco      : alpha 4.481e-03 rel. error 8.196e-02 k(G) 1.483e+02\n",
      "CPU times: user 27 ms, sys: 170 µs, total: 27.2 ms\n",
      "Wall time: 27.3 ms\n",
      "higham   : alpha 1.000e-06 rel. error 8.467e-02 k(G) 7.278e+04\n",
      "CPU times: user 42.1 ms, sys: 515 µs, total: 42.6 ms\n",
      "Wall time: 22.3 ms\n",
      "tn       : alpha 1.607e+02 rel. error 8.758e-02 k(G) 1.607e+02\n"
     ]
    }
   ],
   "source": [
    "# Solution with default parameters.\n",
    "for method in methods:\n",
    "    optimizer = cpd.eblp.create_optimizer(method, p, w)\n",
    "    %time g, r = optimizer.optimize(c, leeway_factor=1.1)\n",
    "    info = r.info\n",
    "    print(\"{:<8s} : alpha {:.3e} rel. error {:.3e} k(G) {:.3e}\".format(method, info[0], info[1], info[2]))"
   ]
  },
  {
   "cell_type": "code",
   "execution_count": 9,
   "id": "07e11d67-964b-4e71-8f6f-d14376ec5f3f",
   "metadata": {},
   "outputs": [
    {
     "name": "stdout",
     "output_type": "stream",
     "text": [
      "rco\n",
      "g\n",
      "[[216.5213 -10.7976  -5.1195 -73.4388 -13.9488  87.3209 -39.0781  -9.197  -42.6799]\n",
      " [-10.7976 199.2488 -28.0483 -40.441  -42.3751  -4.1998  57.7488 -63.4078 -20.9321]\n",
      " [ -5.1195 -28.0483 150.0849 -57.752  -22.8204  -5.9921 -25.6341  82.639  -77.7462]\n",
      " [-73.4388 -40.441  -57.752  149.5527  15.4365 -49.6865  13.3969 -42.925   78.8361]\n",
      " [-13.9488 -42.3751 -22.8204  15.4365 172.3585 -44.215  -49.5637 -27.4847  16.7758]\n",
      " [ 87.3209  -4.1998  -5.9921 -49.6865 -44.215  127.9799 -20.7062 -11.2941 -44.4908]\n",
      " [-39.0781  57.7488 -25.6341  13.3969 -49.5637 -20.7062  82.2182   6.5164  -8.6413]\n",
      " [ -9.197  -63.4078  82.639  -42.925  -27.4847 -11.2941   6.5164 103.531  -40.7159]\n",
      " [-42.6799 -20.9321 -77.7462  78.8361  16.7758 -44.4908  -8.6413 -40.7159  99.6717]]\n",
      "8.19571300e-02\n",
      "(0.004480974059329788, 0.08195712999487802, 148.28549465425962) [[4.4810e+01 9.9225e-01 1.0018e+00]\n",
      " [4.4810e-01 2.2641e-01 1.8558e+01]\n",
      " [4.4810e-03 8.2020e-02 1.4521e+02]\n",
      " [4.4810e-05 7.8925e-02 8.6016e+03]\n",
      " [4.4810e-07 7.8879e-02 1.3394e+06]] 2\n",
      "tn\n",
      "g\n",
      "[[218.0001 -12.0329  -4.8535 -74.6247 -13.4001  87.698  -38.5802 -10.1575 -41.0728]\n",
      " [-12.0329 202.9018 -28.4619 -42.2022 -42.6004  -5.0016  58.0299 -64.9876 -20.3952]\n",
      " [ -4.8535 -28.4619 152.561  -57.3342 -21.9115  -6.0258 -24.7371  82.712  -77.4701]\n",
      " [-74.6247 -42.2022 -57.3342 146.4387  15.9072 -49.5893  14.5643 -44.0148  80.711 ]\n",
      " [-13.4001 -42.6004 -21.9115  15.9072 168.4511 -43.9578 -48.6486 -27.4445  18.2915]\n",
      " [ 87.698   -5.0016  -6.0258 -49.5893 -43.9578 129.6243 -20.2632 -12.0275 -44.62  ]\n",
      " [-38.5802  58.0299 -24.7371  14.5643 -48.6486 -20.2632  82.8643   6.5591  -7.5833]\n",
      " [-10.1575 -64.9876  82.712  -44.0148 -27.4445 -12.0275   6.5591 102.2809 -40.352 ]\n",
      " [-41.0728 -20.3952 -77.4701  80.711   18.2915 -44.62    -7.5833 -40.352   96.4472]]\n",
      "8.75783108e-02\n",
      "(160.7019489414201, 0.0875783107527189, 160.70194894141912) [[4.4577e+03 8.4754e-02 4.4577e+03]\n",
      " [8.4638e+02 8.5196e-02 8.4638e+02]\n",
      " [1.6070e+02 8.7578e-02 1.6070e+02]\n",
      " [3.0513e+01 1.2027e-01 3.0513e+01]\n",
      " [5.7934e+00 7.5661e-01 5.7934e+00]] 2\n"
     ]
    }
   ],
   "source": [
    "for method in (\"rco\", \"tn\"):\n",
    "    print(method)\n",
    "    optimizer = cpd.eblp.create_optimizer(method, p, w)\n",
    "    g, r = optimizer.optimize(c)\n",
    "    np.set_printoptions(precision=4)\n",
    "    print(\"g\")\n",
    "    print(g)\n",
    "    print(\"{:.8e}\".format(norm(w * (f(g, p) - c)) / norm(w * c)))\n",
    "    print(r.info, r.curve, r.index)"
   ]
  },
  {
   "cell_type": "code",
   "execution_count": 10,
   "id": "bafc0818-431c-47e4-a960-5ceb42fb7d30",
   "metadata": {},
   "outputs": [
    {
     "data": {
      "text/plain": [
       "(array([[4.4577e+03, 8.4754e-02, 4.4577e+03],\n",
       "        [4.2763e+03, 8.4759e-02, 4.2763e+03],\n",
       "        [4.1023e+03, 8.4763e-02, 4.1023e+03],\n",
       "        [3.9354e+03, 8.4768e-02, 3.9354e+03],\n",
       "        [3.7753e+03, 8.4773e-02, 3.7753e+03],\n",
       "        [3.6217e+03, 8.4778e-02, 3.6217e+03],\n",
       "        [3.4744e+03, 8.4784e-02, 3.4744e+03],\n",
       "        [3.3330e+03, 8.4789e-02, 3.3330e+03],\n",
       "        [3.1974e+03, 8.4795e-02, 3.1974e+03],\n",
       "        [3.0673e+03, 8.4801e-02, 3.0673e+03],\n",
       "        [2.9425e+03, 8.4808e-02, 2.9425e+03],\n",
       "        [2.8228e+03, 8.4814e-02, 2.8228e+03],\n",
       "        [2.7080e+03, 8.4821e-02, 2.7080e+03],\n",
       "        [2.5978e+03, 8.4828e-02, 2.5978e+03],\n",
       "        [2.4921e+03, 8.4836e-02, 2.4921e+03],\n",
       "        [2.3907e+03, 8.4844e-02, 2.3907e+03],\n",
       "        [2.2935e+03, 8.4852e-02, 2.2935e+03],\n",
       "        [2.2001e+03, 8.4860e-02, 2.2001e+03],\n",
       "        [2.1106e+03, 8.4869e-02, 2.1106e+03],\n",
       "        [2.0248e+03, 8.4879e-02, 2.0248e+03],\n",
       "        [1.9424e+03, 8.4888e-02, 1.9424e+03],\n",
       "        [1.8634e+03, 8.4898e-02, 1.8634e+03],\n",
       "        [1.7876e+03, 8.4909e-02, 1.7876e+03],\n",
       "        [1.7148e+03, 8.4920e-02, 1.7148e+03],\n",
       "        [1.6451e+03, 8.4931e-02, 1.6451e+03],\n",
       "        [1.5781e+03, 8.4943e-02, 1.5781e+03],\n",
       "        [1.5139e+03, 8.4955e-02, 1.5139e+03],\n",
       "        [1.4523e+03, 8.4968e-02, 1.4523e+03],\n",
       "        [1.3932e+03, 8.4982e-02, 1.3932e+03],\n",
       "        [1.3366e+03, 8.4996e-02, 1.3366e+03],\n",
       "        [1.2822e+03, 8.5011e-02, 1.2822e+03],\n",
       "        [1.2300e+03, 8.5026e-02, 1.2300e+03],\n",
       "        [1.1800e+03, 8.5042e-02, 1.1800e+03],\n",
       "        [1.1320e+03, 8.5058e-02, 1.1320e+03],\n",
       "        [1.0859e+03, 8.5076e-02, 1.0859e+03],\n",
       "        [1.0417e+03, 8.5094e-02, 1.0417e+03],\n",
       "        [9.9935e+02, 8.5113e-02, 9.9935e+02],\n",
       "        [9.5869e+02, 8.5132e-02, 9.5869e+02],\n",
       "        [9.1969e+02, 8.5153e-02, 9.1969e+02],\n",
       "        [8.8227e+02, 8.5174e-02, 8.8227e+02],\n",
       "        [8.4638e+02, 8.5196e-02, 8.4638e+02],\n",
       "        [8.1194e+02, 8.5220e-02, 8.1194e+02],\n",
       "        [7.7891e+02, 8.5244e-02, 7.7891e+02],\n",
       "        [7.4722e+02, 8.5269e-02, 7.4722e+02],\n",
       "        [7.1682e+02, 8.5296e-02, 7.1682e+02],\n",
       "        [6.8766e+02, 8.5323e-02, 6.8766e+02],\n",
       "        [6.5968e+02, 8.5352e-02, 6.5968e+02],\n",
       "        [6.3284e+02, 8.5382e-02, 6.3284e+02],\n",
       "        [6.0709e+02, 8.5413e-02, 6.0709e+02],\n",
       "        [5.8239e+02, 8.5445e-02, 5.8239e+02],\n",
       "        [5.5870e+02, 8.5479e-02, 5.5870e+02],\n",
       "        [5.3597e+02, 8.5515e-02, 5.3597e+02],\n",
       "        [5.1416e+02, 8.5551e-02, 5.1416e+02],\n",
       "        [4.9324e+02, 8.5590e-02, 4.9324e+02],\n",
       "        [4.7318e+02, 8.5630e-02, 4.7318e+02],\n",
       "        [4.5393e+02, 8.5672e-02, 4.5393e+02],\n",
       "        [4.3546e+02, 8.5716e-02, 4.3546e+02],\n",
       "        [4.1774e+02, 8.5761e-02, 4.1774e+02],\n",
       "        [4.0075e+02, 8.5809e-02, 4.0075e+02],\n",
       "        [3.8444e+02, 8.5858e-02, 3.8444e+02],\n",
       "        [3.6880e+02, 8.5910e-02, 3.6880e+02],\n",
       "        [3.5380e+02, 8.5964e-02, 3.5380e+02],\n",
       "        [3.3940e+02, 8.6020e-02, 3.3940e+02],\n",
       "        [3.2559e+02, 8.6079e-02, 3.2559e+02],\n",
       "        [3.1235e+02, 8.6140e-02, 3.1235e+02],\n",
       "        [2.9964e+02, 8.6204e-02, 2.9964e+02],\n",
       "        [2.8745e+02, 8.6271e-02, 2.8745e+02],\n",
       "        [2.7575e+02, 8.6341e-02, 2.7575e+02],\n",
       "        [2.6454e+02, 8.6413e-02, 2.6454e+02],\n",
       "        [2.5377e+02, 8.6489e-02, 2.5377e+02],\n",
       "        [2.4345e+02, 8.6568e-02, 2.4345e+02],\n",
       "        [2.3354e+02, 8.6651e-02, 2.3354e+02],\n",
       "        [2.2404e+02, 8.6737e-02, 2.2404e+02],\n",
       "        [2.1493e+02, 8.6827e-02, 2.1493e+02],\n",
       "        [2.0618e+02, 8.6921e-02, 2.0618e+02],\n",
       "        [1.9779e+02, 8.7019e-02, 1.9779e+02],\n",
       "        [1.8975e+02, 8.7122e-02, 1.8975e+02],\n",
       "        [1.8203e+02, 8.7228e-02, 1.8203e+02],\n",
       "        [1.7462e+02, 8.7340e-02, 1.7462e+02],\n",
       "        [1.6752e+02, 8.7457e-02, 1.6752e+02],\n",
       "        [1.6070e+02, 8.7578e-02, 1.6070e+02],\n",
       "        [1.5416e+02, 8.7705e-02, 1.5416e+02],\n",
       "        [1.4789e+02, 8.7838e-02, 1.4789e+02],\n",
       "        [1.4187e+02, 8.7977e-02, 1.4187e+02],\n",
       "        [1.3610e+02, 8.8121e-02, 1.3610e+02],\n",
       "        [1.3057e+02, 8.8273e-02, 1.3057e+02],\n",
       "        [1.2525e+02, 8.8431e-02, 1.2525e+02],\n",
       "        [1.2016e+02, 8.8596e-02, 1.2016e+02],\n",
       "        [1.1527e+02, 8.8768e-02, 1.1527e+02],\n",
       "        [1.1058e+02, 8.8948e-02, 1.1058e+02],\n",
       "        [1.0608e+02, 8.9136e-02, 1.0608e+02],\n",
       "        [1.0176e+02, 8.9333e-02, 1.0176e+02],\n",
       "        [9.7624e+01, 8.9539e-02, 9.7624e+01],\n",
       "        [9.3653e+01, 8.9754e-02, 9.3653e+01],\n",
       "        [8.9842e+01, 8.9978e-02, 8.9842e+01],\n",
       "        [8.6187e+01, 9.0213e-02, 8.6187e+01],\n",
       "        [8.2681e+01, 9.0458e-02, 8.2681e+01],\n",
       "        [7.9317e+01, 9.0715e-02, 7.9317e+01],\n",
       "        [7.6090e+01, 9.0983e-02, 7.6090e+01],\n",
       "        [7.2994e+01, 9.1264e-02, 7.2994e+01],\n",
       "        [7.0024e+01, 9.1557e-02, 7.0024e+01],\n",
       "        [6.7176e+01, 9.1864e-02, 6.7176e+01],\n",
       "        [6.4443e+01, 9.2185e-02, 6.4443e+01],\n",
       "        [6.1821e+01, 9.2521e-02, 6.1821e+01],\n",
       "        [5.9306e+01, 9.2872e-02, 5.9306e+01],\n",
       "        [5.6893e+01, 9.3240e-02, 5.6893e+01],\n",
       "        [5.4578e+01, 9.3625e-02, 5.4578e+01],\n",
       "        [5.2358e+01, 9.4027e-02, 5.2358e+01],\n",
       "        [5.0227e+01, 9.4449e-02, 5.0227e+01],\n",
       "        [4.8184e+01, 9.4890e-02, 4.8184e+01],\n",
       "        [4.6224e+01, 9.5351e-02, 4.6224e+01],\n",
       "        [4.4343e+01, 9.5890e-02, 4.4343e+01],\n",
       "        [4.2539e+01, 9.7277e-02, 4.2539e+01],\n",
       "        [4.0808e+01, 9.8952e-02, 4.0808e+01],\n",
       "        [3.9148e+01, 1.0094e-01, 3.9148e+01],\n",
       "        [3.7555e+01, 1.0325e-01, 3.7555e+01],\n",
       "        [3.6027e+01, 1.0590e-01, 3.6027e+01],\n",
       "        [3.4562e+01, 1.0892e-01, 3.4562e+01],\n",
       "        [3.3155e+01, 1.1231e-01, 3.3155e+01],\n",
       "        [3.1807e+01, 1.1609e-01, 3.1807e+01],\n",
       "        [3.0513e+01, 1.2027e-01, 3.0513e+01],\n",
       "        [2.9271e+01, 1.2485e-01, 2.9271e+01],\n",
       "        [2.8080e+01, 1.2986e-01, 2.8080e+01],\n",
       "        [2.6938e+01, 1.3530e-01, 2.6938e+01],\n",
       "        [2.5842e+01, 1.4117e-01, 2.5842e+01],\n",
       "        [2.4791e+01, 1.4749e-01, 2.4791e+01],\n",
       "        [2.3782e+01, 1.5426e-01, 2.3782e+01],\n",
       "        [2.2814e+01, 1.6149e-01, 2.2814e+01],\n",
       "        [2.1886e+01, 1.6920e-01, 2.1886e+01],\n",
       "        [2.0996e+01, 1.7738e-01, 2.0996e+01],\n",
       "        [2.0142e+01, 1.8605e-01, 2.0142e+01],\n",
       "        [1.9322e+01, 1.9522e-01, 1.9322e+01],\n",
       "        [1.8536e+01, 2.0489e-01, 1.8536e+01],\n",
       "        [1.7782e+01, 2.1509e-01, 1.7782e+01],\n",
       "        [1.7058e+01, 2.2581e-01, 1.7058e+01],\n",
       "        [1.6364e+01, 2.3708e-01, 1.6364e+01],\n",
       "        [1.5699e+01, 2.4890e-01, 1.5699e+01],\n",
       "        [1.5060e+01, 2.6130e-01, 1.5060e+01],\n",
       "        [1.4447e+01, 2.7427e-01, 1.4447e+01],\n",
       "        [1.3859e+01, 2.8785e-01, 1.3859e+01],\n",
       "        [1.3296e+01, 3.0204e-01, 1.3296e+01],\n",
       "        [1.2755e+01, 3.1685e-01, 1.2755e+01],\n",
       "        [1.2236e+01, 3.3231e-01, 1.2236e+01],\n",
       "        [1.1738e+01, 3.4843e-01, 1.1738e+01],\n",
       "        [1.1260e+01, 3.6523e-01, 1.1260e+01],\n",
       "        [1.0802e+01, 3.8272e-01, 1.0802e+01],\n",
       "        [1.0363e+01, 4.0092e-01, 1.0363e+01],\n",
       "        [9.9412e+00, 4.1985e-01, 9.9412e+00],\n",
       "        [9.5367e+00, 4.3951e-01, 9.5367e+00],\n",
       "        [9.1487e+00, 4.5993e-01, 9.1487e+00],\n",
       "        [8.7765e+00, 4.8113e-01, 8.7765e+00],\n",
       "        [8.4194e+00, 5.0310e-01, 8.4194e+00],\n",
       "        [8.0769e+00, 5.2587e-01, 8.0769e+00],\n",
       "        [7.7483e+00, 5.4945e-01, 7.7483e+00],\n",
       "        [7.4330e+00, 5.7626e-01, 7.4330e+00],\n",
       "        [7.1306e+00, 6.0419e-01, 7.1306e+00],\n",
       "        [6.8405e+00, 6.3300e-01, 6.8405e+00],\n",
       "        [6.5622e+00, 6.6267e-01, 6.5622e+00],\n",
       "        [6.2952e+00, 6.9318e-01, 6.2952e+00],\n",
       "        [6.0391e+00, 7.2451e-01, 6.0391e+00],\n",
       "        [5.7934e+00, 7.5661e-01, 5.7934e+00],\n",
       "        [5.5577e+00, 7.8907e-01, 5.5577e+00],\n",
       "        [5.3316e+00, 8.2174e-01, 5.3316e+00],\n",
       "        [5.1147e+00, 8.5488e-01, 5.1147e+00],\n",
       "        [4.9066e+00, 8.8842e-01, 4.9066e+00],\n",
       "        [4.7070e+00, 9.2227e-01, 4.7070e+00],\n",
       "        [4.5155e+00, 9.5633e-01, 4.5155e+00],\n",
       "        [4.3318e+00, 9.9012e-01, 4.3318e+00],\n",
       "        [4.1555e+00, 1.0234e+00, 4.1555e+00],\n",
       "        [3.9865e+00, 1.0563e+00, 3.9865e+00],\n",
       "        [3.8243e+00, 1.0887e+00, 3.8243e+00],\n",
       "        [3.6687e+00, 1.1205e+00, 3.6687e+00],\n",
       "        [3.5194e+00, 1.1515e+00, 3.5194e+00],\n",
       "        [3.3762e+00, 1.1816e+00, 3.3762e+00],\n",
       "        [3.2389e+00, 1.2106e+00, 3.2389e+00],\n",
       "        [3.1071e+00, 1.2383e+00, 3.1071e+00],\n",
       "        [2.9807e+00, 1.2707e+00, 2.9807e+00],\n",
       "        [2.8594e+00, 1.3097e+00, 2.8594e+00],\n",
       "        [2.7431e+00, 1.3481e+00, 2.7431e+00],\n",
       "        [2.6315e+00, 1.3856e+00, 2.6315e+00],\n",
       "        [2.5244e+00, 1.4223e+00, 2.5244e+00],\n",
       "        [2.4217e+00, 1.4577e+00, 2.4217e+00],\n",
       "        [2.3232e+00, 1.4946e+00, 2.3232e+00],\n",
       "        [2.2287e+00, 1.5368e+00, 2.2287e+00],\n",
       "        [2.1380e+00, 1.5780e+00, 2.1380e+00],\n",
       "        [2.0510e+00, 1.6180e+00, 2.0510e+00],\n",
       "        [1.9676e+00, 1.6567e+00, 1.9676e+00],\n",
       "        [1.8875e+00, 1.6938e+00, 1.8875e+00],\n",
       "        [1.8107e+00, 1.7291e+00, 1.8107e+00],\n",
       "        [1.7371e+00, 1.7624e+00, 1.7371e+00],\n",
       "        [1.6664e+00, 1.7935e+00, 1.6664e+00],\n",
       "        [1.5986e+00, 1.8223e+00, 1.5986e+00],\n",
       "        [1.5336e+00, 1.8485e+00, 1.5336e+00],\n",
       "        [1.4712e+00, 1.8721e+00, 1.4712e+00],\n",
       "        [1.4113e+00, 1.8929e+00, 1.4113e+00],\n",
       "        [1.3539e+00, 1.9108e+00, 1.3539e+00],\n",
       "        [1.2988e+00, 1.9258e+00, 1.2988e+00],\n",
       "        [1.2460e+00, 1.9377e+00, 1.2460e+00],\n",
       "        [1.1953e+00, 1.9466e+00, 1.1953e+00],\n",
       "        [1.1467e+00, 1.9592e+00, 1.1467e+00]]),\n",
       " array([[4.4577e+03, 8.4754e-02, 4.4577e+03],\n",
       "        [8.4638e+02, 8.5196e-02, 8.4638e+02],\n",
       "        [1.6070e+02, 8.7578e-02, 1.6070e+02],\n",
       "        [3.0513e+01, 1.2027e-01, 3.0513e+01],\n",
       "        [5.7934e+00, 7.5661e-01, 5.7934e+00]]),\n",
       " 104,\n",
       " 2)"
      ]
     },
     "execution_count": 10,
     "metadata": {},
     "output_type": "execute_result"
    }
   ],
   "source": [
    "result[\"tn\"][1].curve, r.curve, result[\"tn\"][1].index, r.index"
   ]
  },
  {
   "cell_type": "markdown",
   "id": "2ad1afe1-3d11-4f7a-a0c2-a2eb127775e5",
   "metadata": {},
   "source": [
    "## 3. EBLP Estimation for Increasingly Large School Size"
   ]
  },
  {
   "cell_type": "code",
   "execution_count": 11,
   "id": "73da956b-6d0c-41fd-99f4-1063ca499f70",
   "metadata": {},
   "outputs": [],
   "source": [
    "# Load EBLP terms.\n",
    "g = np.loadtxt(g_file_name)\n",
    "\n",
    "y = pd.read_csv(y_file_name, delimiter=\" \")\n",
    "school_id = y[\"school\"]\n",
    "endpoints = np.array([i for i, (first, second) in enumerate(zip(school_id, school_id[1:])) if first != second])\n",
    "y_school = np.split(y[y.columns[~y.columns.isin([\"school\"])]], endpoints + 1)\n",
    "mu = pd.read_csv(mu_file_name, delimiter=\" \")[[\"mu\"]].values.flatten()\n",
    "r = cpd.data.data_frame_to_array_list(pd.read_csv(r_file_name, delimiter=\" \"), subtract_diagonal_sums=False)\n",
    "\n",
    "y = pd.read_csv(y_file_name, delimiter=\" \")\n",
    "school_id = y[\"school\"]\n",
    "endpoints = np.array([i for i, (first, second) in enumerate(zip(school_id, school_id[1:])) if first != second])"
   ]
  },
  {
   "cell_type": "code",
   "execution_count": 12,
   "id": "6d5d2bd5-802c-4958-a3d8-af3c43851f4d",
   "metadata": {},
   "outputs": [],
   "source": [
    "def eblp_estimate(y_school, r, g, mu, eps: np.ndarray) -> np.ndarray:\n",
    "    s = 1   # School number.\n",
    "    S = len(y_school)\n",
    "    N = sum(x.shape[0] for x in y_school)\n",
    "    ms = np.zeros((N, len(eps)))\n",
    "    #print(ms.shape)\n",
    "    start = 0\n",
    "    for s in range(S):\n",
    "        data = y_school[s]\n",
    "        n = data.shape[0]\n",
    "        ybar = data[[\"Y_sb\"]].values.flatten()\n",
    "        alpha = data[[\"alpha_sb\"]].values.flatten()\n",
    "        block_index = data[[\"blockid\"]].values.flatten() - 1\n",
    "        gs = g[block_index, :][:, block_index]\n",
    "        rs = r[s][block_index, :][:, block_index]\n",
    "        c = gs @ inv(rs)\n",
    "        lam, d = eig(c)\n",
    "        \n",
    "        n = data.shape[0]\n",
    "        u = np.ones((n, 1))\n",
    "        uut = u @ u.T\n",
    "\n",
    "        for i, e in enumerate(eps):\n",
    "            m = d @ np.diag(lam / (lam + e)) @ inv(d)\n",
    "            #print(alpha + mu[s] + m @ (ybar - alpha - mu[s]))\n",
    "            #print(start, n)\n",
    "            v_inv = inv(gs + e * rs)\n",
    "            h = (uut @ v_inv) / (u.T @ v_inv @ u)\n",
    "            mu_s = h @ (ybar - alpha)\n",
    "            ms[start:start+n, i] = alpha + mu_s + m @ (ybar - alpha - mu_s)\n",
    "#        ms[s] = alpha + mu[s] + gs @ np.linalg.solve(gs + eps * rs, ybar - alpha - mu[s])\n",
    "#        rs_inv = np.linalg.inv(rs)\n",
    "#        z = np.linalg.solve(rs, ybar - alpha - mu[s])\n",
    "#        print(rs_inv @ gs + eps * np.eye(len(block_index)))\n",
    "#        w = np.linalg.solve(rs_inv @ gs + eps * np.eye(len(block_index)), z)\n",
    "#        ms[s] = (alpha + mu[s] + gs @ w).flatten()\n",
    "        start += n\n",
    "    return ms"
   ]
  },
  {
   "cell_type": "code",
   "execution_count": 13,
   "id": "e22c0a43-61ef-448b-8465-e1124bcabc62",
   "metadata": {},
   "outputs": [
    {
     "data": {
      "text/plain": [
       "2.8125922455587685e-15"
      ]
     },
     "execution_count": 13,
     "metadata": {},
     "output_type": "execute_result"
    }
   ],
   "source": [
    "ms = eblp_estimate(y_school, r, g, mu, [1])\n",
    "average = y[[\"blp\"]].values.flatten()\n",
    "norm(np.concatenate(tuple(ms)) - average) / norm(average)"
   ]
  },
  {
   "cell_type": "code",
   "execution_count": 14,
   "id": "b2e60eed-acd5-48bb-8c70-b0c7a4c1d59a",
   "metadata": {},
   "outputs": [],
   "source": [
    "average = y[[\"Y_sb\"]].values.flatten()\n",
    "eps_values = np.logspace(-10, 0, base=10, num=20)\n",
    "\n",
    "# Baseline G.\n",
    "g = np.loadtxt(os.path.join(DATA_DIR, \"G.txt\"))\n",
    "m = eblp_estimate(y_school, r, g, mu, eps_values)\n",
    "error = norm(m - average[:, None], axis=0) / norm(average)\n",
    "\n",
    "optimizer = cpd.eblp.create_optimizer(\"rco\", p, w)\n",
    "gstar = optimizer.optimize(c)[0]\n",
    "g_rco = a @ gstar @ a.T\n",
    "m1 = eblp_estimate(y_school, r, g_rco, mu, eps_values)\n",
    "error_rco = norm(m1 - average[:, None], axis=0) / norm(average)\n",
    "\n",
    "optimizer = cpd.eblp.create_optimizer(\"tn\", p, w)\n",
    "gstar = optimizer.optimize(c)[0]\n",
    "g_tn = a @ gstar @ a.T\n",
    "m1 = eblp_estimate(y_school, r, g_tn, mu, eps_values)\n",
    "error_tn = norm(m1 - average[:, None], axis=0) / norm(average)"
   ]
  },
  {
   "cell_type": "code",
   "execution_count": 15,
   "id": "a219de50-4ffd-485b-8def-2e1b95ffe14d",
   "metadata": {},
   "outputs": [
    {
     "data": {
      "image/png": "[encoded data removed]",
      "text/plain": [
       "<Figure size 432x288 with 1 Axes>"
      ]
     },
     "metadata": {
      "needs_background": "light"
     },
     "output_type": "display_data"
    }
   ],
   "source": [
    "plt.semilogx(eps_values, error, label=\"Baseline - Near PD Higham\")\n",
    "plt.semilogx(eps_values, error_rco, label=\"RCO\")\n",
    "plt.semilogx(eps_values, error_tn, label=\"TN\")\n",
    "plt.grid(True)\n",
    "plt.legend()\n",
    "plt.xlabel(\"$\\epsilon$\")\n",
    "plt.ylabel(\"|Ms-Direct|/|Direct|\");\n",
    "plt.savefig(\"bias.png\")"
   ]
  },
  {
   "cell_type": "code",
   "execution_count": null,
   "id": "393a0d93-a01c-4c14-9d35-2eab1a97dcbe",
   "metadata": {},
   "outputs": [],
   "source": [
    "print((error_rco - error_tn) / error_rco)\n",
    "print(error_rco - error_tn)"
   ]
  },
  {
   "cell_type": "markdown",
   "id": "3a3719e4-f8ce-412b-a984-739357acab74",
   "metadata": {},
   "source": [
    "The TCO method is about $1/3$ smaller as $\\epsilon \\rightarrow 0$, but for large $\\epsilon \\geq 10^{-3}$, when the bias is non-zero, the differrence is very small. That is, the absolute difference is always small."
   ]
  },
  {
   "cell_type": "code",
   "execution_count": 20,
   "id": "64178627-a69a-4d1c-9f5c-fee86b7f4b5e",
   "metadata": {},
   "outputs": [
    {
     "data": {
      "text/plain": [
       "124.36915073721056"
      ]
     },
     "execution_count": 20,
     "metadata": {},
     "output_type": "execute_result"
    }
   ],
   "source": [
    "l = eig(g_tn)[0]\n",
    "l[1] / l[-1]"
   ]
  },
  {
   "cell_type": "code",
   "execution_count": 21,
   "id": "734c2238-7d91-460b-a422-46761339c777",
   "metadata": {},
   "outputs": [
    {
     "data": {
      "text/plain": [
       "97.06928441673769"
      ]
     },
     "execution_count": 21,
     "metadata": {},
     "output_type": "execute_result"
    }
   ],
   "source": [
    "l = eig(g_rco)[0]\n",
    "l[1] / l[-1]"
   ]
  },
  {
   "cell_type": "markdown",
   "id": "ecbeed4b-7405-4845-9fd5-a19cf454ac3b",
   "metadata": {},
   "source": [
    "## Method Comparison - Katherine's Simulation\n",
    "We've observed that RCO is better than TN during the simulation in terms of $G$ estimation and MSE. Let's compare the ROC curves for a particular case."
   ]
  },
  {
   "cell_type": "code",
   "execution_count": 23,
   "id": "f53170fe-0e93-4dc9-826b-38e8bb5308e2",
   "metadata": {},
   "outputs": [],
   "source": [
    "Out = collections.namedtuple('Out', ['curve', 'index'])\n",
    "\n",
    "rco = Out(curve=np.array([\n",
    "    [4.515031e+01, 0.9960176, 1.000787e+00],\n",
    "    [4.515031e-01, 0.3132789, 2.798082e+01],\n",
    "    [4.515031e-03, 0.1367898, 2.710231e+02],\n",
    "    [4.515031e-05, 0.1315257, 2.214078e+04],\n",
    "    [4.515031e-07, 0.1314593, 2.907558e+06],\n",
    "]), index=2)\n",
    "\n",
    "tn =  Out(curve=np.array([\n",
    "    [4541.065865, 0.1369434, 4541.065865],\n",
    "[859.022972, 0.1382860, 859.022972],\n",
    "[162.499397, 0.1456051, 162.499397],\n",
    "[30.739637, 0.2067012, 30.739637],\n",
    "[5.814946, 1.0097155, 5.814946],\n",
    "         ]),\n",
    "          index=2)"
   ]
  },
  {
   "cell_type": "code",
   "execution_count": 25,
   "id": "5f160de0-ebc7-4ef9-89f4-7c7af7413c01",
   "metadata": {},
   "outputs": [
    {
     "data": {
      "image/png": "[encoded data removed]",
      "text/plain": [
       "<Figure size 432x288 with 1 Axes>"
      ]
     },
     "metadata": {
      "needs_background": "light"
     },
     "output_type": "display_data"
    }
   ],
   "source": [
    "result = {\"rco\": rco, \"tn\": tn}\n",
    "methods = result.keys()\n",
    "\n",
    "for i, method in enumerate(methods):\n",
    "    out = result[method]\n",
    "    #info = out.info\n",
    "    curve = out.curve\n",
    "    index = out.index\n",
    "    #err = norm(w * (f(g, p) - c)) / norm(w * c)\n",
    "    plt.semilogy(curve[:, 1], curve[:, 2], colors[i], label=method)\n",
    "    plt.plot(curve[index, 1], curve[index, 2], 'ro')\n",
    "    #print(\"{:<11s} : alpha {:.2e} knee ({:.2e}, {:.2e}) index {:2d} final error {:.3e} {:.3e} k(G) {:.2e}\".format(\n",
    "    #    method, info[0], curve[index, 1], curve[index, 2], index, info[1], err, info[2]))\n",
    "plt.grid(True);\n",
    "plt.xlabel(\"Relative error $||h(G) - C||/||C||$\")\n",
    "plt.ylabel(\"$\\kappa(G)$\")\n",
    "plt.legend()\n",
    "curve = result[\"rco\"].curve\n",
    "plt.xlim([0.9 * min(curve[:, 1]), 1.5 * min(curve[:, 1])]);"
   ]
  },
  {
   "cell_type": "code",
   "execution_count": null,
   "id": "ed9eed4d-0773-4743-a744-23bf9244b1f1",
   "metadata": {},
   "outputs": [],
   "source": []
  }
 ],
 "metadata": {
  "kernelspec": {
   "display_name": "Python 3 (ipykernel)",
   "language": "python",
   "name": "python3"
  },
  "language_info": {
   "codemirror_mode": {
    "name": "ipython",
    "version": 3
   },
   "file_extension": ".py",
   "mimetype": "text/x-python",
   "name": "python",
   "nbconvert_exporter": "python",
   "pygments_lexer": "ipython3",
   "version": "3.9.7"
  }
 },
 "nbformat": 4,
 "nbformat_minor": 5
}
