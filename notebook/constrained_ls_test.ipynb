{
 "cells": [
  {
   "cell_type": "markdown",
   "id": "5a6310e2-c769-46d1-b771-caa10d5c76b2",
   "metadata": {},
   "source": [
    "# Constrained Least-Squares Solution with CVXPY"
   ]
  },
  {
   "cell_type": "markdown",
   "id": "db48fb4f-bd97-4066-a815-24d58de8df55",
   "metadata": {},
   "source": [
    "## Linearly constrained least-squares"
   ]
  },
  {
   "cell_type": "code",
   "execution_count": 40,
   "id": "eba7c1dd-58a1-4e03-805c-0e55da7c132c",
   "metadata": {},
   "outputs": [
    {
     "name": "stdout",
     "output_type": "stream",
     "text": [
      "(10,) (10, 10) (10,) (5, 10) (5,)\n",
      "\n",
      "The optimal value is -1.0300531843908876\n",
      "A solution x is\n",
      "[-0.29494647 -0.06927411 -0.19044702  0.5182846  -0.41391858  0.0095902\n",
      " -0.30945541 -0.24649703  0.21622769 -0.5697217 ]\n",
      "A dual solution corresponding to the inequality constraints is\n",
      "[-0.43921686  1.41439737  1.92251979 -1.44293178  0.47116801]\n",
      "|Hg-c| = 3.60e+00\n",
      "|Ax-b| = 2.94e-16\n"
     ]
    }
   ],
   "source": [
    "# Import packages.\n",
    "import cvxpy as cp\n",
    "import numpy as np\n",
    "from numpy.linalg import norm\n",
    "\n",
    "# Generate a random non-trivial quadratic program.\n",
    "m = 15\n",
    "n = 10\n",
    "p = 5\n",
    "np.random.seed(1)\n",
    "H = np.random.randn(m, n)\n",
    "c = np.random.randn(m)\n",
    "A = np.random.randn(p, n)\n",
    "b = np.random.randn(p)\n",
    "\n",
    "F = H.T @ H\n",
    "d = H.T @ c\n",
    "\n",
    "# Define and solve the CVXPY problem.\n",
    "x = cp.Variable(n)\n",
    "print(x.shape, F.shape, d.shape, A.shape, b.shape)\n",
    "prob = cp.Problem(cp.Minimize((1/2)*cp.quad_form(x, F) - d.T @ x), [A @ x == b])\n",
    "prob.solve()\n",
    "\n",
    "# Print result.\n",
    "print(\"\\nThe optimal value is\", prob.value)\n",
    "print(\"A solution x is\")\n",
    "print(x.value)\n",
    "print(\"A dual solution corresponding to the inequality constraints is\")\n",
    "print(prob.constraints[0].dual_value)\n",
    "\n",
    "print(\"|Hg-c| = {:.2e}\".format(norm(H.dot(x.value) - c)))\n",
    "print(\"|Ax-b| = {:.2e}\".format(norm(A.dot(x.value) - b)))"
   ]
  },
  {
   "cell_type": "markdown",
   "id": "b89700bd-973c-4cfb-9190-6734e8b6bb4e",
   "metadata": {},
   "source": [
    "## Unconstrained least-squares\n",
    "Value of $\\|H g - c\\|$ must be $\\leq$ than in the constrained problem."
   ]
  },
  {
   "cell_type": "code",
   "execution_count": 39,
   "id": "b289bead-3eea-443c-82b7-1bdd5066349f",
   "metadata": {},
   "outputs": [
    {
     "name": "stdout",
     "output_type": "stream",
     "text": [
      "|Hg-c| = 2.92e+00\n",
      "|x_numpy - x_cvxpy| = 3.04e-15\n"
     ]
    }
   ],
   "source": [
    "# Sanity check of unconstrained optimization problem min |H*g-c|^2.\n",
    "x = cp.Variable(n)\n",
    "prob = cp.Problem(cp.Minimize((1/2)*cp.quad_form(x, F) - d.T @ x))\n",
    "prob.solve()\n",
    "\n",
    "g = np.linalg.lstsq(H, c, rcond=None)[0]\n",
    "print(\"|Hg-c| = {:.2e}\".format(norm(H.dot(x.value) - c)))\n",
    "print(\"|x_numpy - x_cvxpy| = {:.2e}\".format(norm(x.value - g)))"
   ]
  },
  {
   "cell_type": "code",
   "execution_count": null,
   "id": "eaec99b4-53cb-4bdc-80db-7d17badf4708",
   "metadata": {},
   "outputs": [],
   "source": [
    "# WIP - application to EBLP.\n",
    "#\n",
    "# F = H.T @ H\n",
    "# d = H.T @ c_vector\n",
    "# z = np.random.randn(r.shape[0])\n",
    "\n",
    "# # Define and solve the CVXPY problem.\n",
    "# x = cp.Variable(m * (m + 1) // 2)\n",
    "# print(x.shape, F.shape, d.shape, r.shape, z.shape)\n",
    "# prob = cp.Problem(cp.Minimize((1/2)*cp.quad_form(x, F))) # - d.T @ x), [r @ x == z])\n",
    "# prob.solve()\n",
    "\n",
    "# print(x.value)\n",
    "# print(\"|Hg-c| = {:.2e}\".format(norm(H @ x.value - c_vector)))\n",
    "# print(\"|Rx| = {:.2e}\".format(norm(r @ x.value)))"
   ]
  }
 ],
 "metadata": {
  "kernelspec": {
   "display_name": "Python 3 (ipykernel)",
   "language": "python",
   "name": "python3"
  },
  "language_info": {
   "codemirror_mode": {
    "name": "ipython",
    "version": 3
   },
   "file_extension": ".py",
   "mimetype": "text/x-python",
   "name": "python",
   "nbconvert_exporter": "python",
   "pygments_lexer": "ipython3",
   "version": "3.9.7"
  }
 },
 "nbformat": 4,
 "nbformat_minor": 5
}
