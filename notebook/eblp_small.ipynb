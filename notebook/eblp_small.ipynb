{
 "cells": [
  {
   "cell_type": "markdown",
   "id": "6ebd6ecd-ff99-43ed-b9f5-f1a22b209196",
   "metadata": {
    "tags": []
   },
   "source": [
    "# EBLP Covariance Matrix Estimation - Small Data Set\n",
    "We compare our block covariance matrix $G$ estimation method against the baseline that uses near PD for JR's github small data set."
   ]
  },
  {
   "cell_type": "code",
   "execution_count": 132,
   "id": "7dfc171c-520f-45fd-bfeb-fa11e397a760",
   "metadata": {},
   "outputs": [
    {
     "name": "stdout",
     "output_type": "stream",
     "text": [
      "The autoreload extension is already loaded. To reload it, use:\n",
      "  %reload_ext autoreload\n"
     ]
    }
   ],
   "source": [
    "import collections\n",
    "import cProfile\n",
    "import matplotlib.pyplot as plt\n",
    "import numpy as np\n",
    "import os\n",
    "import pandas as pd\n",
    "from numpy.linalg import norm, eig, inv\n",
    "import scipy\n",
    "from scipy.linalg import eigh\n",
    "\n",
    "import cpd\n",
    "from cpd.moment_functional import f\n",
    "\n",
    "np.set_printoptions(linewidth=150, precision=3, suppress=False)\n",
    "\n",
    "%load_ext autoreload\n",
    "%autoreload 2"
   ]
  },
  {
   "cell_type": "markdown",
   "id": "d9d02a1d-ec8e-4b97-b91b-31a72321703e",
   "metadata": {},
   "source": [
    "## 1. Load Data"
   ]
  },
  {
   "cell_type": "code",
   "execution_count": 156,
   "id": "ac2126fc-7926-4760-b92a-8f8118cb6cee",
   "metadata": {},
   "outputs": [
    {
     "name": "stdout",
     "output_type": "stream",
     "text": [
      "P: len 1209 shape (10, 9)\n"
     ]
    }
   ],
   "source": [
    "data_set = \"ny_10blocks\"\n",
    "DATA_DIR = \"../data/eblp_{}\".format(data_set)\n",
    "a_file_name = os.path.join(DATA_DIR, \"A.txt\")\n",
    "c_file_name = os.path.join(DATA_DIR, \"C.txt\")\n",
    "w_file_name = os.path.join(DATA_DIR, \"Weights_BxB.txt\")\n",
    "pi_file_name = os.path.join(DATA_DIR, \"Pi_s.txt\")\n",
    "\n",
    "r_file_name = os.path.join(DATA_DIR, \"R_s.txt\")\n",
    "mu_file_name = os.path.join(DATA_DIR, \"mu_s.txt\")\n",
    "# Baseline G estimate.\n",
    "g_file_name = os.path.join(DATA_DIR, \"G.txt\")\n",
    "y_file_name = os.path.join(DATA_DIR, \"Ytilde_s.txt\")\n",
    "\n",
    "a, c, w, r, p = cpd.data.load_data(a_file_name, c_file_name, w_file_name, pi_file_name)\n",
    "print(\"P: len\", len(p), \"shape\", p.shape)"
   ]
  },
  {
   "cell_type": "markdown",
   "id": "f5818330-5201-40dc-ab01-72fc0ecea687",
   "metadata": {},
   "source": [
    "## 2. EBLP Covariance Matrix Estimation"
   ]
  },
  {
   "cell_type": "markdown",
   "id": "6022daa1-229c-43ed-a339-abbe55abd21d",
   "metadata": {},
   "source": [
    "### Comparison of LS solution with R-code\n",
    "Baseline residual from Katherine's R-code: $\\|f(G^*)\\|/\\|C\\| \\approx 0.04$."
   ]
  },
  {
   "cell_type": "code",
   "execution_count": 157,
   "id": "b80575d2-d711-4737-ae54-d785e4052850",
   "metadata": {},
   "outputs": [
    {
     "name": "stdout",
     "output_type": "stream",
     "text": [
      "lam(G^*) [  3.6  18.5  25.4  58.6  78.7  91.7 115.5 137.  203.6]\n",
      "|baseline - LS solution|/|basline| 1.9171e-14 residual baseline 3.50359455e-02 LS 3.50359455e-02 3.50359455e-02\n"
     ]
    }
   ],
   "source": [
    "gs = np.loadtxt(os.path.join(DATA_DIR, \"Gstar.txt\"))\n",
    "\n",
    "# gs = np.loadtxt(os.path.join(DATA_DIR, \"Gstar_notWtd.txt\"))\n",
    "# w = np.ones_like(w)\n",
    "\n",
    "lam_g = np.sort(np.linalg.eig(gs)[0])\n",
    "print(\"lam(G^*) {}\".format(np.array2string(lam_g, precision=1)))\n",
    "g_vector =  cpd.linalg.unravel_lower(gs)\n",
    "\n",
    "# Convert to unraveled form.\n",
    "d = cpd.linalg.norm_weight_matrix(p.shape[0])\n",
    "w_vector = cpd.linalg.unravel_lower(w)\n",
    "w_matrix = np.diag(w_vector)\n",
    "\n",
    "h = w_matrix @ cpd.moment_functional.matrix_function_to_matrix_sum(p, p)\n",
    "c_vector = w_matrix @ cpd.linalg.unravel_lower(c)\n",
    "# Solve LS problem.\n",
    "g_ls_vector = np.linalg.lstsq(h, c_vector, rcond=None)[0]\n",
    "g_ls = cpd.linalg.ravel_lower(g_ls_vector, symmetric=True)\n",
    "\n",
    "n = len(c_vector)\n",
    "print(\"|baseline - LS solution|/|basline| {:.4e} residual baseline {:.8e} LS {:.8e} {:.8e}\".format(\n",
    "    norm(np.array(g_vector).flatten() - np.array(g_ls_vector).flatten()) / norm(np.array(g_vector).flatten()),\n",
    "    norm(w * (f(gs, p) - c)) / norm(w * c),\n",
    "    norm(w * (f(g_ls, p) - c)) / norm(w * c),\n",
    "    norm(d @ (h @ g_ls_vector - c_vector)) / norm(d @ c_vector)))\n",
    "\n",
    "# plt.plot(lam, 'o', label=\"$A G^* A^T$\")\n",
    "# plt.xlabel(\"$i$\")\n",
    "# plt.ylabel(\"$\\lambda_i$\")\n",
    "# plt.legend();"
   ]
  },
  {
   "cell_type": "markdown",
   "id": "6b2c29ea-defe-4085-9dba-91a7461eede0",
   "metadata": {},
   "source": [
    "### $G^*$ Estimation using Regularized Cholesky Optimization (RCO)\n",
    "In this section, we omit the $*$ superscript, as our unknown is $G^*$ all along.\n",
    "\n",
    "#### Recoding $G$ to a vector\n",
    "The functional to minimize is\n",
    "\n",
    "$$ \\min_G f(G) := \\| \\sum_i P_i ^T G P_T - C \\|\\ / \\|C\\|\\,, $$\n",
    "where $\\|\\cdot\\|$ is the Frobenius norm.\n",
    "\n",
    "Each term is of the form $P G P^T$. More generally, when we write $G = LL^T$ and freeze one of the terms in the Cholesky product, we will obtain terms of the form $P L L_{prev}^T P^T = P L (P L_{prev})^T = P L Q^T$ where $P \\not = Q$. So we first focus on recoding the function \n",
    "\n",
    "$$P G Q^T$$ \n",
    "\n",
    "into the form $H g$, where $g$ consists of the lower-dimensional part of $G$ (including the diagonal). Here\n",
    "* $P: m \\times n$.\n",
    "* $G: n \\times n$.\n",
    "* $Q: m \\times n$.\n",
    "* $F: \\frac{m (m+1)}{2} \\times \\frac{n (n+1)}{2}$.\n",
    "* $g$: vector of size $\\frac{n (n+1)}{2}$.\n",
    "\n",
    "In the original equations, $m = B, n = B - 1$, and $Q = P$ in all terms appearing in $f$.\n",
    "\n",
    "$$ (P LG Q^T)_{ij} = \\sum_{l,k=0}^{n-1} P_{ik} Q_{jk} G_{kl} = \\sum_{r=0}^{n(n-1)/2} P_{ik} Q_{jk} g_{r(k,l)}$$\n",
    "\n",
    "Thus the entire functional $h(G) = \\sum_i P_i ^T G P_T $ can be written as $H g$ for some matrix $H$.\n",
    "\n",
    "#### Explicit Equation for the flattened $L$\n",
    "Assuming $G$ The functional $h(G = L L^T)$\n",
    "\n",
    "$$ h(G) = \\sum_i \\left(l^T A_i l - c_i\\right)^2  $$\n",
    "\n",
    "#### Regularization\n",
    "Maximize $G'$'s, i.e. $L$'s determinant, under constant norm.\n",
    "\n",
    "$$ \\min_l \\sum_i \\left(l^T A_i l - c_i\\right)^2 - \\alpha \\left(\n",
    "\\sum_{i=0}^{n-1} \\log(l_i^2) - \\log \\left(\\sum_{i=0}^{n-1} l_i ^2\\right) \\right) $$\n",
    "* Continuation in $\\alpha$, starting from large $\\alpha$ and decreasing it.\n",
    "* BFGS for a fixed $\\alpha$.\n",
    "* L-curve for picking $\\alpha$."
   ]
  },
  {
   "cell_type": "markdown",
   "id": "a491f04b-fe9c-4611-9801-8e4bed4d1b2e",
   "metadata": {},
   "source": [
    "### ROC Comparison\n",
    "We test the robustness of three emethods:\n",
    "1. **Our method (RCO)** for minimizing the regularizd EBLP functional.\n",
    "2. **Near-PD RCO**: finding the closest CPD matrix to the LS solution using RCO.\n",
    "2. **Tanaka-Nakata (TN) method** for finding a closest CPD to the LS solution + picking optimal kappa on the curve.\n",
    "3. **Basline: Higham Near PD** with eigenvalue tolerance of $\\alpha$ as its regularization parameter (no continuation is possible in near PD, we start from scratch every time)."
   ]
  },
  {
   "cell_type": "code",
   "execution_count": 158,
   "id": "ab2d5f2e-29b9-48f1-8a27-2cc1f45fa1e3",
   "metadata": {},
   "outputs": [],
   "source": [
    "# Produce ROC curves for both methods.\n",
    "methods = (\"rco\", \"tn\", \"higham\")\n",
    "colors = (\"m\", \"b\", \"g\")"
   ]
  },
  {
   "cell_type": "code",
   "execution_count": 159,
   "id": "08c0f65b-a891-4f3c-8203-3f4685cbc5f8",
   "metadata": {},
   "outputs": [
    {
     "name": "stdout",
     "output_type": "stream",
     "text": [
      "rco\n",
      "tn\n",
      "higham\n"
     ]
    }
   ],
   "source": [
    "result = {}\n",
    "for method in methods:\n",
    "    print(method)\n",
    "    optimizer = cpd.eblp.create_optimizer(method, p, w)\n",
    "    result[method] = optimizer.optimize(c, num_alpha=200, alpha_step=0.9, tol_curve=1e-4, tol=1e-4)"
   ]
  },
  {
   "cell_type": "code",
   "execution_count": 160,
   "id": "8e9a9dda-7186-4f65-bfbb-a808673518b4",
   "metadata": {},
   "outputs": [
    {
     "name": "stdout",
     "output_type": "stream",
     "text": [
      "rco         : alpha 4.59e-03 knee (3.60e-02, 3.63e+01) index 87 final error 3.604e-02 3.604e-02 k(G) 3.63e+01\n",
      "tn          : alpha 4.74e+01 knee (3.73e-02, 4.74e+01) index 112 final error 3.732e-02 3.732e-02 k(G) 4.74e+01\n",
      "higham      : alpha 1.00e-02 knee (3.50e-02, 5.70e+01) index  0 final error 3.504e-02 3.504e-02 k(G) 5.70e+01\n"
     ]
    },
    {
     "data": {
      "image/png": "[encoded data removed]",
      "text/plain": [
       "<Figure size 432x288 with 1 Axes>"
      ]
     },
     "metadata": {
      "needs_background": "light"
     },
     "output_type": "display_data"
    }
   ],
   "source": [
    "for i, method in enumerate(methods):\n",
    "    g, out = result[method]\n",
    "    info = out.info\n",
    "    curve = out.curve\n",
    "    index = out.index\n",
    "    err = norm(w * (f(g, p) - c)) / norm(w * c)\n",
    "    plt.semilogy(curve[:, 1], curve[:, 2], colors[i], label=method)\n",
    "    #print(method, curve[:, 1], curve[:, 2])\n",
    "    plt.plot(curve[index, 1], curve[index, 2], 'ro')\n",
    "    print(\"{:<11s} : alpha {:.2e} knee ({:.2e}, {:.2e}) index {:2d} final error {:.3e} {:.3e} k(G) {:.2e}\".format(\n",
    "        method, info[0], curve[index, 1], curve[index, 2], index, info[1], err, info[2]))\n",
    "plt.grid(True);\n",
    "plt.xlabel(\"Relative error $e(G)$\")\n",
    "plt.ylabel(\"$\\kappa(G)$\")\n",
    "plt.legend()\n",
    "curve = result[\"rco\"][1].curve\n",
    "plt.xlim([0, 0.4])\n",
    "#plt.xlim([0.9 * min(curve[:, 1]), 2 * min(curve[:, 1])]);\n",
    "#plt.ylim([0.1 * max(curve[:, 2]), 2 * max(curve[:, 2])]);\n",
    "plt.savefig(\"eblp_{}_roc_comparison.png\".format(data_set))"
   ]
  },
  {
   "cell_type": "markdown",
   "id": "7f2e6f31-37f5-4e9d-a27a-73a021ddd1eb",
   "metadata": {},
   "source": [
    "CSPD producess both a more conditioned matrix (condition number is reduced by 1000x) and a smaller residual (by 3%). The ROC curve is smoother, allowing more freedom in choosing the regularization parameter $\\alpha$. Even in the limit $\\alpha \\rightarrow 0$, the condition number tends to a finite limit.\n",
    "\n",
    "Note that Near CPD's curve has a \"wiggle\" for small $\\alpha$. That's because we are optimizing the Frobenius norm, so $f(G(\\alpha))$ is not guaranteed to be monotonic in $\\alpha$."
   ]
  },
  {
   "cell_type": "code",
   "execution_count": 161,
   "id": "f3d80e01-51cd-4f30-8546-692cd84b4c7c",
   "metadata": {},
   "outputs": [
    {
     "name": "stdout",
     "output_type": "stream",
     "text": [
      "CPU times: user 236 ms, sys: 2.45 ms, total: 239 ms\n",
      "Wall time: 240 ms\n",
      "rco      : alpha 4.396e-03 rel. error 3.595e-02 k(G) 3.656e+01\n",
      "CPU times: user 59.5 ms, sys: 1.06 ms, total: 60.6 ms\n",
      "Wall time: 31.1 ms\n",
      "tn       : alpha 5.701e+03 rel. error 3.504e-02 k(G) 5.701e+01\n",
      "CPU times: user 56 ms, sys: 567 µs, total: 56.6 ms\n",
      "Wall time: 28.9 ms\n",
      "higham   : alpha 1.000e-02 rel. error 3.504e-02 k(G) 5.701e+01\n"
     ]
    }
   ],
   "source": [
    "# Solution with default parameters.\n",
    "for method in methods:\n",
    "    optimizer = cpd.eblp.create_optimizer(method, p, w)\n",
    "    %time g, r = optimizer.optimize(c, leeway_factor=1.1)\n",
    "    info = r.info\n",
    "    print(\"{:<8s} : alpha {:.3e} rel. error {:.3e} k(G) {:.3e}\".format(method, info[0], info[1], info[2]))"
   ]
  },
  {
   "cell_type": "code",
   "execution_count": 162,
   "id": "07e11d67-964b-4e71-8f6f-d14376ec5f3f",
   "metadata": {},
   "outputs": [],
   "source": [
    "# for method in (\"rco\", \"tn\"):\n",
    "#     print(method)\n",
    "#     optimizer = cpd.eblp.create_optimizer(method, p, w)\n",
    "#     g, r = optimizer.optimize(c)\n",
    "#     np.set_printoptions(precision=4)\n",
    "#     print(\"g\")\n",
    "#     print(g)\n",
    "#     print(\"{:.8e}\".format(norm(w * (f(g, p) - c)) / norm(w * c)))\n",
    "#     print(r.info, r.curve, r.index)"
   ]
  },
  {
   "cell_type": "code",
   "execution_count": 163,
   "id": "bafc0818-431c-47e4-a960-5ceb42fb7d30",
   "metadata": {},
   "outputs": [],
   "source": [
    "# result[\"tn\"][1].curve, r.curve, result[\"tn\"][1].index, r.index"
   ]
  },
  {
   "cell_type": "markdown",
   "id": "2ad1afe1-3d11-4f7a-a0c2-a2eb127775e5",
   "metadata": {},
   "source": [
    "## 3. EBLP Estimation for Increasingly Large School Size"
   ]
  },
  {
   "cell_type": "code",
   "execution_count": 164,
   "id": "73da956b-6d0c-41fd-99f4-1063ca499f70",
   "metadata": {},
   "outputs": [],
   "source": [
    "# Load EBLP terms.\n",
    "g = np.loadtxt(g_file_name)\n",
    "\n",
    "y = pd.read_csv(y_file_name, delimiter=\" \")\n",
    "school_id = y[\"school\"]\n",
    "endpoints = np.array([i for i, (first, second) in enumerate(zip(school_id, school_id[1:])) if first != second])\n",
    "y_school = np.split(y[y.columns[~y.columns.isin([\"school\"])]], endpoints + 1)\n",
    "mu = pd.read_csv(mu_file_name, delimiter=\" \")[[\"mu\"]].values.flatten()\n",
    "r = cpd.data.data_frame_to_array_list(pd.read_csv(r_file_name, delimiter=\" \"), subtract_diagonal_sums=False)\n",
    "\n",
    "y = pd.read_csv(y_file_name, delimiter=\" \")\n",
    "school_id = y[\"school\"]\n",
    "endpoints = np.array([i for i, (first, second) in enumerate(zip(school_id, school_id[1:])) if first != second])"
   ]
  },
  {
   "cell_type": "code",
   "execution_count": 165,
   "id": "6d5d2bd5-802c-4958-a3d8-af3c43851f4d",
   "metadata": {},
   "outputs": [],
   "source": [
    "def eblp_estimate(y_school, r, g, mu, eps: np.ndarray) -> np.ndarray:\n",
    "    s = 1   # School number.\n",
    "    S = len(y_school)\n",
    "    N = sum(x.shape[0] for x in y_school)\n",
    "    ms = np.zeros((N, len(eps)))\n",
    "    #print(ms.shape)\n",
    "    start = 0\n",
    "    for s in range(S):\n",
    "        data = y_school[s]\n",
    "        n = data.shape[0]\n",
    "        ybar = data[[\"Y_sb\"]].values.flatten()\n",
    "        alpha = data[[\"alpha_sb\"]].values.flatten()\n",
    "        block_index = data[[\"blockid\"]].values.flatten() - 1\n",
    "        gs = g[block_index, :][:, block_index]\n",
    "        rs = r[s][block_index, :][:, block_index]\n",
    "        c = gs @ inv(rs)\n",
    "        lam, d = eig(c)\n",
    "        \n",
    "        n = data.shape[0]\n",
    "        u = np.ones((n, 1))\n",
    "        uut = u @ u.T\n",
    "\n",
    "        for i, e in enumerate(eps):\n",
    "            m = d @ np.diag(lam / (lam + e)) @ inv(d)\n",
    "            #print(alpha + mu[s] + m @ (ybar - alpha - mu[s]))\n",
    "            #print(start, n)\n",
    "            v_inv = inv(gs + e * rs)\n",
    "            h = (uut @ v_inv) / (u.T @ v_inv @ u)\n",
    "            mu_s = h @ (ybar - alpha)\n",
    "            ms[start:start+n, i] = alpha + mu_s + m @ (ybar - alpha - mu_s)\n",
    "#        ms[s] = alpha + mu[s] + gs @ np.linalg.solve(gs + eps * rs, ybar - alpha - mu[s])\n",
    "#        rs_inv = np.linalg.inv(rs)\n",
    "#        z = np.linalg.solve(rs, ybar - alpha - mu[s])\n",
    "#        print(rs_inv @ gs + eps * np.eye(len(block_index)))\n",
    "#        w = np.linalg.solve(rs_inv @ gs + eps * np.eye(len(block_index)), z)\n",
    "#        ms[s] = (alpha + mu[s] + gs @ w).flatten()\n",
    "        start += n\n",
    "    return ms"
   ]
  },
  {
   "cell_type": "code",
   "execution_count": 166,
   "id": "e22c0a43-61ef-448b-8465-e1124bcabc62",
   "metadata": {},
   "outputs": [
    {
     "data": {
      "text/plain": [
       "7.85521595887497e-16"
      ]
     },
     "execution_count": 166,
     "metadata": {},
     "output_type": "execute_result"
    }
   ],
   "source": [
    "ms = eblp_estimate(y_school, r, g, mu, [1])\n",
    "average = y[[\"blp\"]].values.flatten()\n",
    "norm(np.concatenate(tuple(ms)) - average) / norm(average)"
   ]
  },
  {
   "cell_type": "code",
   "execution_count": 167,
   "id": "b2e60eed-acd5-48bb-8c70-b0c7a4c1d59a",
   "metadata": {},
   "outputs": [],
   "source": [
    "average = y[[\"Y_sb\"]].values.flatten()\n",
    "eps_values = np.logspace(-10, 0, base=10, num=20)\n",
    "\n",
    "# Baseline G.\n",
    "g = np.loadtxt(os.path.join(DATA_DIR, \"G.txt\"))\n",
    "m = eblp_estimate(y_school, r, g, mu, eps_values)\n",
    "error = norm(m - average[:, None], axis=0) / norm(average)\n",
    "\n",
    "optimizer = cpd.eblp.create_optimizer(\"rco\", p, w)\n",
    "gstar = optimizer.optimize(c)[0]\n",
    "g_rco = a @ gstar @ a.T\n",
    "m1 = eblp_estimate(y_school, r, g_rco, mu, eps_values)\n",
    "error_rco = norm(m1 - average[:, None], axis=0) / norm(average)\n",
    "\n",
    "optimizer = cpd.eblp.create_optimizer(\"tn\", p, w)\n",
    "gstar = optimizer.optimize(c)[0]\n",
    "g_tn = a @ gstar @ a.T\n",
    "m1 = eblp_estimate(y_school, r, g_tn, mu, eps_values)\n",
    "error_tn = norm(m1 - average[:, None], axis=0) / norm(average)"
   ]
  },
  {
   "cell_type": "code",
   "execution_count": 168,
   "id": "a219de50-4ffd-485b-8def-2e1b95ffe14d",
   "metadata": {},
   "outputs": [
    {
     "data": {
      "image/png": "[encoded data removed]",
      "text/plain": [
       "<Figure size 432x288 with 1 Axes>"
      ]
     },
     "metadata": {
      "needs_background": "light"
     },
     "output_type": "display_data"
    }
   ],
   "source": [
    "n_values = 1 / eps_values\n",
    "plt.semilogx(n_values, error_rco, label=\"RCO\", color=colors[0])\n",
    "plt.semilogx(n_values, error_tn, label=\"TN\", color=colors[1])\n",
    "plt.semilogx(n_values, error, label=\"Baseline - Near PD Higham\", color=colors[2])\n",
    "plt.grid(True)\n",
    "plt.legend()\n",
    "plt.xlabel(\"School Size $N$\")\n",
    "plt.ylabel(\"Relative Bias\");\n",
    "plt.savefig(\"eblp_{}_bias.png\".format(data_set))"
   ]
  },
  {
   "cell_type": "code",
   "execution_count": null,
   "id": "507e1c50-6174-408a-86f5-ed8e898b6cf0",
   "metadata": {},
   "outputs": [],
   "source": []
  },
  {
   "cell_type": "code",
   "execution_count": 169,
   "id": "393a0d93-a01c-4c14-9d35-2eab1a97dcbe",
   "metadata": {},
   "outputs": [
    {
     "name": "stdout",
     "output_type": "stream",
     "text": [
      "[8.882e-06 1.628e-05 2.984e-05 5.470e-05 1.003e-04 1.838e-04 3.369e-04 6.175e-04 1.132e-03 2.074e-03 3.802e-03 6.965e-03 1.274e-02 2.322e-02\n",
      " 4.173e-02 7.188e-02 1.106e-01 1.366e-01 1.278e-01 9.618e-02]\n",
      "[1.021e-05 1.871e-05 3.430e-05 6.288e-05 1.153e-04 2.113e-04 3.872e-04 7.098e-04 1.301e-03 2.385e-03 4.370e-03 8.003e-03 1.463e-02 2.659e-02\n",
      " 4.737e-02 7.973e-02 1.177e-01 1.401e-01 1.290e-01 9.674e-02]\n"
     ]
    }
   ],
   "source": [
    "print(error_rco  / eps_values ** 0.5)\n",
    "print(error_tn  / eps_values ** 0.5)"
   ]
  },
  {
   "cell_type": "code",
   "execution_count": 170,
   "id": "faefb39e-b021-4c32-9b51-06f8e7722c56",
   "metadata": {},
   "outputs": [
    {
     "data": {
      "text/plain": [
       "array([0.888, 0.888, 0.888, 0.888, 0.888, 0.888, 0.888, 0.888, 0.888, 0.888, 0.888, 0.888, 0.886, 0.881, 0.863, 0.811, 0.681, 0.459, 0.234, 0.096])"
      ]
     },
     "execution_count": 170,
     "metadata": {},
     "output_type": "execute_result"
    }
   ],
   "source": [
    "error_rco / eps_values"
   ]
  },
  {
   "cell_type": "code",
   "execution_count": 173,
   "id": "376feccd-a705-4222-a639-a68b4b2f9e01",
   "metadata": {},
   "outputs": [
    {
     "data": {
      "text/plain": [
       "array([1.021e-05, 1.871e-05, 3.430e-05, 6.288e-05, 1.153e-04, 2.113e-04, 3.872e-04, 7.098e-04, 1.301e-03, 2.385e-03, 4.370e-03, 8.003e-03, 1.463e-02,\n",
       "       2.659e-02, 4.737e-02, 7.973e-02, 1.177e-01, 1.401e-01, 1.290e-01, 9.674e-02])"
      ]
     },
     "execution_count": 173,
     "metadata": {},
     "output_type": "execute_result"
    }
   ],
   "source": [
    "error  / eps_values ** 0.5"
   ]
  },
  {
   "cell_type": "markdown",
   "id": "3a3719e4-f8ce-412b-a984-739357acab74",
   "metadata": {},
   "source": [
    "The TCO method is about $1/3$ smaller as $\\epsilon \\rightarrow 0$, but for large $\\epsilon \\geq 10^{-3}$, when the bias is non-zero, the differrence is very small. That is, the absolute difference is always small."
   ]
  },
  {
   "cell_type": "code",
   "execution_count": null,
   "id": "64178627-a69a-4d1c-9f5c-fee86b7f4b5e",
   "metadata": {},
   "outputs": [],
   "source": [
    "l = eig(g_tn)[0]\n",
    "l[1] / l[-1]"
   ]
  },
  {
   "cell_type": "code",
   "execution_count": null,
   "id": "734c2238-7d91-460b-a422-46761339c777",
   "metadata": {},
   "outputs": [],
   "source": [
    "l = eig(g_rco)[0]\n",
    "l[1] / l[-1]"
   ]
  }
 ],
 "metadata": {
  "kernelspec": {
   "display_name": "Python 3 (ipykernel)",
   "language": "python",
   "name": "python3"
  },
  "language_info": {
   "codemirror_mode": {
    "name": "ipython",
    "version": 3
   },
   "file_extension": ".py",
   "mimetype": "text/x-python",
   "name": "python",
   "nbconvert_exporter": "python",
   "pygments_lexer": "ipython3",
   "version": "3.9.7"
  }
 },
 "nbformat": 4,
 "nbformat_minor": 5
}
