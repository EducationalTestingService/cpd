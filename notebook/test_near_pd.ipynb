{
 "cells": [
  {
   "cell_type": "markdown",
   "id": "6ebd6ecd-ff99-43ed-b9f5-f1a22b209196",
   "metadata": {},
   "source": [
    "# Near PD Test vs. R and Higham's 1988 Paper"
   ]
  },
  {
   "cell_type": "code",
   "execution_count": 5,
   "id": "7dfc171c-520f-45fd-bfeb-fa11e397a760",
   "metadata": {},
   "outputs": [
    {
     "name": "stdout",
     "output_type": "stream",
     "text": [
      "The autoreload extension is already loaded. To reload it, use:\n",
      "  %reload_ext autoreload\n"
     ]
    }
   ],
   "source": [
    "import cProfile\n",
    "import itertools\n",
    "import matplotlib.pyplot as plt\n",
    "import numpy as np\n",
    "import os\n",
    "import pstats\n",
    "import scipy.sparse\n",
    "import time\n",
    "from numpy.linalg import norm\n",
    "from pstats import SortKey\n",
    "\n",
    "import eblp\n",
    "import eblp.eblp as cov\n",
    "import eblp.ccpd as ccpd\n",
    "\n",
    "np.set_printoptions(linewidth=150, precision=5, suppress=False)\n",
    "\n",
    "%load_ext autoreload\n",
    "%autoreload 2"
   ]
  },
  {
   "cell_type": "markdown",
   "id": "1981ad20-3a6c-4113-b0a3-12b5e3f2799e",
   "metadata": {},
   "source": [
    "## Higham Paper Examples"
   ]
  },
  {
   "cell_type": "code",
   "execution_count": 6,
   "id": "37aca7aa-4383-4e02-8093-1e92c219c130",
   "metadata": {},
   "outputs": [],
   "source": [
    "# for i in range(10):\n",
    "#     for j in range(2, 50):\n",
    "#         a = np.random.randn(j, j)\n",
    "#         b = eblp.near_pd.near_pd(a, eig_tol=eig_tol)\n",
    "#         assert eblp.linalg.is_spd(b, eig_tol=eig_tol)\n"
   ]
  },
  {
   "cell_type": "code",
   "execution_count": 7,
   "id": "395b8d9f-9504-4cda-90cf-8cd978b568da",
   "metadata": {},
   "outputs": [],
   "source": [
    "a = np.array([[0, 0, 0], [1, 0, 0], [0, 1, 0]])"
   ]
  },
  {
   "cell_type": "code",
   "execution_count": 8,
   "id": "ef4beef6-95a6-42d0-bf4c-7ccad265511f",
   "metadata": {},
   "outputs": [
    {
     "data": {
      "text/plain": [
       "array([[0.17678, 0.25   , 0.17678],\n",
       "       [0.25   , 0.35355, 0.25   ],\n",
       "       [0.17678, 0.25   , 0.17678]])"
      ]
     },
     "execution_count": 8,
     "metadata": {},
     "output_type": "execute_result"
    }
   ],
   "source": [
    "eblp.near_pd.near_pd(a, eig_tol=0)"
   ]
  },
  {
   "cell_type": "markdown",
   "id": "10a5ee31-c421-4135-9e7f-06a1159a2f54",
   "metadata": {},
   "source": [
    "## Comparison with R Funntion"
   ]
  },
  {
   "cell_type": "code",
   "execution_count": 13,
   "id": "bf6cd724-f20d-4e9e-b4da-e88e75d94314",
   "metadata": {},
   "outputs": [],
   "source": [
    "from rpy2.robjects.packages import importr, data\n",
    "import numpy as np\n",
    "import rpy2.robjects as robjects\n",
    "import rpy2.robjects.numpy2ri as rpyn\n",
    "\n",
    "datasets = importr('datasets')\n",
    "ostatus = data(datasets).fetch('occupationalStatus')['occupationalStatus']\n",
    "ostatus_np = np.array(ostatus)"
   ]
  },
  {
   "cell_type": "code",
   "execution_count": 34,
   "id": "fbee165f-f0ab-4196-8c0e-cb88bb8a98b4",
   "metadata": {},
   "outputs": [
    {
     "data": {
      "text/html": [
       "\n",
       "        <span>IntMatrix with 64 elements.</span>\n",
       "        <table>\n",
       "        <tbody>\n",
       "          <tr>\n",
       "          \n",
       "            <td>\n",
       "            50\n",
       "            </td>\n",
       "          \n",
       "            <td>\n",
       "            16\n",
       "            </td>\n",
       "          \n",
       "            <td>\n",
       "            12\n",
       "            </td>\n",
       "          \n",
       "            <td>\n",
       "            ...\n",
       "            </td>\n",
       "          \n",
       "            <td>\n",
       "            177\n",
       "            </td>\n",
       "          \n",
       "            <td>\n",
       "            71\n",
       "            </td>\n",
       "          \n",
       "            <td>\n",
       "            106\n",
       "            </td>\n",
       "          \n",
       "          </tr>\n",
       "        </tbody>\n",
       "        </table>\n",
       "        "
      ],
      "text/plain": [
       "<rpy2.robjects.vectors.IntMatrix object at 0x187e42f00> [RTYPES.INTSXP]\n",
       "R classes: ('table',)\n",
       "[50, 16, 12, 11, ..., 12, 177, 71, 106]"
      ]
     },
     "execution_count": 34,
     "metadata": {},
     "output_type": "execute_result"
    }
   ],
   "source": [
    "ostatus"
   ]
  },
  {
   "cell_type": "code",
   "execution_count": 35,
   "id": "c2a0d94f-e2ee-48de-95a9-a1961dcadcea",
   "metadata": {},
   "outputs": [
    {
     "data": {
      "text/plain": [
       "array([[ 50,  19,  26,   8,   7,  11,   6,   2],\n",
       "       [ 16,  40,  34,  18,  11,  20,   8,   3],\n",
       "       [ 12,  35,  65,  66,  35,  88,  23,  21],\n",
       "       [ 11,  20,  58, 110,  40, 183,  64,  32],\n",
       "       [  2,   8,  12,  23,  25,  46,  28,  12],\n",
       "       [ 12,  28, 102, 162,  90, 554, 230, 177],\n",
       "       [  0,   6,  19,  40,  21, 158, 143,  71],\n",
       "       [  0,   3,  14,  32,  15, 126,  91, 106]], dtype=int32)"
      ]
     },
     "execution_count": 35,
     "metadata": {},
     "output_type": "execute_result"
    }
   ],
   "source": [
    "ostatus_np"
   ]
  },
  {
   "cell_type": "code",
   "execution_count": 38,
   "id": "c932ba18-4239-43fb-909e-9f296382cfb3",
   "metadata": {},
   "outputs": [],
   "source": [
    "robjects.r.assign(\"a_array\", rpyn.py2rpy(a))\n",
    "result = robjects.r(\"as.array(Matrix::nearPD(a_array, eig.tol=1e-6)$mat)\")"
   ]
  },
  {
   "cell_type": "code",
   "execution_count": 39,
   "id": "a353939f-2fe4-4f3a-9a53-c23c8dbc9d62",
   "metadata": {},
   "outputs": [
    {
     "name": "stdout",
     "output_type": "stream",
     "text": [
      "          [,1]      [,2]      [,3]\n",
      "[1,] 0.1767767 0.2500000 0.1767767\n",
      "[2,] 0.2500000 0.3535534 0.2500000\n",
      "[3,] 0.1767767 0.2500000 0.1767767\n",
      "\n"
     ]
    }
   ],
   "source": [
    "print(result)"
   ]
  },
  {
   "cell_type": "code",
   "execution_count": 41,
   "id": "a1488d96-26d6-4b9a-bde4-ae76f1ed31cc",
   "metadata": {},
   "outputs": [
    {
     "data": {
      "text/plain": [
       "array([[0.17678, 0.25   , 0.17678],\n",
       "       [0.25   , 0.35355, 0.25   ],\n",
       "       [0.17678, 0.25   , 0.17678]])"
      ]
     },
     "execution_count": 41,
     "metadata": {},
     "output_type": "execute_result"
    }
   ],
   "source": [
    "np.array(robjects.conversion.rpy2py(result))"
   ]
  },
  {
   "cell_type": "code",
   "execution_count": null,
   "id": "1612ce0b-63b1-4f5b-a1e7-6a27a8b1d7bb",
   "metadata": {},
   "outputs": [],
   "source": []
  }
 ],
 "metadata": {
  "kernelspec": {
   "display_name": "Python 3 (ipykernel)",
   "language": "python",
   "name": "python3"
  },
  "language_info": {
   "codemirror_mode": {
    "name": "ipython",
    "version": 3
   },
   "file_extension": ".py",
   "mimetype": "text/x-python",
   "name": "python",
   "nbconvert_exporter": "python",
   "pygments_lexer": "ipython3",
   "version": "3.9.7"
  }
 },
 "nbformat": 4,
 "nbformat_minor": 5
}
