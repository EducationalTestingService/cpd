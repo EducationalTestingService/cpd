{
 "cells": [
  {
   "cell_type": "markdown",
   "id": "50a47a81-a3cc-455f-b334-67f5e488321c",
   "metadata": {},
   "source": [
    "# Gradient Descent\n",
    "With Wolfe conditions on step size."
   ]
  },
  {
   "cell_type": "code",
   "execution_count": 270,
   "id": "2a33a6d3-164e-4736-8a50-c82fedb82e4f",
   "metadata": {},
   "outputs": [],
   "source": [
    "import numpy as np\n",
    "import scipy.optimize\n",
    "from numpy.linalg import norm\n",
    "\n",
    "def gradient_descent(fun, x0, grad, args=(), eps=0.01, c2=0.05, max_iter=10):\n",
    "    alpha = 0.3\n",
    "    beta = 0.8\n",
    "    x = x0\n",
    "    f = fun(x0, *args)\n",
    "    g = grad(x, *args)\n",
    "    f_evals, g_evals = 1, 1\n",
    "    i = 0\n",
    "    print(i, f)\n",
    "    while norm(g) > eps and i < max_iter:\n",
    "        step, _, _, _, _, _ = scipy.optimize.line_search(\n",
    "            fun, grad, x, -g, args=args, old_fval=f)\n",
    "        method = \"linesearch\"\n",
    "        if step is None:\n",
    "            method = \"backtrack\"\n",
    "            step = backtracking_line_search(fun, x, grad, -g, alpha, beta, args)\n",
    "        x -= step * g\n",
    "        f = fun(x, *args)\n",
    "        g = grad(x, *args)\n",
    "        i += 1\n",
    "        print(i, method, step, f, norm(g))\n",
    "        #f_evals += fc\n",
    "        #g_evals += (gc + 1)\n",
    "    return x#, f_evals, g_evals\n",
    "\n",
    "\n",
    "# Line search function returns optimal step size.\n",
    "def backtracking_line_search(fun, x, grad, delta_x, alpha, beta, args=()):\n",
    "    t = 1\n",
    "    derprod = grad(x, *args) @ delta_x\n",
    "    while fun((x + (t * delta_x)), *args) > fun(x, *args) + (alpha * t * derprod):\n",
    "        t *= beta\n",
    "    return t"
   ]
  },
  {
   "cell_type": "markdown",
   "id": "37fadec6-8913-4c0d-9629-3de743d8ff23",
   "metadata": {},
   "source": [
    "## Least-squares problem"
   ]
  },
  {
   "cell_type": "code",
   "execution_count": 262,
   "id": "8c309faa-e1c6-4e1c-a300-20cdcdf8e3f9",
   "metadata": {},
   "outputs": [
    {
     "name": "stdout",
     "output_type": "stream",
     "text": [
      "0 1.0418609054066488\n",
      "1 linesearch 0.06675468176963371 0.46741882064763834 0.7793256749695983\n",
      "2 linesearch 0.4975785125302646 0.31631703713147225 1.0943220788762398\n",
      "3 linesearch 0.06712095468338468 0.27612699583398875 0.22213092223376688\n",
      "4 linesearch 1.0 0.2716354685252032 0.7046350503237157\n",
      "5 linesearch 0.06576179311753909 0.2553097563540339 0.10448496105038993\n",
      "6 linesearch 1.0 0.25176311442909644 0.24494409134157516\n",
      "7 linesearch 0.06743577594633629 0.24974012180783442 0.052991893359859564\n",
      "8 linesearch 1.0 0.24911451016478864 0.1748511477236272\n",
      "9 linesearch 0.06593099130741929 0.24810665857615172 0.02765353332188246\n",
      "10 linesearch 1.0 0.24774819622865044 0.06762696670336901\n",
      "11 linesearch 0.06773470753160053 0.24759330704854982 0.015450192456231963\n",
      "12 linesearch 1.0 0.24751606720760017 0.05274521924794974\n",
      "13 linesearch 0.06604641370062372 0.24742419472572713 0.008681318690592096\n",
      "[ 0.007395    0.53439085  0.35932505  0.03808262 -0.27715026]\n",
      "Optimization terminated successfully.\n",
      "         Current function value: 0.247335\n",
      "         Iterations: 107\n",
      "         Function evaluations: 176\n",
      "[-0.00805495  0.54575201  0.36775919  0.03779728 -0.28117174]\n"
     ]
    }
   ],
   "source": [
    "np.random.seed(0)\n",
    "m, n = 10, 5\n",
    "a = np.random.random((m, n))\n",
    "b = np.random.random((m, ))\n",
    "x0 = np.random.random((n, ))\n",
    "\n",
    "def f(x):\n",
    "    return 0.5 * norm(a @ x - b) ** 2\n",
    "\n",
    "def grad(x):\n",
    "    return a.T @ (a @ x - b)\n",
    "\n",
    "print(gradient_descent(f, x0, grad, max_iter=20))\n",
    "print(scipy.optimize.fmin(f, x0))"
   ]
  },
  {
   "cell_type": "markdown",
   "id": "a3655dbf-65af-4a69-97cb-c4ac1c554655",
   "metadata": {},
   "source": [
    "## Least-Squares of Quadratic Form"
   ]
  },
  {
   "cell_type": "code",
   "execution_count": 300,
   "id": "e1f6f4a5-0264-4270-8b53-65c8cf2425b3",
   "metadata": {},
   "outputs": [],
   "source": [
    "np.random.seed(0)\n",
    "\n",
    "m, n = 80, 80\n",
    "a = [np.random.random((n, n)) for _ in range(m)]\n",
    "b = np.random.random((m, ))\n",
    "x0 = np.random.random((n, ))\n",
    "\n",
    "def f(x):\n",
    "    return sum((x.T @ ai @ x - bi) ** 2 for ai, bi in zip(a, b))\n",
    "\n",
    "def grad(x):\n",
    "    return 2 * sum((x.T @ ai @ x - bi) * (ai + ai.T) @ x for ai, bi in zip(a, b))"
   ]
  },
  {
   "cell_type": "code",
   "execution_count": null,
   "id": "ce12696f-2e72-461c-a88c-fbc74a427bdb",
   "metadata": {},
   "outputs": [],
   "source": [
    "# # Gradient check.\n",
    "# np.random.seed(0)\n",
    "# x = np.random.random((n,))\n",
    "\n",
    "# def unit_vector(n, i):\n",
    "#     e = np.zeros((n,))\n",
    "#     e[i] = 1\n",
    "#     return e\n",
    "\n",
    "# delta = 1e-7\n",
    "# grad_fd = np.array([(f(x + delta * unit_vector(n, i)) - f(x)) / delta for i in range(n)])\n",
    "# print(norm(grad_fd - grad(x)) / norm(grad(x)))"
   ]
  },
  {
   "cell_type": "code",
   "execution_count": 303,
   "id": "da6112fa-83cc-430e-a437-192bd8b29b83",
   "metadata": {},
   "outputs": [
    {
     "name": "stdout",
     "output_type": "stream",
     "text": [
      "Warning: Maximum number of function evaluations has been exceeded.\n",
      "CPU times: user 6.64 s, sys: 42.8 ms, total: 6.68 s\n",
      "Wall time: 6.69 s\n",
      "[ 0.65879983  1.21253421  0.54111582 -0.46109869  0.19408056 -0.07164759\n",
      " -0.67479116 -2.22961714 -0.25741955 -0.7795725   0.10484649  0.64737748\n",
      " -0.92311535  0.73118469 -0.15743764 -0.40015546  0.70317633 -0.78449119\n",
      " -1.44163058 -1.44965145  1.74575699 -0.21061952 -0.07639984 -0.21563412\n",
      "  1.59295473  0.0820909   0.56320606 -0.0579347   0.03973153  0.03320395\n",
      "  0.22529907  0.06793408  0.36024279 -0.14452085 -1.41856998  0.76097638\n",
      " -0.48060303 -0.94057674 -0.07303802  0.41632912 -1.46558892  0.14705121\n",
      "  0.42442239  0.39442216  1.03093412 -0.41449112  1.08782641 -0.02209701\n",
      "  0.12366279  0.23438518 -0.06018055 -0.21780664  0.84946902 -1.00232965\n",
      "  0.01703008  1.12505547 -0.81597275  1.01204344  0.21852272 -1.43823989\n",
      " -0.87057594  0.52859765  0.53800597 -1.30881082  1.11275872  0.40696492\n",
      "  0.98363623 -0.83002711 -0.5305062   0.29366004  0.41485163 -1.20253342\n",
      "  0.2139546  -0.39385226  1.3135983   0.79305139  1.47719613  0.27416403\n",
      " -0.02394782  0.86752294]\n"
     ]
    }
   ],
   "source": [
    "%time x = scipy.optimize.fmin(f, x0)\n",
    "print(x)\n",
    "#print(gradient_descent(f, x0, grad, max_iter=100))"
   ]
  },
  {
   "cell_type": "markdown",
   "id": "869768b4-2183-4959-bccb-c41cbd4f43c3",
   "metadata": {},
   "source": [
    "Gradient descent is reasonably fast but slows down. Generic minimization is slow. But BFGS is faster."
   ]
  },
  {
   "cell_type": "code",
   "execution_count": 305,
   "id": "73b7a317-ea7d-4f1d-9e1b-83adc55ba772",
   "metadata": {},
   "outputs": [
    {
     "name": "stdout",
     "output_type": "stream",
     "text": [
      "CPU times: user 1.92 s, sys: 55.5 ms, total: 1.97 s\n",
      "Wall time: 1.97 s\n",
      "1.8928110554893907e-06 928\n"
     ]
    }
   ],
   "source": [
    "%time x = scipy.optimize.fmin_l_bfgs_b(f, x0, grad)\n",
    "#print(x)\n",
    "print(x[1], x[2]['funcalls'])"
   ]
  },
  {
   "cell_type": "code",
   "execution_count": null,
   "id": "b7e8fcb6-e208-46c2-a72e-0a4868cf231b",
   "metadata": {},
   "outputs": [],
   "source": [
    "# # Hessian not worth calculating, too slow (O(n^4) = O(B^8) elements!).\n",
    "# 78 ** 4\n",
    "# n = 78\n",
    "# a = np.random.random((n, n))\n",
    "# b = np.random.random((n, ))\n",
    "# %timeit a @ b\n",
    "# n = 78\n",
    "# a = np.random.random((n, n, n, n))\n",
    "# b = np.random.random((n, ))\n",
    "# %timeit np.tensordot(a, b, axes=1)\n"
   ]
  },
  {
   "cell_type": "markdown",
   "id": "201d99d2-46c8-4313-b21b-f0e00c3113bd",
   "metadata": {},
   "source": [
    "# Hessian Check"
   ]
  },
  {
   "cell_type": "code",
   "execution_count": 325,
   "id": "f0c9b24f-8f93-49f8-993e-4fc7030e5e3f",
   "metadata": {},
   "outputs": [],
   "source": [
    "def unit_vector(n, i):\n",
    "    e = np.zeros((n,))\n",
    "    e[i] = 1\n",
    "    return e\n",
    "\n",
    "def grad_check(fun, grad, n, delta: float = 1e-7, x = None):\n",
    "    np.random.seed(0)\n",
    "    if x is None:\n",
    "        x = np.random.random((n,))\n",
    "    f0 = fun(x)\n",
    "    grad_fd = np.array([(fun(x + delta * unit_vector(n, i)) - f0) / delta for i in range(n)])\n",
    "    g = grad(x)\n",
    "    return norm(grad_fd - g) / norm(g)"
   ]
  },
  {
   "cell_type": "code",
   "execution_count": 381,
   "id": "4a831115-fc37-4619-8c28-783bb894c161",
   "metadata": {},
   "outputs": [],
   "source": [
    "n = 3\n",
    "q = np.diag([1, 0, 0]) #np.random.random((n, n))\n",
    "a = q + q.T\n",
    "\n",
    "def g(x):\n",
    "    return (x.T @ q @ x) * (a @ x)\n",
    "\n",
    "def h(x):\n",
    "    ax = a @ x\n",
    "    return (x.T @ q @ x) * a + np.outer(ax, ax)"
   ]
  },
  {
   "cell_type": "code",
   "execution_count": 382,
   "id": "6e06a1e6-d7d1-4b8a-818b-dc23042a3786",
   "metadata": {},
   "outputs": [
    {
     "data": {
      "text/plain": [
       "1.0050393939309288e-07"
      ]
     },
     "execution_count": 382,
     "metadata": {},
     "output_type": "execute_result"
    }
   ],
   "source": [
    "x = np.ones((n, ))\n",
    "grad_check(g, h, n, x=x)"
   ]
  },
  {
   "cell_type": "code",
   "execution_count": 370,
   "id": "4e7fae8c-dbfb-4d38-89a8-42da3276b410",
   "metadata": {},
   "outputs": [
    {
     "data": {
      "text/plain": [
       "array([[6., 4., 4.],\n",
       "       [4., 4., 4.],\n",
       "       [4., 4., 4.]])"
      ]
     },
     "execution_count": 370,
     "metadata": {},
     "output_type": "execute_result"
    }
   ],
   "source": [
    "delta = 1e-4\n",
    "h(x)"
   ]
  },
  {
   "cell_type": "code",
   "execution_count": 371,
   "id": "96514395-e95e-467b-b72d-49c631f10337",
   "metadata": {},
   "outputs": [
    {
     "data": {
      "text/plain": [
       "array([[6.00060002, 0.        , 0.        ],\n",
       "       [0.        , 0.        , 0.        ],\n",
       "       [0.        , 0.        , 0.        ]])"
      ]
     },
     "execution_count": 371,
     "metadata": {},
     "output_type": "execute_result"
    }
   ],
   "source": [
    "np.array([(g(x+delta * unit_vector(n, i)) - g(x))/delta for i in range(n)])"
   ]
  },
  {
   "cell_type": "code",
   "execution_count": 388,
   "id": "cfb5f65d-bfef-43c7-8b5b-91c90f5c558c",
   "metadata": {},
   "outputs": [],
   "source": [
    "n = 3\n",
    "\n",
    "def g(x):\n",
    "    g = np.zeros_like(x)\n",
    "    g[:n] -= 2 * (1 / x[:n] - x[:n] / sum(x[:n] ** 2))\n",
    "    return g\n",
    "\n",
    "def h(x):\n",
    "    g = np.zeros((len(x), len(x)))\n",
    "    s = sum(x[:n] ** 2)\n",
    "    g[:n, :n] -= 2 * (np.diag(-1 / x[:n] ** 2) - np.eye(n) / s + 2 * np.outer(x[:n], x[:n]) / s ** 2)\n",
    "    return g"
   ]
  },
  {
   "cell_type": "code",
   "execution_count": 389,
   "id": "d0aea027-b2e2-449c-b25a-9325e6717742",
   "metadata": {},
   "outputs": [
    {
     "data": {
      "text/plain": [
       "1.0124955391634866e-07"
      ]
     },
     "execution_count": 389,
     "metadata": {},
     "output_type": "execute_result"
    }
   ],
   "source": [
    "x = np.ones((n, ))\n",
    "grad_check(g, h, n, x=x)"
   ]
  },
  {
   "cell_type": "code",
   "execution_count": 390,
   "id": "b12bc5e3-1fd6-4b37-92da-18ddd28865d9",
   "metadata": {},
   "outputs": [
    {
     "data": {
      "text/plain": [
       "array([[ 2.22198521, -0.44443704, -0.44443704],\n",
       "       [-0.44443704,  2.22198521, -0.44443704],\n",
       "       [-0.44443704, -0.44443704,  2.22198521]])"
      ]
     },
     "execution_count": 390,
     "metadata": {},
     "output_type": "execute_result"
    }
   ],
   "source": [
    "np.array([(g(x+delta * unit_vector(n, i)) - g(x))/delta for i in range(n)])"
   ]
  },
  {
   "cell_type": "code",
   "execution_count": 391,
   "id": "65690c63-452c-4362-85f7-8bda3adc0873",
   "metadata": {},
   "outputs": [
    {
     "data": {
      "text/plain": [
       "array([[ 2.22222222, -0.44444444, -0.44444444],\n",
       "       [-0.44444444,  2.22222222, -0.44444444],\n",
       "       [-0.44444444, -0.44444444,  2.22222222]])"
      ]
     },
     "execution_count": 391,
     "metadata": {},
     "output_type": "execute_result"
    }
   ],
   "source": [
    "h(x)"
   ]
  },
  {
   "cell_type": "code",
   "execution_count": null,
   "id": "4caacafe-9dcc-4932-9327-fec00cc24d44",
   "metadata": {},
   "outputs": [],
   "source": []
  }
 ],
 "metadata": {
  "kernelspec": {
   "display_name": "Python 3 (ipykernel)",
   "language": "python",
   "name": "python3"
  },
  "language_info": {
   "codemirror_mode": {
    "name": "ipython",
    "version": 3
   },
   "file_extension": ".py",
   "mimetype": "text/x-python",
   "name": "python",
   "nbconvert_exporter": "python",
   "pygments_lexer": "ipython3",
   "version": "3.9.7"
  }
 },
 "nbformat": 4,
 "nbformat_minor": 5
}
