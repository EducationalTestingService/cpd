{
 "cells": [
  {
   "cell_type": "markdown",
   "id": "6ebd6ecd-ff99-43ed-b9f5-f1a22b209196",
   "metadata": {},
   "source": [
    "# Near CPD Profiling, Benchmarking, Optimization"
   ]
  },
  {
   "cell_type": "code",
   "execution_count": 2,
   "id": "7dfc171c-520f-45fd-bfeb-fa11e397a760",
   "metadata": {},
   "outputs": [],
   "source": [
    "import cProfile\n",
    "import itertools\n",
    "import matplotlib.pyplot as plt\n",
    "import numpy as np\n",
    "import os\n",
    "import pstats\n",
    "import scipy.sparse\n",
    "import time\n",
    "from numpy.linalg import norm\n",
    "from pstats import SortKey\n",
    "\n",
    "import cpd\n",
    "\n",
    "np.set_printoptions(linewidth=150, precision=3, suppress=False)\n",
    "\n",
    "%load_ext autoreload\n",
    "%autoreload 2"
   ]
  },
  {
   "cell_type": "markdown",
   "id": "89cbabad-7eaa-4f97-9ebf-39837a7445a4",
   "metadata": {},
   "source": [
    "## Near CPD v. near PD Runtime"
   ]
  },
  {
   "cell_type": "code",
   "execution_count": 3,
   "id": "0cb0e06a-8b8b-4901-a785-096a5f7a7028",
   "metadata": {},
   "outputs": [
    {
     "name": "stdout",
     "output_type": "stream",
     "text": [
      "dim 10\n"
     ]
    },
    {
     "ename": "NameError",
     "evalue": "name 'eblp' is not defined",
     "output_type": "error",
     "traceback": [
      "\u001b[0;31m---------------------------------------------------------------------------\u001b[0m",
      "\u001b[0;31mNameError\u001b[0m                                 Traceback (most recent call last)",
      "\u001b[0;32m/var/folders/3k/z6rf4cwj2b1bs57qshd9j_k4fbwv1r/T/ipykernel_16324/3167525101.py\u001b[0m in \u001b[0;36m<module>\u001b[0;34m\u001b[0m\n\u001b[1;32m     21\u001b[0m         \u001b[0ma\u001b[0m \u001b[0;34m=\u001b[0m \u001b[0mnp\u001b[0m\u001b[0;34m.\u001b[0m\u001b[0mrandom\u001b[0m\u001b[0;34m.\u001b[0m\u001b[0mrandn\u001b[0m\u001b[0;34m(\u001b[0m\u001b[0mdim\u001b[0m\u001b[0;34m,\u001b[0m \u001b[0mdim\u001b[0m\u001b[0;34m)\u001b[0m\u001b[0;34m\u001b[0m\u001b[0;34m\u001b[0m\u001b[0m\n\u001b[1;32m     22\u001b[0m         \u001b[0;32mfor\u001b[0m \u001b[0mm\u001b[0m\u001b[0;34m,\u001b[0m \u001b[0mmethod\u001b[0m \u001b[0;32min\u001b[0m \u001b[0menumerate\u001b[0m\u001b[0;34m(\u001b[0m\u001b[0mmethods\u001b[0m\u001b[0;34m)\u001b[0m\u001b[0;34m:\u001b[0m\u001b[0;34m\u001b[0m\u001b[0;34m\u001b[0m\u001b[0m\n\u001b[0;32m---> 23\u001b[0;31m             \u001b[0mresult\u001b[0m \u001b[0;34m=\u001b[0m \u001b[0mget_ipython\u001b[0m\u001b[0;34m(\u001b[0m\u001b[0;34m)\u001b[0m\u001b[0;34m.\u001b[0m\u001b[0mrun_line_magic\u001b[0m\u001b[0;34m(\u001b[0m\u001b[0;34m'timeit'\u001b[0m\u001b[0;34m,\u001b[0m \u001b[0;34m'-n2 -r1 -o -q b = run_method(method, a)'\u001b[0m\u001b[0;34m)\u001b[0m\u001b[0;34m\u001b[0m\u001b[0;34m\u001b[0m\u001b[0m\n\u001b[0m\u001b[1;32m     24\u001b[0m             \u001b[0mt\u001b[0m\u001b[0;34m[\u001b[0m\u001b[0mk\u001b[0m\u001b[0;34m,\u001b[0m \u001b[0mi\u001b[0m\u001b[0;34m,\u001b[0m \u001b[0mm\u001b[0m\u001b[0;34m]\u001b[0m \u001b[0;34m=\u001b[0m \u001b[0mresult\u001b[0m\u001b[0;34m.\u001b[0m\u001b[0maverage\u001b[0m\u001b[0;34m\u001b[0m\u001b[0;34m\u001b[0m\u001b[0m\n",
      "\u001b[0;32m~/opt/miniconda3/envs/eblp/lib/python3.9/site-packages/IPython/core/interactiveshell.py\u001b[0m in \u001b[0;36mrun_line_magic\u001b[0;34m(self, magic_name, line, _stack_depth)\u001b[0m\n\u001b[1;32m   2362\u001b[0m                 \u001b[0mkwargs\u001b[0m\u001b[0;34m[\u001b[0m\u001b[0;34m'local_ns'\u001b[0m\u001b[0;34m]\u001b[0m \u001b[0;34m=\u001b[0m \u001b[0mself\u001b[0m\u001b[0;34m.\u001b[0m\u001b[0mget_local_scope\u001b[0m\u001b[0;34m(\u001b[0m\u001b[0mstack_depth\u001b[0m\u001b[0;34m)\u001b[0m\u001b[0;34m\u001b[0m\u001b[0;34m\u001b[0m\u001b[0m\n\u001b[1;32m   2363\u001b[0m             \u001b[0;32mwith\u001b[0m \u001b[0mself\u001b[0m\u001b[0;34m.\u001b[0m\u001b[0mbuiltin_trap\u001b[0m\u001b[0;34m:\u001b[0m\u001b[0;34m\u001b[0m\u001b[0;34m\u001b[0m\u001b[0m\n\u001b[0;32m-> 2364\u001b[0;31m                 \u001b[0mresult\u001b[0m \u001b[0;34m=\u001b[0m \u001b[0mfn\u001b[0m\u001b[0;34m(\u001b[0m\u001b[0;34m*\u001b[0m\u001b[0margs\u001b[0m\u001b[0;34m,\u001b[0m \u001b[0;34m**\u001b[0m\u001b[0mkwargs\u001b[0m\u001b[0;34m)\u001b[0m\u001b[0;34m\u001b[0m\u001b[0;34m\u001b[0m\u001b[0m\n\u001b[0m\u001b[1;32m   2365\u001b[0m             \u001b[0;32mreturn\u001b[0m \u001b[0mresult\u001b[0m\u001b[0;34m\u001b[0m\u001b[0;34m\u001b[0m\u001b[0m\n\u001b[1;32m   2366\u001b[0m \u001b[0;34m\u001b[0m\u001b[0m\n",
      "\u001b[0;32m~/opt/miniconda3/envs/eblp/lib/python3.9/site-packages/decorator.py\u001b[0m in \u001b[0;36mfun\u001b[0;34m(*args, **kw)\u001b[0m\n\u001b[1;32m    230\u001b[0m             \u001b[0;32mif\u001b[0m \u001b[0;32mnot\u001b[0m \u001b[0mkwsyntax\u001b[0m\u001b[0;34m:\u001b[0m\u001b[0;34m\u001b[0m\u001b[0;34m\u001b[0m\u001b[0m\n\u001b[1;32m    231\u001b[0m                 \u001b[0margs\u001b[0m\u001b[0;34m,\u001b[0m \u001b[0mkw\u001b[0m \u001b[0;34m=\u001b[0m \u001b[0mfix\u001b[0m\u001b[0;34m(\u001b[0m\u001b[0margs\u001b[0m\u001b[0;34m,\u001b[0m \u001b[0mkw\u001b[0m\u001b[0;34m,\u001b[0m \u001b[0msig\u001b[0m\u001b[0;34m)\u001b[0m\u001b[0;34m\u001b[0m\u001b[0;34m\u001b[0m\u001b[0m\n\u001b[0;32m--> 232\u001b[0;31m             \u001b[0;32mreturn\u001b[0m \u001b[0mcaller\u001b[0m\u001b[0;34m(\u001b[0m\u001b[0mfunc\u001b[0m\u001b[0;34m,\u001b[0m \u001b[0;34m*\u001b[0m\u001b[0;34m(\u001b[0m\u001b[0mextras\u001b[0m \u001b[0;34m+\u001b[0m \u001b[0margs\u001b[0m\u001b[0;34m)\u001b[0m\u001b[0;34m,\u001b[0m \u001b[0;34m**\u001b[0m\u001b[0mkw\u001b[0m\u001b[0;34m)\u001b[0m\u001b[0;34m\u001b[0m\u001b[0;34m\u001b[0m\u001b[0m\n\u001b[0m\u001b[1;32m    233\u001b[0m     \u001b[0mfun\u001b[0m\u001b[0;34m.\u001b[0m\u001b[0m__name__\u001b[0m \u001b[0;34m=\u001b[0m \u001b[0mfunc\u001b[0m\u001b[0;34m.\u001b[0m\u001b[0m__name__\u001b[0m\u001b[0;34m\u001b[0m\u001b[0;34m\u001b[0m\u001b[0m\n\u001b[1;32m    234\u001b[0m     \u001b[0mfun\u001b[0m\u001b[0;34m.\u001b[0m\u001b[0m__doc__\u001b[0m \u001b[0;34m=\u001b[0m \u001b[0mfunc\u001b[0m\u001b[0;34m.\u001b[0m\u001b[0m__doc__\u001b[0m\u001b[0;34m\u001b[0m\u001b[0;34m\u001b[0m\u001b[0m\n",
      "\u001b[0;32m~/opt/miniconda3/envs/eblp/lib/python3.9/site-packages/IPython/core/magic.py\u001b[0m in \u001b[0;36m<lambda>\u001b[0;34m(f, *a, **k)\u001b[0m\n\u001b[1;32m    185\u001b[0m     \u001b[0;31m# but it's overkill for just that one bit of state.\u001b[0m\u001b[0;34m\u001b[0m\u001b[0;34m\u001b[0m\u001b[0m\n\u001b[1;32m    186\u001b[0m     \u001b[0;32mdef\u001b[0m \u001b[0mmagic_deco\u001b[0m\u001b[0;34m(\u001b[0m\u001b[0marg\u001b[0m\u001b[0;34m)\u001b[0m\u001b[0;34m:\u001b[0m\u001b[0;34m\u001b[0m\u001b[0;34m\u001b[0m\u001b[0m\n\u001b[0;32m--> 187\u001b[0;31m         \u001b[0mcall\u001b[0m \u001b[0;34m=\u001b[0m \u001b[0;32mlambda\u001b[0m \u001b[0mf\u001b[0m\u001b[0;34m,\u001b[0m \u001b[0;34m*\u001b[0m\u001b[0ma\u001b[0m\u001b[0;34m,\u001b[0m \u001b[0;34m**\u001b[0m\u001b[0mk\u001b[0m\u001b[0;34m:\u001b[0m \u001b[0mf\u001b[0m\u001b[0;34m(\u001b[0m\u001b[0;34m*\u001b[0m\u001b[0ma\u001b[0m\u001b[0;34m,\u001b[0m \u001b[0;34m**\u001b[0m\u001b[0mk\u001b[0m\u001b[0;34m)\u001b[0m\u001b[0;34m\u001b[0m\u001b[0;34m\u001b[0m\u001b[0m\n\u001b[0m\u001b[1;32m    188\u001b[0m \u001b[0;34m\u001b[0m\u001b[0m\n\u001b[1;32m    189\u001b[0m         \u001b[0;32mif\u001b[0m \u001b[0mcallable\u001b[0m\u001b[0;34m(\u001b[0m\u001b[0marg\u001b[0m\u001b[0;34m)\u001b[0m\u001b[0;34m:\u001b[0m\u001b[0;34m\u001b[0m\u001b[0;34m\u001b[0m\u001b[0m\n",
      "\u001b[0;32m~/opt/miniconda3/envs/eblp/lib/python3.9/site-packages/IPython/core/magics/execution.py\u001b[0m in \u001b[0;36mtimeit\u001b[0;34m(self, line, cell, local_ns)\u001b[0m\n\u001b[1;32m   1182\u001b[0m                     \u001b[0;32mbreak\u001b[0m\u001b[0;34m\u001b[0m\u001b[0;34m\u001b[0m\u001b[0m\n\u001b[1;32m   1183\u001b[0m \u001b[0;34m\u001b[0m\u001b[0m\n\u001b[0;32m-> 1184\u001b[0;31m         \u001b[0mall_runs\u001b[0m \u001b[0;34m=\u001b[0m \u001b[0mtimer\u001b[0m\u001b[0;34m.\u001b[0m\u001b[0mrepeat\u001b[0m\u001b[0;34m(\u001b[0m\u001b[0mrepeat\u001b[0m\u001b[0;34m,\u001b[0m \u001b[0mnumber\u001b[0m\u001b[0;34m)\u001b[0m\u001b[0;34m\u001b[0m\u001b[0;34m\u001b[0m\u001b[0m\n\u001b[0m\u001b[1;32m   1185\u001b[0m         \u001b[0mbest\u001b[0m \u001b[0;34m=\u001b[0m \u001b[0mmin\u001b[0m\u001b[0;34m(\u001b[0m\u001b[0mall_runs\u001b[0m\u001b[0;34m)\u001b[0m \u001b[0;34m/\u001b[0m \u001b[0mnumber\u001b[0m\u001b[0;34m\u001b[0m\u001b[0;34m\u001b[0m\u001b[0m\n\u001b[1;32m   1186\u001b[0m         \u001b[0mworst\u001b[0m \u001b[0;34m=\u001b[0m \u001b[0mmax\u001b[0m\u001b[0;34m(\u001b[0m\u001b[0mall_runs\u001b[0m\u001b[0;34m)\u001b[0m \u001b[0;34m/\u001b[0m \u001b[0mnumber\u001b[0m\u001b[0;34m\u001b[0m\u001b[0;34m\u001b[0m\u001b[0m\n",
      "\u001b[0;32m~/opt/miniconda3/envs/eblp/lib/python3.9/timeit.py\u001b[0m in \u001b[0;36mrepeat\u001b[0;34m(self, repeat, number)\u001b[0m\n\u001b[1;32m    203\u001b[0m         \u001b[0mr\u001b[0m \u001b[0;34m=\u001b[0m \u001b[0;34m[\u001b[0m\u001b[0;34m]\u001b[0m\u001b[0;34m\u001b[0m\u001b[0;34m\u001b[0m\u001b[0m\n\u001b[1;32m    204\u001b[0m         \u001b[0;32mfor\u001b[0m \u001b[0mi\u001b[0m \u001b[0;32min\u001b[0m \u001b[0mrange\u001b[0m\u001b[0;34m(\u001b[0m\u001b[0mrepeat\u001b[0m\u001b[0;34m)\u001b[0m\u001b[0;34m:\u001b[0m\u001b[0;34m\u001b[0m\u001b[0;34m\u001b[0m\u001b[0m\n\u001b[0;32m--> 205\u001b[0;31m             \u001b[0mt\u001b[0m \u001b[0;34m=\u001b[0m \u001b[0mself\u001b[0m\u001b[0;34m.\u001b[0m\u001b[0mtimeit\u001b[0m\u001b[0;34m(\u001b[0m\u001b[0mnumber\u001b[0m\u001b[0;34m)\u001b[0m\u001b[0;34m\u001b[0m\u001b[0;34m\u001b[0m\u001b[0m\n\u001b[0m\u001b[1;32m    206\u001b[0m             \u001b[0mr\u001b[0m\u001b[0;34m.\u001b[0m\u001b[0mappend\u001b[0m\u001b[0;34m(\u001b[0m\u001b[0mt\u001b[0m\u001b[0;34m)\u001b[0m\u001b[0;34m\u001b[0m\u001b[0;34m\u001b[0m\u001b[0m\n\u001b[1;32m    207\u001b[0m         \u001b[0;32mreturn\u001b[0m \u001b[0mr\u001b[0m\u001b[0;34m\u001b[0m\u001b[0;34m\u001b[0m\u001b[0m\n",
      "\u001b[0;32m~/opt/miniconda3/envs/eblp/lib/python3.9/site-packages/IPython/core/magics/execution.py\u001b[0m in \u001b[0;36mtimeit\u001b[0;34m(self, number)\u001b[0m\n\u001b[1;32m    167\u001b[0m         \u001b[0mgc\u001b[0m\u001b[0;34m.\u001b[0m\u001b[0mdisable\u001b[0m\u001b[0;34m(\u001b[0m\u001b[0;34m)\u001b[0m\u001b[0;34m\u001b[0m\u001b[0;34m\u001b[0m\u001b[0m\n\u001b[1;32m    168\u001b[0m         \u001b[0;32mtry\u001b[0m\u001b[0;34m:\u001b[0m\u001b[0;34m\u001b[0m\u001b[0;34m\u001b[0m\u001b[0m\n\u001b[0;32m--> 169\u001b[0;31m             \u001b[0mtiming\u001b[0m \u001b[0;34m=\u001b[0m \u001b[0mself\u001b[0m\u001b[0;34m.\u001b[0m\u001b[0minner\u001b[0m\u001b[0;34m(\u001b[0m\u001b[0mit\u001b[0m\u001b[0;34m,\u001b[0m \u001b[0mself\u001b[0m\u001b[0;34m.\u001b[0m\u001b[0mtimer\u001b[0m\u001b[0;34m)\u001b[0m\u001b[0;34m\u001b[0m\u001b[0;34m\u001b[0m\u001b[0m\n\u001b[0m\u001b[1;32m    170\u001b[0m         \u001b[0;32mfinally\u001b[0m\u001b[0;34m:\u001b[0m\u001b[0;34m\u001b[0m\u001b[0;34m\u001b[0m\u001b[0m\n\u001b[1;32m    171\u001b[0m             \u001b[0;32mif\u001b[0m \u001b[0mgcold\u001b[0m\u001b[0;34m:\u001b[0m\u001b[0;34m\u001b[0m\u001b[0;34m\u001b[0m\u001b[0m\n",
      "\u001b[0;32m<magic-timeit>\u001b[0m in \u001b[0;36minner\u001b[0;34m(_it, _timer)\u001b[0m\n",
      "\u001b[0;32m/var/folders/3k/z6rf4cwj2b1bs57qshd9j_k4fbwv1r/T/ipykernel_16324/3167525101.py\u001b[0m in \u001b[0;36mrun_method\u001b[0;34m(method, a)\u001b[0m\n\u001b[1;32m      5\u001b[0m \u001b[0;32mdef\u001b[0m \u001b[0mrun_method\u001b[0m\u001b[0;34m(\u001b[0m\u001b[0mmethod\u001b[0m\u001b[0;34m,\u001b[0m \u001b[0ma\u001b[0m\u001b[0;34m)\u001b[0m\u001b[0;34m:\u001b[0m\u001b[0;34m\u001b[0m\u001b[0;34m\u001b[0m\u001b[0m\n\u001b[1;32m      6\u001b[0m     \u001b[0;32mif\u001b[0m \u001b[0mmethod\u001b[0m \u001b[0;34m==\u001b[0m \u001b[0;34m\"near-pd\"\u001b[0m\u001b[0;34m:\u001b[0m\u001b[0;34m\u001b[0m\u001b[0;34m\u001b[0m\u001b[0m\n\u001b[0;32m----> 7\u001b[0;31m         \u001b[0;32mreturn\u001b[0m \u001b[0meblp\u001b[0m\u001b[0;34m.\u001b[0m\u001b[0mnear_pd\u001b[0m\u001b[0;34m.\u001b[0m\u001b[0mnear_pd\u001b[0m\u001b[0;34m(\u001b[0m\u001b[0ma\u001b[0m\u001b[0;34m)\u001b[0m\u001b[0;34m\u001b[0m\u001b[0;34m\u001b[0m\u001b[0m\n\u001b[0m\u001b[1;32m      8\u001b[0m     \u001b[0;32melif\u001b[0m \u001b[0mmethod\u001b[0m \u001b[0;34m==\u001b[0m \u001b[0;34m\"near-cpd-diag\"\u001b[0m\u001b[0;34m:\u001b[0m\u001b[0;34m\u001b[0m\u001b[0;34m\u001b[0m\u001b[0m\n\u001b[1;32m      9\u001b[0m         \u001b[0;32mreturn\u001b[0m \u001b[0meblp\u001b[0m\u001b[0;34m.\u001b[0m\u001b[0mccpd\u001b[0m\u001b[0;34m.\u001b[0m\u001b[0mnear_cpd\u001b[0m\u001b[0;34m(\u001b[0m\u001b[0ma\u001b[0m\u001b[0;34m)\u001b[0m\u001b[0;34m[\u001b[0m\u001b[0;36m0\u001b[0m\u001b[0;34m]\u001b[0m\u001b[0;34m\u001b[0m\u001b[0;34m\u001b[0m\u001b[0m\n",
      "\u001b[0;31mNameError\u001b[0m: name 'eblp' is not defined"
     ]
    }
   ],
   "source": [
    "dim_values = np.arange(10, 16) # np.array([10, 15, 20, 25, 30])# 2 ** np.arange(2, 5)\n",
    "num_experiments = 10\n",
    "methods = (\"near-pd\", \"near-cpd-diag\", \"near-cpd-all\", \"near-cpd-all-scaled\")\n",
    "\n",
    "def run_method(method, a):\n",
    "    if method == \"near-pd\":\n",
    "        return eblp.near_pd.near_pd(a)\n",
    "    elif method == \"near-cpd-diag\":\n",
    "        return eblp.ccpd.near_cpd(a)[0]\n",
    "    elif method == \"near-cpd-all\":\n",
    "        return eblp.ccpd.near_cpd(a, regularization=\"all\")[0]\n",
    "    elif method == \"near-cpd-all-scaled\":\n",
    "        return eblp.ccpd.near_cpd(a, regularization=\"all_scaled\")[0]\n",
    "    else:\n",
    "        raise Exception(\"Unsupported method {}\".format(method))\n",
    "\n",
    "t = np.zeros((len(dim_values), num_experiments, len(methods)))\n",
    "for k, dim in enumerate(dim_values):\n",
    "    print(\"dim\", dim)\n",
    "    for i in range(num_experiments):\n",
    "        a = np.random.randn(dim, dim)\n",
    "        for m, method in enumerate(methods):\n",
    "            result = %timeit -n2 -r1 -o -q b = run_method(method, a)\n",
    "            t[k, i, m] = result.average"
   ]
  },
  {
   "cell_type": "code",
   "execution_count": 93,
   "id": "98b36bfe-5956-4754-b561-bfe3f549fa6f",
   "metadata": {},
   "outputs": [
    {
     "name": "stdout",
     "output_type": "stream",
     "text": [
      "near-pd         [  20.821 -164.104  431.039 -383.642]\n",
      "near-cpd-diag   [  63.264 -471.742 1175.215 -979.288]\n",
      "near-cpd-all    [  61.473 -458.041 1140.373 -949.826]\n",
      "near-cpd-all-scaled [   88.177  -649.401  1594.059 -1305.681]\n",
      "[0.001 0.001 0.003 0.001 0.002 0.002] [0.    0.    0.004 0.001 0.    0.   ]\n",
      "[0.126 0.249 0.293 0.368 0.644 1.077] [0.038 0.072 0.045 0.083 0.346 0.506]\n",
      "[0.127 0.255 0.287 0.37  0.667 1.084] [0.04  0.069 0.048 0.085 0.356 0.557]\n",
      "[0.162 0.223 0.208 0.241 0.373 0.862] [0.09  0.085 0.064 0.089 0.423 0.737]\n"
     ]
    },
    {
     "data": {
      "image/png": "[encoded data removed]",
      "text/plain": [
       "<Figure size 432x288 with 1 Axes>"
      ]
     },
     "metadata": {
      "needs_background": "light"
     },
     "output_type": "display_data"
    }
   ],
   "source": [
    "for m, method in enumerate(methods):\n",
    "    plt.plot(dim_values, np.mean(t[:, :, m], axis=1), label=method)\n",
    "plt.grid(True);\n",
    "plt.xlabel(\"Matrix dimension\")\n",
    "plt.ylabel(\"Time\")\n",
    "plt.legend();\n",
    "\n",
    "for m, method in enumerate(methods):\n",
    "    print(\"{:<15s} {}\".format(method, np.polyfit(np.log(dim_values), np.log(np.mean(t[:, :, m], axis=1)), 3)))\n",
    "\n",
    "for m in range(len(methods)):\n",
    "    print(np.mean(t[:, :, m], axis=1), np.std(t[:, :, m], axis=1))"
   ]
  },
  {
   "cell_type": "markdown",
   "id": "82f7e0a0-0c87-40c5-852f-95fc6ef8aecf",
   "metadata": {},
   "source": [
    "## Profiling"
   ]
  },
  {
   "cell_type": "code",
   "execution_count": 4,
   "id": "9a6cece4-e861-4abc-a34d-a4097ccdb712",
   "metadata": {},
   "outputs": [],
   "source": [
    "dim = 20\n",
    "a = np.random.randn(dim, dim)"
   ]
  },
  {
   "cell_type": "code",
   "execution_count": 8,
   "id": "75c0ba7b-e70f-4b2b-8da0-28c8ec3e4d0a",
   "metadata": {},
   "outputs": [
    {
     "name": "stdout",
     "output_type": "stream",
     "text": [
      "Fri Apr  1 07:52:22 2022    near_cpd.stats\n",
      "\n",
      "         2826078 function calls (2825481 primitive calls) in 3.595 seconds\n",
      "\n",
      "   Ordered by: cumulative time\n",
      "   List reduced from 357 to 15 due to restriction <15>\n",
      "\n",
      "   ncalls  tottime  percall  cumtime  percall filename:lineno(function)\n",
      "        1    0.000    0.000    3.595    3.595 {built-in method builtins.exec}\n",
      "        1    0.000    0.000    3.595    3.595 <string>:1(<module>)\n",
      "        1    0.000    0.000    3.595    3.595 /Users/olivne/ETS/eblp/src/cpd/near_pd.py:12(near_pd)\n",
      "        1    0.000    0.000    3.595    3.595 /Users/olivne/ETS/eblp/src/cpd/_rco.py:491(near_pd)\n",
      "        1    0.000    0.000    3.590    3.590 /Users/olivne/ETS/eblp/src/cpd/_rco.py:32(optimize)\n",
      "        1    0.000    0.000    3.565    3.565 /Users/olivne/ETS/eblp/src/cpd/optim.py:115(optimize)\n",
      "        6    0.000    0.000    3.548    0.591 /Users/olivne/ETS/eblp/src/cpd/optim.py:165(optimizer)\n",
      "        6    0.000    0.000    3.548    0.591 /Users/olivne/opt/miniconda3/envs/eblp/lib/python3.9/site-packages/scipy/optimize/_minimize.py:45(minimize)\n",
      "        6    0.026    0.004    3.547    0.591 /Users/olivne/opt/miniconda3/envs/eblp/lib/python3.9/site-packages/scipy/optimize/optimize.py:1747(_minimize_newtoncg)\n",
      "     1431    0.006    0.000    2.758    0.002 /Users/olivne/ETS/eblp/src/cpd/_rco.py:404(fun)\n",
      "     1431    0.621    0.000    2.729    0.002 /Users/olivne/ETS/eblp/src/cpd/_rco.py:405(<listcomp>)\n",
      "     1061    0.006    0.000    2.715    0.003 /Users/olivne/ETS/eblp/src/cpd/_functional.py:55(hessian_action)\n",
      "     1061    0.130    0.000    2.642    0.002 /Users/olivne/ETS/eblp/src/cpd/_rco.py:209(hessian_action)\n",
      "   300510    0.184    0.000    2.108    0.000 <__array_function__ internals>:2(sum)\n",
      "307915/307330    0.181    0.000    1.919    0.000 {built-in method numpy.core._multiarray_umath.implement_array_function}\n",
      "\n",
      "\n"
     ]
    },
    {
     "data": {
      "text/plain": [
       "<pstats.Stats at 0x1124c3fa0>"
      ]
     },
     "execution_count": 8,
     "metadata": {},
     "output_type": "execute_result"
    }
   ],
   "source": [
    "cProfile.run('cpd.near_pd.near_pd(a, \"rco\")', 'near_cpd.stats')\n",
    "p = pstats.Stats('near_cpd.stats')\n",
    "p.sort_stats(SortKey.CUMULATIVE).print_stats(15)"
   ]
  },
  {
   "cell_type": "code",
   "execution_count": 11,
   "id": "361dcba6-032a-47c7-addb-8cad1873f067",
   "metadata": {},
   "outputs": [
    {
     "name": "stdout",
     "output_type": "stream",
     "text": [
      "Fri Apr  1 07:53:57 2022    near_cpd.stats\n",
      "\n",
      "         538691 function calls (538447 primitive calls) in 0.660 seconds\n",
      "\n",
      "   Ordered by: cumulative time\n",
      "   List reduced from 350 to 15 due to restriction <15>\n",
      "\n",
      "   ncalls  tottime  percall  cumtime  percall filename:lineno(function)\n",
      "        1    0.000    0.000    0.660    0.660 {built-in method builtins.exec}\n",
      "        1    0.000    0.000    0.659    0.659 <string>:1(<module>)\n",
      "        1    0.000    0.000    0.659    0.659 /Users/olivne/ETS/eblp/src/cpd/near_pd.py:12(near_pd)\n",
      "        1    0.000    0.000    0.659    0.659 /Users/olivne/ETS/eblp/src/cpd/_rco.py:491(near_pd)\n",
      "        1    0.000    0.000    0.657    0.657 /Users/olivne/ETS/eblp/src/cpd/_rco.py:32(optimize)\n",
      "        1    0.000    0.000    0.636    0.636 /Users/olivne/ETS/eblp/src/cpd/optim.py:115(optimize)\n",
      "        7    0.000    0.000    0.618    0.088 /Users/olivne/ETS/eblp/src/cpd/optim.py:165(optimizer)\n",
      "        7    0.000    0.000    0.618    0.088 /Users/olivne/opt/miniconda3/envs/eblp/lib/python3.9/site-packages/scipy/optimize/_minimize.py:45(minimize)\n",
      "        7    0.004    0.001    0.618    0.088 /Users/olivne/opt/miniconda3/envs/eblp/lib/python3.9/site-packages/scipy/optimize/optimize.py:1747(_minimize_newtoncg)\n",
      "      268    0.001    0.000    0.515    0.002 /Users/olivne/ETS/eblp/src/cpd/_rco.py:404(fun)\n",
      "      268    0.115    0.000    0.509    0.002 /Users/olivne/ETS/eblp/src/cpd/_rco.py:405(<listcomp>)\n",
      "    56280    0.034    0.000    0.395    0.000 <__array_function__ internals>:2(sum)\n",
      "58539/58299    0.036    0.000    0.367    0.000 {built-in method numpy.core._multiarray_umath.implement_array_function}\n",
      "      128    0.001    0.000    0.325    0.003 /Users/olivne/ETS/eblp/src/cpd/_functional.py:55(hessian_action)\n",
      "    56280    0.066    0.000    0.322    0.000 /Users/olivne/opt/miniconda3/envs/eblp/lib/python3.9/site-packages/numpy/core/fromnumeric.py:2123(sum)\n",
      "\n",
      "\n"
     ]
    },
    {
     "data": {
      "text/plain": [
       "<pstats.Stats at 0x17d5f3a30>"
      ]
     },
     "execution_count": 11,
     "metadata": {},
     "output_type": "execute_result"
    }
   ],
   "source": [
    "cProfile.run('cpd.near_pd.near_pd(a, \"rco\", regularization=\"all_scaled\", tol_curve=1e-3)', 'near_cpd.stats')\n",
    "p = pstats.Stats('near_cpd.stats')\n",
    "p.sort_stats(SortKey.CUMULATIVE).print_stats(15)"
   ]
  },
  {
   "cell_type": "markdown",
   "id": "e1e49352-994f-4dc7-9c1b-20ebcb85ad63",
   "metadata": {},
   "source": [
    "### Benchmark Frobenius Error Functional Implementations\n",
    "Explicit is much faster for $n \\geq 20$. For $n \\leq 10$, "
   ]
  },
  {
   "cell_type": "code",
   "execution_count": 98,
   "id": "171a7f78-529b-4872-842d-f650ffd023b6",
   "metadata": {},
   "outputs": [
    {
     "name": "stdout",
     "output_type": "stream",
     "text": [
      "CPU times: user 5.32 s, sys: 1.41 s, total: 6.73 s\n",
      "Wall time: 3.34 s\n",
      "CPU times: user 771 ms, sys: 31.9 ms, total: 803 ms\n",
      "Wall time: 78.8 ms\n",
      "CPU times: user 2.04 s, sys: 429 ms, total: 2.47 s\n",
      "Wall time: 348 ms\n",
      "CPU times: user 7.37 ms, sys: 608 µs, total: 7.98 ms\n",
      "Wall time: 4.05 ms\n"
     ]
    }
   ],
   "source": [
    "n = 32\n",
    "l = np.tril(np.random.random((n, n)))\n",
    "g = l @ l.T + 0.001 * np.eye(n)\n",
    "x = eblp.linalg.unravel_lower(l)\n",
    "a = eblp.ccpd.frobenius_error_to_matrix(n)\n",
    "\n",
    "%time f = eblp.ccpd.MomentCholeskyFunctionalQf(a, g)\n",
    "%time f_l = f.fun(x)\n",
    "\n",
    "%time f = eblp.ccpd.MomentCholeskyFunctionalExplicit(a, g)\n",
    "%time f_l = f.fun(x)"
   ]
  },
  {
   "cell_type": "code",
   "execution_count": 18,
   "id": "a4a6ec16-aeab-423c-8d05-ef4c17cd6df4",
   "metadata": {},
   "outputs": [],
   "source": [
    "n_values = np.arange(2, 28) #  2 ** np.arange(2, 11)\n",
    "impls = (eblp.ccpd.MomentCholeskyFunctionalQf, eblp.ccpd.MomentCholeskyFunctionalExplicit)\n",
    "eval_time = np.zeros((len(n_values), len(impls)))\n",
    "for i, n in enumerate(n_values):\n",
    "    l = np.tril(np.random.random((n, n)))\n",
    "    g = l @ l.T + 0.001 * np.eye(n)\n",
    "    x = eblp.linalg.unravel_lower(l)\n",
    "    a = scipy.sparse.csr_matrix(eblp.ccpd.frobenius_error_to_matrix(n))\n",
    "    for j, impl in enumerate(impls):\n",
    "        result = %timeit -n1 -r1 -o -q b = impl(a, g).fun(x)\n",
    "        eval_time[i, j] = result.average"
   ]
  },
  {
   "cell_type": "code",
   "execution_count": 19,
   "id": "a6eb51d6-aa84-45d8-b299-fd0f8c023c8d",
   "metadata": {},
   "outputs": [
    {
     "name": "stdout",
     "output_type": "stream",
     "text": [
      "QF [ 2.603 -9.472]\n",
      "Explicit [ 1.205 -8.191]\n"
     ]
    },
    {
     "data": {
      "image/png": "[encoded data removed]",
      "text/plain": [
       "<Figure size 432x288 with 1 Axes>"
      ]
     },
     "metadata": {
      "needs_background": "light"
     },
     "output_type": "display_data"
    }
   ],
   "source": [
    "plt.plot(n_values, eval_time[:, 0], label=\"QF Setup+Eval\")\n",
    "plt.plot(n_values, eval_time[:, 1], label=\"Explicit Setup+ Eval\")\n",
    "plt.grid(True);\n",
    "plt.xlabel(\"Matrix dimension\")\n",
    "plt.ylabel(\"Time\")\n",
    "plt.legend()\n",
    "print(\"QF\", np.polyfit(np.log(n_values), np.log(eval_time[:, 0]), 1))\n",
    "print(\"Explicit\", np.polyfit(np.log(n_values), np.log(eval_time[:, 1]), 1))"
   ]
  },
  {
   "cell_type": "code",
   "execution_count": 20,
   "id": "2cdcca6a-6e58-46a3-bce1-8a80b11fc422",
   "metadata": {},
   "outputs": [
    {
     "data": {
      "text/plain": [
       "array([[0.002, 0.002],\n",
       "       [0.002, 0.001],\n",
       "       [0.003, 0.002],\n",
       "       [0.006, 0.002],\n",
       "       [0.006, 0.002],\n",
       "       [0.008, 0.002],\n",
       "       [0.011, 0.002],\n",
       "       [0.013, 0.003],\n",
       "       [0.015, 0.003],\n",
       "       [0.022, 0.003],\n",
       "       [0.025, 0.003],\n",
       "       [0.031, 0.004],\n",
       "       [0.043, 0.006],\n",
       "       [0.065, 0.006],\n",
       "       [0.082, 0.007],\n",
       "       [0.106, 0.008],\n",
       "       [0.139, 0.009],\n",
       "       [0.166, 0.009],\n",
       "       [0.209, 0.011],\n",
       "       [0.261, 0.013],\n",
       "       [0.325, 0.015],\n",
       "       [0.406, 0.017],\n",
       "       [0.498, 0.018],\n",
       "       [0.611, 0.019],\n",
       "       [0.749, 0.021],\n",
       "       [0.974, 0.022]])"
      ]
     },
     "execution_count": 20,
     "metadata": {},
     "output_type": "execute_result"
    }
   ],
   "source": [
    "eval_time"
   ]
  },
  {
   "cell_type": "code",
   "execution_count": 21,
   "id": "6b21cc49-7d03-49be-9d5b-aab5add1c0f8",
   "metadata": {},
   "outputs": [
    {
     "name": "stdout",
     "output_type": "stream",
     "text": [
      "Tue Mar 22 11:01:49 2022    explicit.stats\n",
      "\n",
      "         13483 function calls (13474 primitive calls) in 0.043 seconds\n",
      "\n",
      "   Ordered by: cumulative time\n",
      "   List reduced from 154 to 30 due to restriction <30>\n",
      "\n",
      "   ncalls  tottime  percall  cumtime  percall filename:lineno(function)\n",
      "        1    0.000    0.000    0.043    0.043 {built-in method builtins.exec}\n",
      "        1    0.001    0.001    0.043    0.043 <string>:1(<module>)\n",
      "        1    0.005    0.005    0.042    0.042 /Users/olivne/ETS/eblp/src/eblp/ccpd.py:185(__init__)\n",
      "        1    0.001    0.001    0.035    0.035 /Users/olivne/ETS/eblp/src/eblp/ccpd.py:298(__init__)\n",
      "        1    0.001    0.001    0.020    0.020 /Users/olivne/ETS/eblp/src/eblp/ccpd.py:326(_build_hessian)\n",
      "      529    0.002    0.000    0.014    0.000 /Users/olivne/ETS/eblp/src/eblp/ccpd.py:332(<genexpr>)\n",
      "        1    0.003    0.003    0.010    0.010 /Users/olivne/ETS/eblp/src/eblp/ccpd.py:373(_cross_term_ij)\n",
      "1113/1108    0.006    0.000    0.008    0.000 {built-in method numpy.core._multiarray_umath.implement_array_function}\n",
      "     1069    0.001    0.000    0.007    0.000 <__array_function__ internals>:2(concatenate)\n",
      "       51    0.006    0.000    0.006    0.000 {built-in method numpy.array}\n",
      "      529    0.003    0.000    0.005    0.000 /Users/olivne/ETS/eblp/src/eblp/ccpd.py:334(<genexpr>)\n",
      "      6/2    0.000    0.000    0.003    0.001 /Users/olivne/opt/miniconda3/envs/eblp/lib/python3.9/site-packages/scipy/sparse/compressed.py:27(__init__)\n",
      "      527    0.002    0.000    0.003    0.000 /Users/olivne/ETS/eblp/src/eblp/ccpd.py:389(<genexpr>)\n",
      "        1    0.000    0.000    0.002    0.002 /Users/olivne/ETS/eblp/src/eblp/ccpd.py:555(create_llt_mapping)\n",
      "        2    0.000    0.000    0.002    0.001 /Users/olivne/opt/miniconda3/envs/eblp/lib/python3.9/site-packages/scipy/sparse/base.py:294(asformat)\n",
      "        2    0.000    0.000    0.002    0.001 /Users/olivne/opt/miniconda3/envs/eblp/lib/python3.9/site-packages/scipy/sparse/coo.py:372(tocsr)\n",
      "        1    0.002    0.002    0.002    0.002 /Users/olivne/ETS/eblp/src/eblp/ccpd.py:575(<listcomp>)\n",
      "        3    0.000    0.000    0.002    0.001 /Users/olivne/ETS/eblp/src/eblp/linalg.py:106(lower_subscripts)\n",
      "      528    0.001    0.000    0.001    0.000 /Users/olivne/ETS/eblp/src/eblp/ccpd.py:337(<genexpr>)\n",
      "     1494    0.001    0.000    0.001    0.000 {built-in method numpy.arange}\n",
      "        1    0.000    0.000    0.001    0.001 /Users/olivne/ETS/eblp/src/eblp/linalg.py:121(norm_weight_matrix)\n",
      "        1    0.001    0.001    0.001    0.001 /Users/olivne/ETS/eblp/src/eblp/ccpd.py:341(<listcomp>)\n",
      "      529    0.001    0.000    0.001    0.000 /Users/olivne/ETS/eblp/src/eblp/ccpd.py:356(<genexpr>)\n",
      "        2    0.000    0.000    0.001    0.000 /Users/olivne/opt/miniconda3/envs/eblp/lib/python3.9/site-packages/scipy/sparse/compressed.py:1099(sum_duplicates)\n",
      "        1    0.000    0.000    0.001    0.001 <__array_function__ internals>:2(diag)\n",
      "        1    0.001    0.001    0.001    0.001 /Users/olivne/opt/miniconda3/envs/eblp/lib/python3.9/site-packages/numpy/lib/twodim_base.py:234(diag)\n",
      "        1    0.000    0.000    0.001    0.001 /Users/olivne/ETS/eblp/src/eblp/linalg.py:53(unravel_lower)\n",
      "        2    0.001    0.000    0.001    0.000 {built-in method scipy.sparse._sparsetools.coo_tocsr}\n",
      "        5    0.000    0.000    0.001    0.000 /Users/olivne/opt/miniconda3/envs/eblp/lib/python3.9/site-packages/numpy/core/fromnumeric.py:51(_wrapfunc)\n",
      "        2    0.000    0.000    0.000    0.000 /Users/olivne/opt/miniconda3/envs/eblp/lib/python3.9/site-packages/scipy/sparse/compressed.py:1069(__get_has_canonical_format)\n",
      "\n",
      "\n"
     ]
    },
    {
     "data": {
      "text/plain": [
       "<pstats.Stats at 0x184045220>"
      ]
     },
     "execution_count": 21,
     "metadata": {},
     "output_type": "execute_result"
    }
   ],
   "source": [
    "n = 32\n",
    "l = np.tril(np.random.random((n, n)))\n",
    "g = l @ l.T + 0.001 * np.eye(n)\n",
    "x = eblp.linalg.unravel_lower(l)\n",
    "a = eblp.ccpd.frobenius_error_to_matrix(n)\n",
    "\n",
    "cProfile.run('eblp.ccpd.MomentCholeskyFunctionalExplicit(a, g)', 'explicit.stats')\n",
    "p = pstats.Stats('explicit.stats')\n",
    "p.sort_stats(SortKey.CUMULATIVE).print_stats(30)"
   ]
  },
  {
   "cell_type": "code",
   "execution_count": 22,
   "id": "ea463735-129a-42a1-bb36-02001d76eab3",
   "metadata": {},
   "outputs": [
    {
     "name": "stdout",
     "output_type": "stream",
     "text": [
      "Tue Mar 22 11:01:51 2022    llt.stats\n",
      "\n",
      "         118338 function calls (118330 primitive calls) in 0.479 seconds\n",
      "\n",
      "   Ordered by: cumulative time\n",
      "   List reduced from 137 to 20 due to restriction <20>\n",
      "\n",
      "   ncalls  tottime  percall  cumtime  percall filename:lineno(function)\n",
      "        1    0.000    0.000    0.479    0.479 {built-in method builtins.exec}\n",
      "        1    0.011    0.011    0.479    0.479 <string>:1(<module>)\n",
      "        1    0.010    0.010    0.468    0.468 /Users/olivne/ETS/eblp/src/eblp/ccpd.py:298(__init__)\n",
      "        1    0.015    0.015    0.286    0.286 /Users/olivne/ETS/eblp/src/eblp/ccpd.py:326(_build_hessian)\n",
      "        1    0.050    0.050    0.141    0.141 /Users/olivne/ETS/eblp/src/eblp/ccpd.py:373(_cross_term_ij)\n",
      "      6/2    0.000    0.000    0.127    0.064 /Users/olivne/opt/miniconda3/envs/eblp/lib/python3.9/site-packages/scipy/sparse/compressed.py:27(__init__)\n",
      "        2    0.000    0.000    0.124    0.062 /Users/olivne/opt/miniconda3/envs/eblp/lib/python3.9/site-packages/scipy/sparse/base.py:294(asformat)\n",
      "        2    0.000    0.000    0.124    0.062 /Users/olivne/opt/miniconda3/envs/eblp/lib/python3.9/site-packages/scipy/sparse/coo.py:372(tocsr)\n",
      "     5051    0.015    0.000    0.106    0.000 /Users/olivne/ETS/eblp/src/eblp/ccpd.py:332(<genexpr>)\n",
      "        2    0.091    0.045    0.091    0.045 {built-in method scipy.sparse._sparsetools.coo_tocsr}\n",
      "      117    0.082    0.001    0.082    0.001 {built-in method numpy.array}\n",
      "10153/10149    0.055    0.000    0.072    0.000 {built-in method numpy.core._multiarray_umath.implement_array_function}\n",
      "    10113    0.005    0.000    0.061    0.000 <__array_function__ internals>:2(concatenate)\n",
      "     5051    0.021    0.000    0.043    0.000 /Users/olivne/ETS/eblp/src/eblp/ccpd.py:334(<genexpr>)\n",
      "        2    0.000    0.000    0.033    0.016 /Users/olivne/opt/miniconda3/envs/eblp/lib/python3.9/site-packages/scipy/sparse/compressed.py:1099(sum_duplicates)\n",
      "        2    0.000    0.000    0.028    0.014 /Users/olivne/opt/miniconda3/envs/eblp/lib/python3.9/site-packages/scipy/sparse/compressed.py:1069(__get_has_canonical_format)\n",
      "        2    0.028    0.014    0.028    0.014 {built-in method scipy.sparse._sparsetools.csr_has_canonical_format}\n",
      "     5049    0.014    0.000    0.018    0.000 /Users/olivne/ETS/eblp/src/eblp/ccpd.py:389(<genexpr>)\n",
      "        1    0.000    0.000    0.017    0.017 /Users/olivne/ETS/eblp/src/eblp/ccpd.py:555(create_llt_mapping)\n",
      "        5    0.000    0.000    0.016    0.003 /Users/olivne/opt/miniconda3/envs/eblp/lib/python3.9/site-packages/numpy/core/fromnumeric.py:51(_wrapfunc)\n",
      "\n",
      "\n"
     ]
    },
    {
     "data": {
      "text/plain": [
       "<pstats.Stats at 0x184984af0>"
      ]
     },
     "execution_count": 22,
     "metadata": {},
     "output_type": "execute_result"
    }
   ],
   "source": [
    "cProfile.run('eblp.ccpd.LltFunctional(100)', 'llt.stats')\n",
    "p = pstats.Stats('llt.stats')\n",
    "p.sort_stats(SortKey.CUMULATIVE).print_stats(20)"
   ]
  },
  {
   "cell_type": "code",
   "execution_count": null,
   "id": "917cd122-6b9c-419c-a67b-864a4c8fce04",
   "metadata": {},
   "outputs": [],
   "source": []
  }
 ],
 "metadata": {
  "kernelspec": {
   "display_name": "Python 3 (ipykernel)",
   "language": "python",
   "name": "python3"
  },
  "language_info": {
   "codemirror_mode": {
    "name": "ipython",
    "version": 3
   },
   "file_extension": ".py",
   "mimetype": "text/x-python",
   "name": "python",
   "nbconvert_exporter": "python",
   "pygments_lexer": "ipython3",
   "version": "3.9.7"
  }
 },
 "nbformat": 4,
 "nbformat_minor": 5
}
